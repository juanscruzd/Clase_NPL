{
 "cells": [
  {
   "cell_type": "markdown",
   "metadata": {},
   "source": [
    "<img src='https://encrypted-tbn0.gstatic.com/images?q=tbn%3AANd9GcQ-VfNtOyJbsaxu43Kztf_cv1mgBG6ZIQZEVw&usqp=CAU'>\n",
    "\n",
    "# Procesamiento de Lenguage Natural\n",
    "\n",
    "## Taller #8: Modelado de temas\n",
    "`Fecha de entrega: 🎃Octubre 31, 2020. (Antes del inicio de la próxima clase).`\n",
    "\n",
    "`Modo de entrega: Subir link de GitHub al aula virtual.`\n",
    "\n",
    "### Presentado por: Juan Sebastian Cruz Dionicio"
   ]
  },
  {
   "cell_type": "code",
   "execution_count": 1,
   "metadata": {},
   "outputs": [
    {
     "name": "stderr",
     "output_type": "stream",
     "text": [
      "C:\\Users\\Sebastian Cruz\\Anaconda3\\lib\\site-packages\\scipy\\sparse\\sparsetools.py:21: DeprecationWarning: `scipy.sparse.sparsetools` is deprecated!\n",
      "scipy.sparse.sparsetools is a private module for scipy.sparse, and should not be used.\n",
      "  _deprecated()\n"
     ]
    }
   ],
   "source": [
    "import re\n",
    "import pandas as pd \n",
    "from pprint import pprint\n",
    "\n",
    "from nltk.corpus import stopwords\n",
    "stopwords = stopwords.words('spanish')\n",
    "\n",
    "import pyLDAvis.gensim\n",
    "from gensim.models import LdaModel\n",
    "from gensim.corpora import Dictionary\n",
    "\n",
    "import warnings\n",
    "warnings.filterwarnings(\"ignore\", category=DeprecationWarning)"
   ]
  },
  {
   "cell_type": "code",
   "execution_count": 7,
   "metadata": {},
   "outputs": [
    {
     "data": {
      "text/plain": [
       "'C:\\\\Users\\\\Sebastian Cruz\\\\Desktop\\\\Especializacion\\\\NLP\\\\Clase 10'"
      ]
     },
     "execution_count": 7,
     "metadata": {},
     "output_type": "execute_result"
    }
   ],
   "source": [
    "import os\n",
    "os.getcwd()"
   ]
  },
  {
   "cell_type": "code",
   "execution_count": 13,
   "metadata": {},
   "outputs": [
    {
     "data": {
      "text/html": [
       "<div>\n",
       "<style scoped>\n",
       "    .dataframe tbody tr th:only-of-type {\n",
       "        vertical-align: middle;\n",
       "    }\n",
       "\n",
       "    .dataframe tbody tr th {\n",
       "        vertical-align: top;\n",
       "    }\n",
       "\n",
       "    .dataframe thead th {\n",
       "        text-align: right;\n",
       "    }\n",
       "</style>\n",
       "<table border=\"1\" class=\"dataframe\">\n",
       "  <thead>\n",
       "    <tr style=\"text-align: right;\">\n",
       "      <th></th>\n",
       "      <th>review_id</th>\n",
       "      <th>product_id</th>\n",
       "      <th>reviewer_id</th>\n",
       "      <th>stars</th>\n",
       "      <th>review_body</th>\n",
       "      <th>review_title</th>\n",
       "      <th>language</th>\n",
       "      <th>product_category</th>\n",
       "    </tr>\n",
       "  </thead>\n",
       "  <tbody>\n",
       "    <tr>\n",
       "      <td>0</td>\n",
       "      <td>es_0825565</td>\n",
       "      <td>product_es_0370490</td>\n",
       "      <td>reviewer_es_0174781</td>\n",
       "      <td>3</td>\n",
       "      <td>Buen. Buena calidad, y buena presentación.</td>\n",
       "      <td>Contenta</td>\n",
       "      <td>es</td>\n",
       "      <td>jewelry</td>\n",
       "    </tr>\n",
       "    <tr>\n",
       "      <td>1</td>\n",
       "      <td>es_0227934</td>\n",
       "      <td>product_es_0354224</td>\n",
       "      <td>reviewer_es_0411613</td>\n",
       "      <td>3</td>\n",
       "      <td>Un producto a perfecto, para salir de casa con...</td>\n",
       "      <td>Versatilidad</td>\n",
       "      <td>es</td>\n",
       "      <td>video_games</td>\n",
       "    </tr>\n",
       "    <tr>\n",
       "      <td>2</td>\n",
       "      <td>es_0468601</td>\n",
       "      <td>product_es_0665460</td>\n",
       "      <td>reviewer_es_0348315</td>\n",
       "      <td>1</td>\n",
       "      <td>No funciona con Nintendo Switch. No hay forma ...</td>\n",
       "      <td>Decepción absoluta</td>\n",
       "      <td>es</td>\n",
       "      <td>video_games</td>\n",
       "    </tr>\n",
       "    <tr>\n",
       "      <td>3</td>\n",
       "      <td>es_0814494</td>\n",
       "      <td>product_es_0692692</td>\n",
       "      <td>reviewer_es_0951508</td>\n",
       "      <td>5</td>\n",
       "      <td>Recomendado, los utilizo para pc y no me dan n...</td>\n",
       "      <td>Auriculares Pecham ps4</td>\n",
       "      <td>es</td>\n",
       "      <td>video_games</td>\n",
       "    </tr>\n",
       "    <tr>\n",
       "      <td>4</td>\n",
       "      <td>es_0206329</td>\n",
       "      <td>product_es_0728826</td>\n",
       "      <td>reviewer_es_0493255</td>\n",
       "      <td>4</td>\n",
       "      <td>El cable funciona bien podria ser un poco mas ...</td>\n",
       "      <td>Perfecto</td>\n",
       "      <td>es</td>\n",
       "      <td>video_games</td>\n",
       "    </tr>\n",
       "  </tbody>\n",
       "</table>\n",
       "</div>"
      ],
      "text/plain": [
       "    review_id          product_id          reviewer_id  stars  \\\n",
       "0  es_0825565  product_es_0370490  reviewer_es_0174781      3   \n",
       "1  es_0227934  product_es_0354224  reviewer_es_0411613      3   \n",
       "2  es_0468601  product_es_0665460  reviewer_es_0348315      1   \n",
       "3  es_0814494  product_es_0692692  reviewer_es_0951508      5   \n",
       "4  es_0206329  product_es_0728826  reviewer_es_0493255      4   \n",
       "\n",
       "                                         review_body            review_title  \\\n",
       "0         Buen. Buena calidad, y buena presentación.                Contenta   \n",
       "1  Un producto a perfecto, para salir de casa con...            Versatilidad   \n",
       "2  No funciona con Nintendo Switch. No hay forma ...      Decepción absoluta   \n",
       "3  Recomendado, los utilizo para pc y no me dan n...  Auriculares Pecham ps4   \n",
       "4  El cable funciona bien podria ser un poco mas ...                Perfecto   \n",
       "\n",
       "  language product_category  \n",
       "0       es          jewelry  \n",
       "1       es      video_games  \n",
       "2       es      video_games  \n",
       "3       es      video_games  \n",
       "4       es      video_games  "
      ]
     },
     "execution_count": 13,
     "metadata": {},
     "output_type": "execute_result"
    }
   ],
   "source": [
    "# Cargar datos\n",
    "\n",
    "data = pd.read_csv(\"reviews_vidjew_es (1).csv\")\n",
    "data.head()"
   ]
  },
  {
   "cell_type": "markdown",
   "metadata": {},
   "source": [
    "###  `[12 pts]` Punto 1: Hacer pre-procesamiento del texto"
   ]
  },
  {
   "cell_type": "code",
   "execution_count": 14,
   "metadata": {},
   "outputs": [
    {
     "data": {
      "text/html": [
       "<div>\n",
       "<style scoped>\n",
       "    .dataframe tbody tr th:only-of-type {\n",
       "        vertical-align: middle;\n",
       "    }\n",
       "\n",
       "    .dataframe tbody tr th {\n",
       "        vertical-align: top;\n",
       "    }\n",
       "\n",
       "    .dataframe thead th {\n",
       "        text-align: right;\n",
       "    }\n",
       "</style>\n",
       "<table border=\"1\" class=\"dataframe\">\n",
       "  <thead>\n",
       "    <tr style=\"text-align: right;\">\n",
       "      <th></th>\n",
       "      <th>review_id</th>\n",
       "      <th>product_id</th>\n",
       "      <th>reviewer_id</th>\n",
       "      <th>stars</th>\n",
       "      <th>review_body</th>\n",
       "      <th>review_title</th>\n",
       "      <th>language</th>\n",
       "      <th>product_category</th>\n",
       "      <th>pp</th>\n",
       "    </tr>\n",
       "  </thead>\n",
       "  <tbody>\n",
       "    <tr>\n",
       "      <td>0</td>\n",
       "      <td>es_0825565</td>\n",
       "      <td>product_es_0370490</td>\n",
       "      <td>reviewer_es_0174781</td>\n",
       "      <td>3</td>\n",
       "      <td>Buen. Buena calidad, y buena presentación.</td>\n",
       "      <td>Contenta</td>\n",
       "      <td>es</td>\n",
       "      <td>jewelry</td>\n",
       "      <td>[buen, buena, calidad, buena, presentación]</td>\n",
       "    </tr>\n",
       "    <tr>\n",
       "      <td>1</td>\n",
       "      <td>es_0227934</td>\n",
       "      <td>product_es_0354224</td>\n",
       "      <td>reviewer_es_0411613</td>\n",
       "      <td>3</td>\n",
       "      <td>Un producto a perfecto, para salir de casa con...</td>\n",
       "      <td>Versatilidad</td>\n",
       "      <td>es</td>\n",
       "      <td>video_games</td>\n",
       "      <td>[producto, perfecto, salir, casa, nintendo, sw...</td>\n",
       "    </tr>\n",
       "    <tr>\n",
       "      <td>2</td>\n",
       "      <td>es_0468601</td>\n",
       "      <td>product_es_0665460</td>\n",
       "      <td>reviewer_es_0348315</td>\n",
       "      <td>1</td>\n",
       "      <td>No funciona con Nintendo Switch. No hay forma ...</td>\n",
       "      <td>Decepción absoluta</td>\n",
       "      <td>es</td>\n",
       "      <td>video_games</td>\n",
       "      <td>[funciona, nintendo, switch, forma, emparejarl...</td>\n",
       "    </tr>\n",
       "    <tr>\n",
       "      <td>3</td>\n",
       "      <td>es_0814494</td>\n",
       "      <td>product_es_0692692</td>\n",
       "      <td>reviewer_es_0951508</td>\n",
       "      <td>5</td>\n",
       "      <td>Recomendado, los utilizo para pc y no me dan n...</td>\n",
       "      <td>Auriculares Pecham ps4</td>\n",
       "      <td>es</td>\n",
       "      <td>video_games</td>\n",
       "      <td>[recomendado, utilizo, pc, dan, ningún, proble...</td>\n",
       "    </tr>\n",
       "    <tr>\n",
       "      <td>4</td>\n",
       "      <td>es_0206329</td>\n",
       "      <td>product_es_0728826</td>\n",
       "      <td>reviewer_es_0493255</td>\n",
       "      <td>4</td>\n",
       "      <td>El cable funciona bien podria ser un poco mas ...</td>\n",
       "      <td>Perfecto</td>\n",
       "      <td>es</td>\n",
       "      <td>video_games</td>\n",
       "      <td>[cable, funciona, bien, podria, ser, mas, larg...</td>\n",
       "    </tr>\n",
       "  </tbody>\n",
       "</table>\n",
       "</div>"
      ],
      "text/plain": [
       "    review_id          product_id          reviewer_id  stars  \\\n",
       "0  es_0825565  product_es_0370490  reviewer_es_0174781      3   \n",
       "1  es_0227934  product_es_0354224  reviewer_es_0411613      3   \n",
       "2  es_0468601  product_es_0665460  reviewer_es_0348315      1   \n",
       "3  es_0814494  product_es_0692692  reviewer_es_0951508      5   \n",
       "4  es_0206329  product_es_0728826  reviewer_es_0493255      4   \n",
       "\n",
       "                                         review_body            review_title  \\\n",
       "0         Buen. Buena calidad, y buena presentación.                Contenta   \n",
       "1  Un producto a perfecto, para salir de casa con...            Versatilidad   \n",
       "2  No funciona con Nintendo Switch. No hay forma ...      Decepción absoluta   \n",
       "3  Recomendado, los utilizo para pc y no me dan n...  Auriculares Pecham ps4   \n",
       "4  El cable funciona bien podria ser un poco mas ...                Perfecto   \n",
       "\n",
       "  language product_category                                                 pp  \n",
       "0       es          jewelry        [buen, buena, calidad, buena, presentación]  \n",
       "1       es      video_games  [producto, perfecto, salir, casa, nintendo, sw...  \n",
       "2       es      video_games  [funciona, nintendo, switch, forma, emparejarl...  \n",
       "3       es      video_games  [recomendado, utilizo, pc, dan, ningún, proble...  \n",
       "4       es      video_games  [cable, funciona, bien, podria, ser, mas, larg...  "
      ]
     },
     "execution_count": 14,
     "metadata": {},
     "output_type": "execute_result"
    }
   ],
   "source": [
    "def pre_procesado(texto):\n",
    "\n",
    "     texto = texto.lower()\n",
    "\n",
    "     texto = re.sub(r\"[\\W\\d_]+\", \" \", texto)\n",
    "\n",
    "     texto = [palabra for palabra in texto.split() if palabra not in stopwords]\n",
    "\n",
    "     return texto\n",
    " \n",
    "data['pp'] = data['review_body'].apply(lambda texto: pre_procesado(texto))\n",
    " \n",
    "data.head()"
   ]
  },
  {
   "cell_type": "markdown",
   "metadata": {},
   "source": [
    "###  `[13 pts]` Punto 2: Modelo de LDA"
   ]
  },
  {
   "cell_type": "code",
   "execution_count": 15,
   "metadata": {},
   "outputs": [],
   "source": [
    "# Crear una representación de los documentos en forma de diccionario\n",
    "dictionary = Dictionary(data['pp'].values)\n",
    "\n",
    "\n",
    "# Filtrar palabras muy frecuentes o infrecuentes\n",
    "dictionary.filter_extremes(no_below=5, no_above=0.5)\n",
    " \n",
    "corpus = [dictionary.doc2bow(text) for text in data['pp'].values]\n",
    "\n",
    "\n",
    "#Train the topic model\n",
    "model = LdaModel(corpus=corpus, id2word=dictionary, num_topics=7, passes=100)"
   ]
  },
  {
   "cell_type": "markdown",
   "metadata": {},
   "source": [
    "###  `[25 pts]` Punto 3: Visualización de LDA"
   ]
  },
  {
   "cell_type": "code",
   "execution_count": 16,
   "metadata": {},
   "outputs": [
    {
     "data": {
      "text/plain": [
       "[(0,\n",
       "  '0.037*\"precio\" + 0.025*\"amazon\" + 0.021*\"puede\" + 0.018*\"pendientes\" + 0.014*\"compré\" + 0.013*\"mejor\" + 0.013*\"bueno\" + 0.012*\"comprar\" + 0.012*\"calidad\" + 0.011*\"si\"'),\n",
       " (1,\n",
       "  '0.044*\"llegó\" + 0.040*\"día\" + 0.022*\"producto\" + 0.018*\"correcto\" + 0.016*\"bien\" + 0.015*\"entrega\" + 0.015*\"plástico\" + 0.013*\"demás\" + 0.013*\"nunca\" + 0.012*\"mas\"'),\n",
       " (2,\n",
       "  '0.061*\"si\" + 0.034*\"mando\" + 0.031*\"bien\" + 0.022*\"ps\" + 0.020*\"original\" + 0.019*\"solo\" + 0.016*\"cable\" + 0.015*\"puede\" + 0.015*\"switch\" + 0.013*\"jugar\"'),\n",
       " (3,\n",
       "  '0.085*\"calidad\" + 0.046*\"buena\" + 0.046*\"precio\" + 0.045*\"bien\" + 0.039*\"producto\" + 0.030*\"buen\" + 0.025*\"bastante\" + 0.022*\"compra\" + 0.017*\"regalo\" + 0.017*\"gustado\"'),\n",
       " (4,\n",
       "  '0.039*\"bonito\" + 0.032*\"bien\" + 0.027*\"caja\" + 0.023*\"plata\" + 0.022*\"llego\" + 0.022*\"dos\" + 0.019*\"mal\" + 0.018*\"producto\" + 0.015*\"juego\" + 0.015*\"llegado\"'),\n",
       " (5,\n",
       "  '0.106*\"juego\" + 0.031*\"perfecto\" + 0.023*\"gracias\" + 0.018*\"igual\" + 0.016*\"producto\" + 0.015*\"foto\" + 0.015*\"español\" + 0.014*\"regalo\" + 0.013*\"hacer\" + 0.012*\"perfectamente\"'),\n",
       " (6,\n",
       "  '0.034*\"bien\" + 0.030*\"tamaño\" + 0.030*\"cadena\" + 0.026*\"foto\" + 0.025*\"queda\" + 0.024*\"bonitos\" + 0.022*\"pulsera\" + 0.022*\"grande\" + 0.019*\"aunque\" + 0.019*\"pequeños\"')]"
      ]
     },
     "execution_count": 16,
     "metadata": {},
     "output_type": "execute_result"
    }
   ],
   "source": [
    "model.print_topics(num_words=10)"
   ]
  },
  {
   "cell_type": "code",
   "execution_count": 17,
   "metadata": {},
   "outputs": [
    {
     "name": "stderr",
     "output_type": "stream",
     "text": [
      "C:\\Users\\Sebastian Cruz\\Anaconda3\\lib\\site-packages\\pyLDAvis\\_prepare.py:257: FutureWarning: Sorting because non-concatenation axis is not aligned. A future version\n",
      "of pandas will change to not sort by default.\n",
      "\n",
      "To accept the future behavior, pass 'sort=False'.\n",
      "\n",
      "To retain the current behavior and silence the warning, pass 'sort=True'.\n",
      "\n",
      "  return pd.concat([default_term_info] + list(topic_dfs))\n"
     ]
    },
    {
     "data": {
      "text/html": [
       "\n",
       "<link rel=\"stylesheet\" type=\"text/css\" href=\"https://cdn.rawgit.com/bmabey/pyLDAvis/files/ldavis.v1.0.0.css\">\n",
       "\n",
       "\n",
       "<div id=\"ldavis_el1390427266397754328590264895\"></div>\n",
       "<script type=\"text/javascript\">\n",
       "\n",
       "var ldavis_el1390427266397754328590264895_data = {\"mdsDat\": {\"x\": [-0.04241710221138045, -0.08102777242877246, 0.00473525636409096, -0.22552565744605962, 0.01959938238263513, 0.09714003224582791, 0.22749586109365874], \"y\": [-0.2196439599171072, 0.18075252595580832, -0.05230680236187178, -0.029801005656250337, 0.1095195527794063, 0.04527598388474658, -0.03379629468473224], \"topics\": [1, 2, 3, 4, 5, 6, 7], \"cluster\": [1, 1, 1, 1, 1, 1, 1], \"Freq\": [17.085735321044922, 16.168867111206055, 14.224449157714844, 14.129921913146973, 13.779084205627441, 12.835121154785156, 11.776812553405762]}, \"tinfo\": {\"Category\": [\"Default\", \"Default\", \"Default\", \"Default\", \"Default\", \"Default\", \"Default\", \"Default\", \"Default\", \"Default\", \"Default\", \"Default\", \"Default\", \"Default\", \"Default\", \"Default\", \"Default\", \"Default\", \"Default\", \"Default\", \"Default\", \"Default\", \"Default\", \"Default\", \"Default\", \"Default\", \"Default\", \"Default\", \"Default\", \"Default\", \"Topic1\", \"Topic1\", \"Topic1\", \"Topic1\", \"Topic1\", \"Topic1\", \"Topic1\", \"Topic1\", \"Topic1\", \"Topic1\", \"Topic1\", \"Topic1\", \"Topic1\", \"Topic1\", \"Topic1\", \"Topic1\", \"Topic1\", \"Topic1\", \"Topic1\", \"Topic1\", \"Topic1\", \"Topic1\", \"Topic1\", \"Topic1\", \"Topic1\", \"Topic1\", \"Topic1\", \"Topic1\", \"Topic1\", \"Topic1\", \"Topic1\", \"Topic1\", \"Topic1\", \"Topic1\", \"Topic1\", \"Topic1\", \"Topic1\", \"Topic1\", \"Topic1\", \"Topic1\", \"Topic1\", \"Topic1\", \"Topic1\", \"Topic1\", \"Topic1\", \"Topic1\", \"Topic1\", \"Topic1\", \"Topic1\", \"Topic1\", \"Topic2\", \"Topic2\", \"Topic2\", \"Topic2\", \"Topic2\", \"Topic2\", \"Topic2\", \"Topic2\", \"Topic2\", \"Topic2\", \"Topic2\", \"Topic2\", \"Topic2\", \"Topic2\", \"Topic2\", \"Topic2\", \"Topic2\", \"Topic2\", \"Topic2\", \"Topic2\", \"Topic2\", \"Topic2\", \"Topic2\", \"Topic2\", \"Topic2\", \"Topic2\", \"Topic2\", \"Topic2\", \"Topic2\", \"Topic2\", \"Topic2\", \"Topic2\", \"Topic2\", \"Topic2\", \"Topic2\", \"Topic2\", \"Topic2\", \"Topic2\", \"Topic2\", \"Topic2\", \"Topic2\", \"Topic2\", \"Topic2\", \"Topic2\", \"Topic2\", \"Topic2\", \"Topic3\", \"Topic3\", \"Topic3\", \"Topic3\", \"Topic3\", \"Topic3\", \"Topic3\", \"Topic3\", \"Topic3\", \"Topic3\", \"Topic3\", \"Topic3\", \"Topic3\", \"Topic3\", \"Topic3\", \"Topic3\", \"Topic3\", \"Topic3\", \"Topic3\", \"Topic3\", \"Topic3\", \"Topic3\", \"Topic3\", \"Topic3\", \"Topic3\", \"Topic3\", \"Topic3\", \"Topic3\", \"Topic3\", \"Topic3\", \"Topic3\", \"Topic3\", \"Topic3\", \"Topic3\", \"Topic3\", \"Topic3\", \"Topic3\", \"Topic3\", \"Topic3\", \"Topic3\", \"Topic3\", \"Topic3\", \"Topic3\", \"Topic3\", \"Topic3\", \"Topic3\", \"Topic3\", \"Topic3\", \"Topic3\", \"Topic3\", \"Topic3\", \"Topic4\", \"Topic4\", \"Topic4\", \"Topic4\", \"Topic4\", \"Topic4\", \"Topic4\", \"Topic4\", \"Topic4\", \"Topic4\", \"Topic4\", \"Topic4\", \"Topic4\", \"Topic4\", \"Topic4\", \"Topic4\", \"Topic4\", \"Topic4\", \"Topic4\", \"Topic4\", \"Topic4\", \"Topic4\", \"Topic4\", \"Topic4\", \"Topic4\", \"Topic4\", \"Topic4\", \"Topic4\", \"Topic4\", \"Topic4\", \"Topic4\", \"Topic4\", \"Topic4\", \"Topic4\", \"Topic4\", \"Topic4\", \"Topic4\", \"Topic4\", \"Topic4\", \"Topic4\", \"Topic4\", \"Topic4\", \"Topic4\", \"Topic4\", \"Topic4\", \"Topic5\", \"Topic5\", \"Topic5\", \"Topic5\", \"Topic5\", \"Topic5\", \"Topic5\", \"Topic5\", \"Topic5\", \"Topic5\", \"Topic5\", \"Topic5\", \"Topic5\", \"Topic5\", \"Topic5\", \"Topic5\", \"Topic5\", \"Topic5\", \"Topic5\", \"Topic5\", \"Topic5\", \"Topic5\", \"Topic5\", \"Topic5\", \"Topic5\", \"Topic5\", \"Topic5\", \"Topic5\", \"Topic5\", \"Topic5\", \"Topic5\", \"Topic5\", \"Topic5\", \"Topic5\", \"Topic5\", \"Topic5\", \"Topic5\", \"Topic5\", \"Topic5\", \"Topic5\", \"Topic5\", \"Topic5\", \"Topic5\", \"Topic5\", \"Topic5\", \"Topic5\", \"Topic5\", \"Topic5\", \"Topic5\", \"Topic5\", \"Topic5\", \"Topic5\", \"Topic5\", \"Topic5\", \"Topic5\", \"Topic5\", \"Topic6\", \"Topic6\", \"Topic6\", \"Topic6\", \"Topic6\", \"Topic6\", \"Topic6\", \"Topic6\", \"Topic6\", \"Topic6\", \"Topic6\", \"Topic6\", \"Topic6\", \"Topic6\", \"Topic6\", \"Topic6\", \"Topic6\", \"Topic6\", \"Topic6\", \"Topic6\", \"Topic6\", \"Topic6\", \"Topic6\", \"Topic6\", \"Topic6\", \"Topic6\", \"Topic6\", \"Topic6\", \"Topic6\", \"Topic6\", \"Topic6\", \"Topic6\", \"Topic6\", \"Topic6\", \"Topic6\", \"Topic6\", \"Topic6\", \"Topic6\", \"Topic6\", \"Topic6\", \"Topic6\", \"Topic6\", \"Topic6\", \"Topic6\", \"Topic6\", \"Topic6\", \"Topic6\", \"Topic6\", \"Topic6\", \"Topic6\", \"Topic7\", \"Topic7\", \"Topic7\", \"Topic7\", \"Topic7\", \"Topic7\", \"Topic7\", \"Topic7\", \"Topic7\", \"Topic7\", \"Topic7\", \"Topic7\", \"Topic7\", \"Topic7\", \"Topic7\", \"Topic7\", \"Topic7\", \"Topic7\", \"Topic7\", \"Topic7\", \"Topic7\", \"Topic7\", \"Topic7\", \"Topic7\", \"Topic7\", \"Topic7\", \"Topic7\", \"Topic7\", \"Topic7\", \"Topic7\", \"Topic7\", \"Topic7\", \"Topic7\", \"Topic7\", \"Topic7\", \"Topic7\", \"Topic7\", \"Topic7\", \"Topic7\", \"Topic7\", \"Topic7\", \"Topic7\", \"Topic7\", \"Topic7\", \"Topic7\", \"Topic7\", \"Topic7\", \"Topic7\", \"Topic7\", \"Topic7\"], \"Freq\": [117.0, 142.0, 64.0, 43.0, 115.0, 113.0, 49.0, 63.0, 52.0, 104.0, 32.0, 34.0, 184.0, 35.0, 29.0, 52.0, 51.0, 21.0, 35.0, 59.0, 46.0, 39.0, 33.0, 52.0, 60.0, 21.0, 39.0, 33.0, 29.0, 34.0, 28.441129684448242, 14.288093566894531, 9.57076358795166, 9.556234359741211, 18.896047592163086, 20.527807235717773, 6.738624095916748, 15.131905555725098, 5.795271873474121, 5.795093536376953, 5.72747802734375, 4.851019382476807, 4.850821495056152, 44.47652053833008, 7.521376132965088, 6.739894866943359, 25.51582145690918, 6.6352949142456055, 4.85071325302124, 8.28565502166748, 4.813357830047607, 5.505271911621094, 4.799976825714111, 6.750250816345215, 11.315902709960938, 3.9056036472320557, 16.331022262573242, 10.436589241027832, 78.40650177001953, 3.9092302322387695, 12.690536499023438, 15.474225044250488, 24.663349151611328, 11.481279373168945, 8.929059028625488, 9.883700370788574, 16.44355583190918, 8.904692649841309, 19.9825496673584, 39.87295150756836, 9.476898193359375, 11.015403747558594, 14.58050537109375, 13.353635787963867, 11.19576644897461, 11.532285690307617, 11.107569694519043, 9.429190635681152, 9.933442115783691, 10.211959838867188, 10.211236000061035, 8.378499984741211, 8.377476692199707, 7.462462425231934, 13.777554512023926, 56.67314529418945, 5.594803810119629, 20.09876251220703, 10.020458221435547, 27.42073631286621, 11.95462417602539, 9.121126174926758, 14.42104721069336, 6.15078067779541, 104.56553649902344, 4.711125373840332, 6.377050399780273, 3.7965714931488037, 3.792052984237671, 3.797140598297119, 4.320271015167236, 16.015560150146484, 3.696218967437744, 5.505984783172607, 5.4639434814453125, 5.358752250671387, 5.315951347351074, 20.65186882019043, 5.630559921264648, 36.360084533691406, 30.640914916992188, 56.126739501953125, 47.525482177734375, 10.83037281036377, 10.263028144836426, 54.60591125488281, 12.41408920288086, 20.967708587646484, 7.201289653778076, 17.857364654541016, 17.919139862060547, 11.455906867980957, 11.646843910217285, 10.087841033935547, 8.72099781036377, 8.117744445800781, 8.539981842041016, 6.67287015914917, 4.8037800788879395, 4.803636074066162, 4.800530433654785, 14.14777946472168, 6.6191534996032715, 5.5504279136657715, 13.791756629943848, 7.566898345947266, 15.440698623657227, 5.356493949890137, 24.675182342529297, 23.96725082397461, 9.204448699951172, 5.236931324005127, 3.870394229888916, 14.024938583374023, 5.738548755645752, 6.976766586303711, 41.77517318725586, 5.577639102935791, 4.804074287414551, 3.566519021987915, 5.306220531463623, 4.68996000289917, 4.612720489501953, 3.440927267074585, 28.597999572753906, 4.556405544281006, 23.474515914916992, 20.957462310791016, 10.439065933227539, 8.142464637756348, 7.437345027923584, 6.634828090667725, 13.690443992614746, 34.6803092956543, 15.745348930358887, 13.175006866455078, 9.766645431518555, 19.278343200683594, 7.961632251739502, 11.084480285644531, 15.812713623046875, 6.51835823059082, 8.368193626403809, 8.408480644226074, 9.31362533569336, 7.286216735839844, 7.428388595581055, 31.836196899414062, 20.64735984802246, 32.01728057861328, 8.525453567504883, 13.11121940612793, 4.793735027313232, 7.841136455535889, 23.599651336669922, 20.459470748901367, 5.7272419929504395, 5.7274909019470215, 5.678089141845703, 18.496070861816406, 26.658153533935547, 4.79620885848999, 4.797046661376953, 4.7792067527771, 11.628469467163086, 3.862311363220215, 25.218929290771484, 23.96335792541504, 4.794959545135498, 4.156826019287109, 5.726836204528809, 11.757174491882324, 14.550201416015625, 3.8473453521728516, 4.934266090393066, 12.434011459350586, 5.361555099487305, 16.452714920043945, 27.960329055786133, 20.848360061645508, 20.24428939819336, 10.343710899353027, 36.08457946777344, 16.55082130432129, 9.479635238647461, 14.518664360046387, 10.474827766418457, 18.492311477661133, 14.98791217803955, 8.742476463317871, 7.5541863441467285, 8.598681449890137, 11.485518455505371, 9.660531044006348, 8.708942413330078, 7.755843639373779, 5.850668430328369, 5.849992275238037, 4.898434162139893, 4.898220539093018, 4.8981547355651855, 4.8978271484375, 4.897470951080322, 4.897209167480469, 9.575765609741211, 5.852654933929443, 7.913933753967285, 5.756148815155029, 7.72642183303833, 4.898716926574707, 4.898676872253418, 4.869034767150879, 25.63405990600586, 4.753384113311768, 7.341398239135742, 3.9460716247558594, 3.944430351257324, 3.905283212661743, 5.858071327209473, 3.780350923538208, 3.770969867706299, 4.898191928863525, 18.403305053710938, 7.82180118560791, 9.696224212646484, 14.134116172790527, 9.534658432006836, 13.04196834564209, 21.909420013427734, 38.43092727661133, 12.711956024169922, 11.195646286010742, 10.211320877075195, 13.766997337341309, 9.32619571685791, 7.5470685958862305, 8.929936408996582, 7.920073509216309, 9.471003532409668, 7.661501407623291, 11.303791046142578, 9.559623718261719, 7.837019920349121, 12.65221118927002, 11.51672649383545, 9.716508865356445, 8.840093612670898, 8.548255920410156, 42.534934997558594, 17.09950828552246, 6.6952223777771, 5.7889909744262695, 4.847187519073486, 39.19108200073242, 14.236530303955078, 11.176104545593262, 4.847463130950928, 7.608216762542725, 4.8098344802856445, 12.845865249633789, 3.9052674770355225, 3.810676336288452, 6.325565338134766, 8.979491233825684, 9.560112953186035, 14.657426834106445, 5.791495323181152, 5.108957290649414, 3.9041805267333984, 12.277679443359375, 4.978013515472412, 9.5059814453125, 4.098548889160156, 3.9057674407958984, 5.813812255859375, 3.9032979011535645, 4.846213340759277, 4.84677267074585, 10.40680980682373, 9.227886199951172, 6.77233362197876, 6.64070463180542, 10.617454528808594, 7.779568195343018, 21.277807235717773, 8.407114028930664, 8.875486373901367, 10.747261047363281, 8.127790451049805, 12.043010711669922, 10.684651374816895, 15.61132526397705, 10.220992088317871, 9.510163307189941, 8.247255325317383, 10.396232604980469, 9.054120063781738, 8.335664749145508, 20.92865753173828, 8.640538215637207, 7.694976806640625, 6.751118183135986, 6.748574733734131, 15.815064430236816, 5.806117057800293, 4.8605732917785645, 4.607102394104004, 7.600210666656494, 7.575709819793701, 94.32028198242188, 5.721879005432129, 13.160512924194336, 5.531133651733398, 8.202506065368652, 4.793910503387451, 3.915422201156616, 3.9157121181488037, 3.9153144359588623, 7.159952163696289, 3.8238675594329834, 3.7273547649383545, 9.738482475280762, 3.9129221439361572, 3.9161312580108643, 8.716817855834961, 3.8177289962768555, 4.894038200378418, 11.389660835266113, 6.420467853546143, 9.425336837768555, 7.936339855194092, 27.73984146118164, 5.742188453674316, 10.287102699279785, 8.825887680053711, 9.004632949829102, 7.455071449279785, 13.74728775024414, 11.018542289733887, 12.911754608154297, 9.831367492675781, 14.430436134338379, 8.852291107177734, 8.860990524291992, 8.745701789855957, 8.743707656860352, 8.26690673828125, 8.553580284118652], \"Term\": [\"juego\", \"calidad\", \"buena\", \"lleg\\u00f3\", \"precio\", \"si\", \"d\\u00eda\", \"bonito\", \"mando\", \"producto\", \"cadena\", \"tama\\u00f1o\", \"bien\", \"amazon\", \"ps\", \"foto\", \"puede\", \"gracias\", \"queda\", \"perfecto\", \"caja\", \"bonitos\", \"compra\", \"bastante\", \"buen\", \"peque\\u00f1os\", \"dos\", \"llego\", \"grande\", \"plata\", \"ps\", \"carga\", \"pc\", \"gustan\", \"switch\", \"cable\", \"funcionar\", \"nintendo\", \"quieres\", \"usar\", \"adecuado\", \"acero\", \"puesta\", \"mando\", \"conectar\", \"pantalla\", \"original\", \"cabe\", \"hola\", \"cargador\", \"respecto\", \"play\", \"cerrar\", \"poder\", \"caso\", \"perfecta\", \"juegos\", \"mandos\", \"si\", \"entra\", \"tener\", \"menos\", \"solo\", \"da\", \"puedes\", \"hijo\", \"jugar\", \"versi\\u00f3n\", \"puede\", \"bien\", \"q\", \"va\", \"as\\u00ed\", \"funciona\", \"problema\", \"mejor\", \"aunque\", \"puedo\", \"mal\", \"mas\", \"rapido\", \"baja\", \"contento\", \"relaci\\u00f3n\", \"collar\", \"buena\", \"funci\\u00f3n\", \"cumple\", \"contenta\", \"compra\", \"envio\", \"expectativas\", \"dise\\u00f1o\", \"presentaci\\u00f3n\", \"calidad\", \"piedras\", \"sigue\", \"largo\", \"juegazo\", \"rapidez\", \"ningun\", \"mala\", \"conjunto\", \"corresponde\", \"ajusta\", \"general\", \"hija\", \"gustado\", \"ideal\", \"buen\", \"bastante\", \"precio\", \"producto\", \"gusto\", \"material\", \"bien\", \"recomiendo\", \"regalo\", \"excelente\", \"bonito\", \"mas\", \"perfectamente\", \"tiempo\", \"peque\\u00f1o\", \"colgante\", \"quedan\", \"anillo\", \"venia\", \"instrucciones\", \"buscaba\", \"simplemente\", \"trae\", \"fino\", \"encajan\", \"dentro\", \"caro\", \"momento\", \"dedo\", \"plata\", \"llego\", \"espero\", \"transporte\", \"opinar\", \"consola\", \"embalaje\", \"piedra\", \"bonito\", \"ninguna\", \"primero\", \"ni\\u00f1os\", \"mejores\", \"negro\", \"parecido\", \"pocas\", \"caja\", \"quedado\", \"dos\", \"mal\", \"meses\", \"dia\", \"compre\", \"xbox\", \"viene\", \"bien\", \"llegado\", \"as\\u00ed\", \"verdad\", \"producto\", \"puesto\", \"tiempo\", \"juego\", \"todav\\u00eda\", \"tal\", \"parte\", \"si\", \"puedo\", \"foto\", \"cadena\", \"peque\\u00f1os\", \"tama\\u00f1o\", \"rompi\\u00f3\", \"fina\", \"lamentable\", \"pandora\", \"grande\", \"bonita\", \"primer\", \"gr\\u00e1ficos\", \"pulseras\", \"grandes\", \"queda\", \"perdi\\u00f3\", \"dorado\", \"ven\", \"peque\\u00f1a\", \"quiz\\u00e1\", \"bonitos\", \"pulsera\", \"bolsa\", \"perdido\", \"sirve\", \"poner\", \"cierre\", \"corta\", \"veo\", \"color\", \"preciosa\", \"demasiado\", \"foto\", \"aunque\", \"parece\", \"problema\", \"bien\", \"regalo\", \"colgante\", \"mas\", \"esperaba\", \"calidad\", \"precio\", \"peque\\u00f1o\", \"pone\", \"dos\", \"aun\", \"devuelto\", \"esperando\", \"bonitas\", \"fan\", \"much\\u00edsimo\", \"bajo\", \"pienso\", \"media\", \"piel\", \"junto\", \"negra\", \"van\", \"hacen\", \"ni\\u00f1as\", \"fecha\", \"c\\u00f3modo\", \"llegaron\", \"valen\", \"peque\\u00f1as\", \"amazon\", \"ponen\", \"cosas\", \"opini\\u00f3n\", \"enviaron\", \"nadie\", \"marca\", \"super\", \"compro\", \"elegantes\", \"pendientes\", \"aspecto\", \"siempre\", \"compr\\u00e9\", \"cosa\", \"bueno\", \"puede\", \"precio\", \"comprar\", \"tan\", \"pedir\", \"mejor\", \"vale\", \"tampoco\", \"recomendable\", \"servicio\", \"verdad\", \"creo\", \"llegado\", \"pena\", \"art\\u00edculo\", \"calidad\", \"si\", \"bastante\", \"d\\u00eda\", \"parece\", \"lleg\\u00f3\", \"correcto\", \"previsto\", \"divertido\", \"repartidor\", \"d\\u00eda\", \"pl\\u00e1stico\", \"comprado\", \"imposible\", \"hoy\", \"plazo\", \"dem\\u00e1s\", \"anuncio\", \"empresa\", \"rat\\u00f3n\", \"ped\\u00ed\", \"entregado\", \"entrega\", \"f\\u00e1cil\", \"castellano\", \"prime\", \"nunca\", \"haber\", \"llega\", \"condiciones\", \"dicen\", \"persona\", \"ayuda\", \"esperar\", \"devoluci\\u00f3n\", \"env\\u00edo\", \"roto\", \"nota\", \"casi\", \"despu\\u00e9s\", \"gran\", \"producto\", \"ve\", \"sido\", \"tiempo\", \"pedido\", \"mas\", \"llegado\", \"bien\", \"perfecto\", \"parece\", \"jugar\", \"si\", \"buen\", \"solo\", \"gracias\", \"vino\", \"italiano\", \"entretenido\", \"realidad\", \"igual\", \"peor\", \"familia\", \"c\\u00f3digo\", \"horas\", \"buenos\", \"juego\", \"alta\", \"espa\\u00f1ol\", \"gust\\u00f3\", \"saga\", \"enga\\u00f1o\", \"rato\", \"videojuegos\", \"venga\", \"historia\", \"consolas\", \"tra\\u00eda\", \"nuevo\", \"sistema\", \"deber\\u00edan\", \"ver\", \"decepcionado\", \"visto\", \"hacer\", \"decepci\\u00f3n\", \"muchas\", \"ven\\u00eda\", \"perfecto\", \"pasa\", \"pedido\", \"vale\", \"r\\u00e1pido\", \"llegar\", \"foto\", \"perfectamente\", \"regalo\", \"ser\", \"producto\", \"funciona\", \"amazon\", \"jugar\", \"puede\", \"esperaba\", \"bastante\"], \"Total\": [117.0, 142.0, 64.0, 43.0, 115.0, 113.0, 49.0, 63.0, 52.0, 104.0, 32.0, 34.0, 184.0, 35.0, 29.0, 52.0, 51.0, 21.0, 35.0, 59.0, 46.0, 39.0, 33.0, 52.0, 60.0, 21.0, 39.0, 33.0, 29.0, 34.0, 29.246749877929688, 15.092329025268555, 10.374297142028809, 10.373823165893555, 20.764013290405273, 22.603612899780273, 7.543153762817383, 16.94936180114746, 6.59957218170166, 6.599544048309326, 6.599198818206787, 5.655782222747803, 5.655717849731445, 52.76716232299805, 9.4292573928833, 8.477449417114258, 32.10595703125, 8.476243019104004, 6.5880913734436035, 11.295586585998535, 6.587836265563965, 7.5453290939331055, 6.60861349105835, 9.428256034851074, 16.009016036987305, 5.6279520988464355, 23.54021453857422, 15.054100036621094, 113.23834228515625, 5.654914379119873, 18.759319305419922, 24.454660415649414, 46.20679473876953, 18.789060592651367, 14.07123851776123, 16.044845581054688, 33.97053909301758, 14.155916213989258, 51.169525146484375, 184.45843505859375, 16.017757415771484, 22.62613868713379, 40.3958740234375, 34.748374938964844, 24.343210220336914, 35.91344451904297, 43.0333251953125, 21.600074768066406, 36.527320861816406, 64.34346771240234, 11.01930046081543, 9.186314582824707, 9.186281204223633, 8.269915580749512, 15.641563415527344, 64.3935775756836, 6.437750816345215, 23.94227409362793, 11.970215797424316, 33.1538200378418, 14.760802268981934, 12.014671325683594, 19.33803367614746, 8.308520317077637, 142.094482421875, 6.454141616821289, 9.234050750732422, 5.545954704284668, 5.5483174324035645, 5.55626916885376, 6.459421157836914, 23.99042320251465, 5.560307502746582, 8.30537223815918, 8.3174467086792, 8.334196090698242, 8.33696460723877, 32.405147552490234, 9.266160011291504, 60.29966735839844, 52.9778938293457, 115.51197052001953, 104.08605194091797, 20.494873046875, 20.37919044494629, 184.45843505859375, 27.897733688354492, 61.42692947387695, 13.011275291442871, 63.21482849121094, 64.34346771240234, 37.368080139160156, 42.01362609863281, 29.723297119140625, 25.044462203979492, 22.38515853881836, 9.346015930175781, 7.47778844833374, 5.609186172485352, 5.609128952026367, 5.608674049377441, 16.836639404296875, 8.420629501342773, 7.456165790557861, 18.729625701904297, 10.302639961242676, 21.48140525817871, 7.452454090118408, 34.60637664794922, 33.72944641113281, 13.063240051269531, 7.490335464477539, 5.6183180809021, 20.614465713500977, 8.440911293029785, 10.275521278381348, 63.21482849121094, 8.451324462890625, 7.494233131408691, 5.620002269744873, 8.429201126098633, 7.497647285461426, 7.438392162322998, 5.623143672943115, 46.96406936645508, 7.499137878417969, 39.283748626708984, 36.527320861816406, 17.770193099975586, 14.88801383972168, 14.019604682922363, 12.135814666748047, 38.34942626953125, 184.45843505859375, 50.68344497680664, 40.3958740234375, 23.537656784057617, 104.08605194091797, 16.916515350341797, 42.01362609863281, 117.94749450683594, 12.203332901000977, 29.811126708984375, 30.97626495361328, 113.23834228515625, 21.600074768066406, 52.45209884643555, 32.64301681518555, 21.45301628112793, 34.52469253540039, 9.330557823181152, 14.927145957946777, 5.6002326011657715, 9.337865829467773, 29.9003963470459, 26.03203010559082, 7.466731071472168, 7.476137161254883, 7.448441505432129, 24.3093204498291, 35.48837661743164, 6.516661167144775, 6.534471035003662, 6.553023815155029, 16.850404739379883, 5.610752582550049, 39.16017532348633, 37.363548278808594, 7.487504959106445, 6.506837844848633, 9.360478401184082, 19.673818588256836, 24.37068748474121, 6.536552906036377, 8.454895973205566, 21.39257049560547, 9.27589225769043, 28.80695343017578, 52.45209884643555, 43.0333251953125, 48.6951789855957, 24.343210220336914, 184.45843505859375, 61.42692947387695, 25.044462203979492, 64.34346771240234, 34.657318115234375, 142.094482421875, 115.51197052001953, 29.723297119140625, 20.673480987548828, 39.283748626708984, 12.367461204528809, 10.463778495788574, 9.51137924194336, 8.558595657348633, 6.653491973876953, 6.653230667114258, 5.700927734375, 5.700884819030762, 5.700856685638428, 5.70076322555542, 5.700889587402344, 5.70070219039917, 12.347837448120117, 7.585875034332275, 10.397509574890137, 7.594808578491211, 10.443340301513672, 6.645798683166504, 6.64594030380249, 6.645478248596191, 35.16328430175781, 6.644383430480957, 10.37574291229248, 5.691264629364014, 5.691420555114746, 5.678929805755615, 8.538357734680176, 5.657954692840576, 5.690088272094727, 7.5858564376831055, 29.303768157958984, 13.226081848144531, 17.06218910217285, 27.48916244506836, 17.022655487060547, 25.44580841064453, 51.169525146484375, 115.51197052001953, 25.45709800720215, 23.57480239868164, 20.700498580932617, 35.91344451904297, 19.898494720458984, 13.235259056091309, 18.93805503845215, 15.151915550231934, 23.537656784057617, 15.109034538269043, 50.68344497680664, 31.100265502929688, 17.99673843383789, 142.094482421875, 113.23834228515625, 52.9778938293457, 49.0974006652832, 48.6951789855957, 43.354896545410156, 17.90447425842285, 7.536049842834473, 6.593404293060303, 5.651007175445557, 49.0974006652832, 18.88741111755371, 15.085236549377441, 6.595826148986816, 10.384323120117188, 6.593852519989014, 17.806385040283203, 5.642403602600098, 5.661662578582764, 9.423633575439453, 14.050244331359863, 15.12686824798584, 23.354106903076172, 9.414285659790039, 8.479454040527344, 6.576623439788818, 20.7071590423584, 8.453989028930664, 16.954998016357422, 7.462978363037109, 7.514610767364502, 11.215636253356934, 7.565434455871582, 9.396560668945312, 9.429807662963867, 21.609230041503906, 19.707664489746094, 14.148330688476562, 14.089736938476562, 27.208919525146484, 18.70560646057129, 104.08605194091797, 22.474140167236328, 27.20782470703125, 42.01362609863281, 24.50043487548828, 64.34346771240234, 50.68344497680664, 184.45843505859375, 59.185882568359375, 48.6951789855957, 33.97053909301758, 113.23834228515625, 60.29966735839844, 46.20679473876953, 21.733062744140625, 9.444886207580566, 8.499808311462402, 7.554614067077637, 7.554398536682129, 17.933940887451172, 6.609438896179199, 5.664142608642578, 5.665762424468994, 9.413213729858398, 9.442952156066895, 117.94749450683594, 7.552519798278809, 17.939022064208984, 7.550897598266602, 11.293985366821289, 6.6163105964660645, 5.661021709442139, 5.671243190765381, 5.671230316162109, 10.408912658691406, 5.671933650970459, 5.660583972930908, 16.083026885986328, 6.605437278747559, 6.614493370056152, 15.0851411819458, 6.6145195960998535, 8.482990264892578, 19.798797607421875, 11.280035972595215, 16.861770629882812, 14.123746871948242, 59.185882568359375, 10.30618667602539, 24.50043487548828, 19.898494720458984, 20.624034881591797, 16.070907592773438, 52.45209884643555, 37.368080139160156, 61.42692947387695, 36.59767150878906, 104.08605194091797, 34.748374938964844, 35.16328430175781, 33.97053909301758, 51.169525146484375, 34.657318115234375, 52.9778938293457], \"loglift\": [30.0, 29.0, 28.0, 27.0, 26.0, 25.0, 24.0, 23.0, 22.0, 21.0, 20.0, 19.0, 18.0, 17.0, 16.0, 15.0, 14.0, 13.0, 12.0, 11.0, 10.0, 9.0, 8.0, 7.0, 6.0, 5.0, 4.0, 3.0, 2.0, 1.0, 1.7389999628067017, 1.7122000455856323, 1.6863000392913818, 1.6848000288009644, 1.672700047492981, 1.6706000566482544, 1.654099941253662, 1.653499960899353, 1.6369999647140503, 1.6368999481201172, 1.6253000497817993, 1.6133999824523926, 1.6133999824523926, 1.5959999561309814, 1.5408999919891357, 1.537600040435791, 1.5371999740600586, 1.5220999717712402, 1.460800051689148, 1.4570000171661377, 1.4530999660491943, 1.45169997215271, 1.4471999406814575, 1.432800054550171, 1.4199999570846558, 1.4016000032424927, 1.4012999534606934, 1.4005999565124512, 1.3992999792099, 1.3976999521255493, 1.376099944114685, 1.3092999458312988, 1.1390999555587769, 1.274399995803833, 1.3121000528335571, 1.2824000120162964, 1.0413999557495117, 1.3034000396728516, 0.8266000151634216, 0.23520000278949738, 1.2421000003814697, 1.0470999479293823, 0.7479000091552734, 0.8105999827384949, 0.9901999831199646, 0.6309999823570251, 0.41260001063346863, 0.9380000233650208, 0.46480000019073486, -0.07370000332593918, 1.74590003490448, 1.7300000190734863, 1.7299000024795532, 1.7193000316619873, 1.695199966430664, 1.6943999528884888, 1.6816999912261963, 1.6470999717712402, 1.6442999839782715, 1.632200002670288, 1.611199975013733, 1.5464999675750732, 1.5286999940872192, 1.521399974822998, 1.5154000520706177, 1.5073000192642212, 1.4519000053405762, 1.4430999755859375, 1.441499948501587, 1.4414000511169434, 1.4198999404907227, 1.4179999828338623, 1.413699984550476, 1.4110000133514404, 1.401900053024292, 1.3803999423980713, 1.3720999956130981, 1.3716000318527222, 1.3238999843597412, 1.3162000179290771, 1.2745000123977661, 1.1002999544143677, 1.038100004196167, 1.1842999458312988, 1.1361000537872314, 0.6047999858856201, 1.0124000310897827, 0.7472000122070312, 1.2304999828338623, 0.5580000281333923, 0.5436999797821045, 0.6398000121116638, 0.5390999913215637, 0.7415000200271606, 0.7671999931335449, 0.807699978351593, 1.8600000143051147, 1.836300015449524, 1.795199990272522, 1.795199990272522, 1.794600009918213, 1.7762000560760498, 1.7094999551773071, 1.6549999713897705, 1.6441999673843384, 1.6416000127792358, 1.6200000047683716, 1.6200000047683716, 1.6119999885559082, 1.6085000038146973, 1.600100040435791, 1.5923000574111938, 1.5774999856948853, 1.5650999546051025, 1.5642999410629272, 1.562999963760376, 1.5360000133514404, 1.5347000360488892, 1.5054999589920044, 1.4954999685287476, 1.4874000549316406, 1.4809999465942383, 1.4723999500274658, 1.4591000080108643, 1.454200029373169, 1.4520000219345093, 1.4352999925613403, 1.3946000337600708, 1.4182000160217285, 1.3466999530792236, 1.3163000345230103, 1.3464000225067139, 0.920199990272522, 0.27900001406669617, 0.7811999917030334, 0.829800009727478, 1.0706000328063965, 0.2639999985694885, 1.1965999603271484, 0.6177999973297119, -0.05920000001788139, 1.323099970817566, 0.6797999739646912, 0.6462000012397766, -0.5478000044822693, 0.8634999990463257, -0.004399999976158142, 1.9318000078201294, 1.9185999631881714, 1.881500005722046, 1.8666000366210938, 1.8272000551223755, 1.8013999462127686, 1.7821999788284302, 1.7201999425888062, 1.715999960899353, 1.6916999816894531, 1.6904000043869019, 1.6855000257492065, 1.6835999488830566, 1.670799970626831, 1.6503000259399414, 1.6477999687194824, 1.6411999464035034, 1.5859999656677246, 1.5835000276565552, 1.516800045967102, 1.5126999616622925, 1.511199951171875, 1.5088000297546387, 1.465499997138977, 1.4421000480651855, 1.441100001335144, 1.426800012588501, 1.4183000326156616, 1.4142999649047852, 1.4086999893188477, 1.3967000246047974, 1.3278000354766846, 1.232200026512146, 1.079200029373169, 1.1009999513626099, 0.325300008058548, 0.6455000042915344, 0.9854000210762024, 0.46810001134872437, 0.7602999806404114, -0.08229999989271164, -0.08529999852180481, 0.7330999970436096, 0.9501000046730042, 0.4377000033855438, 1.9079999923706055, 1.9020999670028687, 1.8939000368118286, 1.8834999799728394, 1.8533999919891357, 1.8533999919891357, 1.830299973487854, 1.830299973487854, 1.830299973487854, 1.830199956893921, 1.8301000595092773, 1.8301000595092773, 1.7278000116348267, 1.722599983215332, 1.7091000080108643, 1.704800009727478, 1.6806999444961548, 1.6770000457763672, 1.6770000457763672, 1.6710000038146973, 1.6658999919891357, 1.6470999717712402, 1.6361000537872314, 1.6158000230789185, 1.615399956703186, 1.6075999736785889, 1.605299949645996, 1.5787999629974365, 1.5706000328063965, 1.544600009918213, 1.516800045967102, 1.4566999673843384, 1.4169000387191772, 1.3167999982833862, 1.402400016784668, 1.313599944114685, 1.1338000297546387, 0.8815000057220459, 1.287600040435791, 1.2374000549316406, 1.2754000425338745, 1.0232000350952148, 1.2242000102996826, 1.420300006866455, 1.230299949645996, 1.333299994468689, 1.0716999769210815, 1.302899956703186, 0.48159998655319214, 0.8023999929428101, 1.1506999731063843, -0.436599999666214, -0.3037000000476837, 0.28600001335144043, 0.26750001311302185, 0.24220000207424164, 2.033900022506714, 2.006999969482422, 1.9347000122070312, 1.9228999614715576, 1.8995000123977661, 1.8276000022888184, 1.770300030708313, 1.753000020980835, 1.7450000047683716, 1.7418999671936035, 1.7374999523162842, 1.7264000177383423, 1.684999942779541, 1.657099962234497, 1.6543999910354614, 1.605299949645996, 1.594099998474121, 1.5872000455856323, 1.5671000480651855, 1.5463000535964966, 1.531499981880188, 1.5303000211715698, 1.5233999490737915, 1.4743000268936157, 1.4536999464035034, 1.3985999822616577, 1.395900011062622, 1.3911999464035034, 1.3907999992370605, 1.3874000310897827, 1.3222999572753906, 1.2941999435424805, 1.3162000179290771, 1.3007999658584595, 1.111899971961975, 1.1756999492645264, 0.46540001034736633, 1.069700002670288, 0.9327999949455261, 0.6895999908447266, 0.9495999813079834, 0.37720000743865967, 0.49619999527931213, -0.4163999855518341, 0.29670000076293945, 0.4198000133037567, 0.6373999714851379, -0.335099995136261, 0.15690000355243683, 0.34040001034736633, 2.101300001144409, 2.049999952316284, 2.039599895477295, 2.026599884033203, 2.02620005607605, 2.0132999420166016, 2.009500026702881, 1.9859999418258667, 1.9321999549865723, 1.9250999689102173, 1.9186999797821045, 1.9155000448226929, 1.8615000247955322, 1.829300045967102, 1.8278000354766846, 1.819200038909912, 1.8167999982833862, 1.770400047302246, 1.7685999870300293, 1.7684999704360962, 1.7648999691009521, 1.7447999715805054, 1.7211999893188477, 1.6374000310897827, 1.615399956703186, 1.61489999294281, 1.5906000137329102, 1.589400053024292, 1.5889999866485596, 1.5860999822616577, 1.5755000114440918, 1.5573999881744385, 1.562600016593933, 1.3811999559402466, 1.5541000366210938, 1.2711999416351318, 1.3260999917984009, 1.3102999925613403, 1.37090003490448, 0.800000011920929, 0.9178000092506409, 0.5792999863624573, 0.8245999813079834, 0.1632000058889389, 0.7716000080108643, 0.760699987411499, 0.7821000218391418, 0.37220001220703125, 0.7057999968528748, 0.3154999911785126], \"logprob\": [30.0, 29.0, 28.0, 27.0, 26.0, 25.0, 24.0, 23.0, 22.0, 21.0, 20.0, 19.0, 18.0, 17.0, 16.0, 15.0, 14.0, 13.0, 12.0, 11.0, 10.0, 9.0, 8.0, 7.0, 6.0, 5.0, 4.0, 3.0, 2.0, 1.0, -3.8171000480651855, -4.505499839782715, -4.906199932098389, -4.907700061798096, -4.225900173187256, -4.143099784851074, -5.256999969482422, -4.4481000900268555, -5.407800197601318, -5.407899856567383, -5.419600009918213, -5.585700035095215, -5.585700035095215, -3.3698999881744385, -5.14709997177124, -5.256800174713135, -3.925600051879883, -5.272500038146973, -5.5858001708984375, -5.0503997802734375, -5.593500137329102, -5.459199905395508, -5.59630012512207, -5.255300045013428, -4.738699913024902, -5.802499771118164, -4.371799945831299, -4.8196001052856445, -2.802999973297119, -5.801499843597412, -4.624000072479248, -4.4257001876831055, -3.9595999717712402, -4.7241997718811035, -4.975599765777588, -4.874000072479248, -4.364999771118164, -4.978300094604492, -4.170000076293945, -3.4791998863220215, -4.915999889373779, -4.765600204467773, -4.485199928283691, -4.5731000900268555, -4.7494001388549805, -4.719699859619141, -4.757299900054932, -4.92110013961792, -4.86899995803833, -4.841300010681152, -4.786200046539307, -4.984099864959717, -4.9842000007629395, -5.099800109863281, -4.486700057983398, -3.0724000930786133, -5.387899875640869, -4.109099864959717, -4.805099964141846, -3.7983999252319336, -4.628600120544434, -4.899099826812744, -4.440999984741211, -5.2932000160217285, -2.45989990234375, -5.559800148010254, -5.256999969482422, -5.775599956512451, -5.776800155639648, -5.7754998207092285, -5.646399974822998, -4.33620023727417, -5.8024001121521, -5.403900146484375, -5.411600112915039, -5.431000232696533, -5.439000129699707, -4.081900119781494, -5.381499767303467, -3.5162999629974365, -3.6874001026153564, -3.0820999145507812, -3.248500108718872, -4.727399826049805, -4.781199932098389, -3.109600067138672, -4.59089994430542, -4.066699981689453, -5.135499954223633, -4.22730016708374, -4.223899841308594, -4.671199798583984, -4.654699802398682, -4.798399925231934, -4.943999767303467, -5.015699863433838, -4.8368000984191895, -5.083600044250488, -5.412199974060059, -5.412199974060059, -5.412899971008301, -4.332099914550781, -5.091599941253662, -5.2677001953125, -4.357500076293945, -4.957799911499023, -4.24459981918335, -5.303299903869629, -3.7757999897003174, -3.8048999309539795, -4.761899948120117, -5.325900077819824, -5.628300189971924, -4.340799808502197, -5.234399795532227, -5.039000034332275, -3.249300003051758, -5.262800216674805, -5.412099838256836, -5.710000038146973, -5.312699794769287, -5.436200141906738, -5.4527997970581055, -5.7459001541137695, -3.6282999515533447, -5.465099811553955, -3.825700044631958, -3.9391000270843506, -4.636099815368652, -4.884500026702881, -4.975100040435791, -5.089300155639648, -4.3649001121521, -3.4354000091552734, -4.225100040435791, -4.403299808502197, -4.702600002288818, -4.022600173950195, -4.9070000648498535, -4.576099872589111, -4.220799922943115, -5.10699987411499, -4.8572001457214355, -4.852399826049805, -4.750100135803223, -4.99560022354126, -4.97629976272583, -3.5143001079559326, -3.9474000930786133, -3.508699893951416, -4.831900119781494, -4.401500225067139, -5.407599925994873, -4.915599822998047, -3.813699960708618, -3.9565000534057617, -5.229700088500977, -5.229700088500977, -5.23829984664917, -4.057400226593018, -3.691800117492676, -5.407100200653076, -5.406899929046631, -5.410699844360352, -4.521500110626221, -5.623700141906738, -3.747299909591675, -3.7983999252319336, -5.407400131225586, -5.55019998550415, -5.229800224304199, -4.510499954223633, -4.297299861907959, -5.627600193023682, -5.378699779510498, -4.454500198364258, -5.2957000732421875, -4.1743998527526855, -3.644200086593628, -3.937700033187866, -3.967099905014038, -4.638599872589111, -3.3891000747680664, -4.168499946594238, -4.725800037384033, -4.299499988555908, -4.625999927520752, -4.057600021362305, -4.2677001953125, -4.806700229644775, -4.9527997970581055, -4.823299884796143, -4.508699893951416, -4.681700229644775, -4.785399913787842, -4.901400089263916, -5.183199882507324, -5.1834001541137695, -5.360899925231934, -5.360899925231934, -5.360899925231934, -5.361000061035156, -5.361100196838379, -5.361100196838379, -4.6905999183654785, -5.1828999519348145, -4.881199836730957, -5.19950008392334, -4.905200004577637, -5.360799789428711, -5.360799789428711, -5.3668999671936035, -3.705899953842163, -5.390900135040283, -4.956299781799316, -5.577099800109863, -5.577499866485596, -5.587500095367432, -5.182000160217285, -5.619999885559082, -5.622499942779541, -5.360899925231934, -4.037300109863281, -4.892899990081787, -4.678100109100342, -4.301199913024902, -4.694900035858154, -4.3815999031066895, -3.8629000186920166, -3.3008999824523926, -4.407299995422363, -4.534299850463867, -4.626299858093262, -4.327499866485596, -4.7170000076293945, -4.928599834442139, -4.76039981842041, -4.88040018081665, -4.701600074768066, -4.913599967956543, -4.524700164794922, -4.692200183868408, -4.890900135040283, -4.4120001792907715, -4.50600004196167, -4.676000118255615, -4.770500183105469, -4.804100036621094, -3.128499984741211, -4.03980016708374, -4.977399826049805, -5.122900009155273, -5.3003997802734375, -3.210400104522705, -4.2230000495910645, -4.465099811553955, -5.3003997802734375, -4.849599838256836, -5.308199882507324, -4.325799942016602, -5.516499996185303, -5.540999889373779, -5.034200191497803, -4.683899879455566, -4.621200084686279, -4.193900108337402, -5.122399806976318, -5.247799873352051, -5.5167999267578125, -4.370999813079834, -5.273799896240234, -4.6269001960754395, -5.468200206756592, -5.51639986038208, -5.118599891662598, -5.517000198364258, -5.300600051879883, -5.30049991607666, -4.536399841308594, -4.656599998474121, -4.966000080108643, -4.985599994659424, -4.516300201416016, -4.827300071716309, -3.821199893951416, -4.749800205230713, -4.695499897003174, -4.504199981689453, -4.7835001945495605, -4.3902997970581055, -4.510000228881836, -4.130799770355225, -4.5543999671936035, -4.626500129699707, -4.769000053405762, -4.537399768829346, -4.675600051879883, -4.758299827575684, -3.751699924468994, -4.636300086975098, -4.752200126647949, -4.8831000328063965, -4.883399963378906, -4.031799793243408, -5.033899784088135, -5.211599826812744, -5.265200138092041, -4.764599800109863, -4.7677998542785645, -2.2460999488830566, -5.048500061035156, -4.21560001373291, -5.082399845123291, -4.688300132751465, -5.225399971008301, -5.4278998374938965, -5.427800178527832, -5.4278998374938965, -4.8242998123168945, -5.451499938964844, -5.477099895477295, -4.51669979095459, -5.428500175476074, -5.427700042724609, -4.627500057220459, -5.453100204467773, -5.204800128936768, -4.360099792480469, -4.933300018310547, -4.5493998527526855, -4.72130012512207, -3.469899892807007, -5.044899940490723, -4.461900234222412, -4.615099906921387, -4.59499979019165, -4.783899784088135, -4.171899795532227, -4.393199920654297, -4.234600067138672, -4.507199764251709, -4.1234002113342285, -4.612100124359131, -4.611100196838379, -4.624199867248535, -4.6244001388549805, -4.680500030517578, -4.646399974822998]}, \"token.table\": {\"Topic\": [1, 1, 1, 2, 4, 1, 7, 5, 7, 3, 3, 6, 5, 6, 7, 3, 4, 5, 1, 3, 4, 6, 7, 5, 1, 2, 4, 5, 5, 6, 2, 5, 2, 5, 6, 7, 1, 2, 3, 4, 5, 6, 1, 4, 2, 4, 5, 2, 3, 6, 2, 4, 5, 1, 2, 5, 6, 7, 1, 2, 5, 1, 2, 5, 1, 7, 3, 1, 3, 1, 2, 4, 3, 5, 6, 7, 1, 2, 3, 4, 5, 1, 1, 3, 3, 7, 3, 6, 7, 1, 3, 7, 1, 6, 1, 5, 1, 3, 4, 5, 6, 2, 3, 4, 2, 5, 2, 4, 7, 1, 2, 6, 6, 7, 2, 3, 5, 6, 1, 3, 4, 1, 5, 1, 5, 6, 7, 2, 6, 1, 6, 2, 5, 1, 3, 5, 7, 2, 7, 2, 6, 2, 3, 4, 3, 4, 2, 4, 5, 6, 2, 5, 1, 2, 5, 2, 7, 7, 5, 6, 1, 4, 5, 6, 7, 5, 6, 7, 4, 7, 2, 3, 1, 2, 3, 4, 2, 3, 6, 1, 3, 2, 3, 5, 6, 7, 1, 6, 7, 5, 1, 2, 3, 4, 2, 6, 7, 2, 4, 6, 3, 4, 3, 4, 6, 4, 5, 6, 5, 6, 3, 5, 7, 5, 6, 2, 3, 5, 7, 1, 6, 2, 3, 6, 5, 6, 7, 1, 5, 2, 5, 2, 5, 6, 7, 1, 3, 7, 2, 3, 4, 5, 6, 7, 5, 1, 3, 6, 2, 3, 5, 2, 3, 5, 6, 2, 5, 7, 5, 5, 6, 3, 4, 3, 6, 3, 4, 6, 7, 1, 2, 3, 5, 7, 1, 2, 3, 5, 6, 1, 2, 7, 1, 2, 3, 6, 1, 3, 4, 6, 1, 4, 1, 4, 2, 3, 4, 5, 1, 2, 5, 7, 6, 7, 3, 6, 4, 5, 1, 3, 6, 7, 2, 7, 1, 7, 5, 7, 1, 4, 2, 7, 5, 6, 1, 2, 6, 4, 7, 6, 7, 3, 7, 2, 7, 1, 3, 6, 7, 1, 3, 4, 7, 1, 6, 7, 5, 4, 2, 6, 1, 3, 6, 7, 2, 3, 5, 6, 7, 1, 4, 5, 6, 7, 5, 7, 3, 6, 7, 6, 1, 3, 4, 2, 3, 4, 6, 1, 3, 6, 1, 3, 5, 6, 1, 2, 3, 4, 5, 6, 1, 2, 4, 6, 5, 1, 3, 4, 5, 6, 3, 4, 5, 1, 4, 6, 3, 4, 6, 3, 4, 2, 6, 7, 5, 4, 5, 5, 3, 6, 7, 2, 4, 3, 5, 1, 2, 2, 5, 3, 6, 3, 5, 6, 5, 6, 7, 3, 5, 6, 1, 3, 1, 5, 1, 5, 7, 4, 6, 1, 3, 2, 3, 4, 5, 6, 2, 3, 1, 3, 4, 6, 7, 2, 4, 7, 1, 3, 4, 5, 6, 7, 2, 3, 5, 6, 2, 5, 6, 1, 3, 4, 5, 6, 7, 3, 4, 5, 7, 1, 4, 5, 6, 5, 7, 1, 2, 3, 4, 4, 2, 4, 2, 4, 1, 2, 1, 2, 3, 6, 7, 1, 2, 4, 6, 7, 2, 5, 6, 3, 4, 2, 3, 5, 5, 1, 3, 4, 6, 1, 7, 1, 6, 5, 6, 1, 3, 7, 1, 6, 1, 3, 4, 5, 5, 7, 1, 4, 7, 2, 3, 4, 5, 6, 2, 4, 1, 2, 6, 3, 6, 3, 4, 3, 6, 1, 2, 4, 1, 2, 3, 6, 7, 1, 1, 5, 7, 1, 2, 4, 6, 1, 3, 4, 6, 1, 3, 4, 5, 7, 2, 4, 6, 7, 2, 4, 1, 4, 6, 3, 4, 6, 3, 6, 7, 1, 2, 3, 4, 5, 1, 1, 4, 2, 5, 2, 6, 7, 1, 6, 7, 1, 3, 5, 6, 7, 1, 2, 3, 4, 5, 7, 2, 3, 4, 6, 7, 2, 6, 1, 4, 4, 1, 3, 4, 6, 2, 3, 5, 7, 1, 2, 7, 1, 2, 3, 5, 6, 7, 3, 5, 6, 7, 1, 3, 5, 6, 7, 1, 2, 3, 4, 5, 6, 7, 5, 6, 1, 2, 4, 3, 4, 6, 1, 7, 1, 3, 5, 6, 7, 2, 5, 1, 5, 2, 3, 4, 6, 4, 6, 3, 5, 6, 1, 3, 4, 5, 1, 2, 5, 2, 3, 5, 6, 7, 3, 5, 6, 3, 6, 3, 6, 6, 7, 1, 1, 4, 5, 6, 4, 5, 7, 5, 7, 5, 6, 1, 2, 6, 7, 4, 5, 5, 7, 3, 3, 4, 6, 7, 4, 5, 1, 3, 6, 7, 1, 2, 3, 5, 1, 7, 5, 7, 1, 2, 3, 4, 7, 7, 3, 6, 7, 1, 2, 3], \"Freq\": [0.8840510249137878, 0.9092012643814087, 0.12022920697927475, 0.6011460423469543, 0.12022920697927475, 0.13240614533424377, 0.7944368720054626, 0.7394075989723206, 0.2559487819671631, 0.9629771709442139, 0.17722943425178528, 0.7089177370071411, 0.44452500343322754, 0.2778281271457672, 0.22226250171661377, 0.15121635794639587, 0.226824551820755, 0.6048654317855835, 0.3713250458240509, 0.32181504368782043, 0.09902001172304153, 0.12377502024173737, 0.09902001172304153, 0.8894307017326355, 0.25561586022377014, 0.1394268274307251, 0.48799389600753784, 0.11618902534246445, 0.3965403437614441, 0.5287204384803772, 0.8708606362342834, 0.8770502209663391, 0.5851497054100037, 0.1887579709291458, 0.07550319284200668, 0.1698821783065796, 0.21685102581977844, 0.29817014932632446, 0.18974463641643524, 0.19516591727733612, 0.016263825818896294, 0.0867404118180275, 0.2671116888523102, 0.6677792072296143, 0.1920710802078247, 0.7682843208312988, 0.9347327947616577, 0.2847433090209961, 0.6644010543823242, 0.047457218170166016, 0.20428918302059174, 0.6384036540985107, 0.1532168835401535, 0.06633535772562027, 0.5970182418823242, 0.08291919529438019, 0.14925456047058105, 0.0995030328631401, 0.07764749228954315, 0.8851814270019531, 0.03105899877846241, 0.2750944197177887, 0.19649600982666016, 0.5108896493911743, 0.10589908808469772, 0.8471927046775818, 0.8914039731025696, 0.8258375525474548, 0.11797679960727692, 0.9290550351142883, 0.044240716844797134, 0.980301558971405, 0.6174933314323425, 0.17034299671649933, 0.10646437108516693, 0.1277572363615036, 0.02815028466284275, 0.738944947719574, 0.0211127121001482, 0.1266762763261795, 0.09148842096328735, 0.9276235699653625, 0.7082412242889404, 0.1770603060722351, 0.7764999866485596, 0.1941249966621399, 0.35486823320388794, 0.4968155324459076, 0.07097364217042923, 0.6871128082275391, 0.1873943954706192, 0.06246479973196983, 0.3537963628768921, 0.5896605849266052, 0.756588339805603, 0.15131767094135284, 0.16413159668445587, 0.04103289917111397, 0.6154935359954834, 0.1230987012386322, 0.04103289917111397, 0.35936087369918823, 0.23957392573356628, 0.35936087369918823, 0.8950511813163757, 0.06393222510814667, 0.28047120571136475, 0.5609424114227295, 0.14023560285568237, 0.09048730880022049, 0.8143857717514038, 0.09048730880022049, 0.7291897535324097, 0.19886992871761322, 0.07856354862451553, 0.2356906533241272, 0.5106630921363831, 0.15712709724903107, 0.07132868468761444, 0.4993008077144623, 0.3566434383392334, 0.1757441908121109, 0.7029767632484436, 0.21826784312725067, 0.5092915892601013, 0.1818898618221283, 0.07275594770908356, 0.4019842743873596, 0.5359790325164795, 0.8484231233596802, 0.10605289041996002, 0.7193846702575684, 0.1798461675643921, 0.2910577356815338, 0.679134726524353, 0.17630670964717865, 0.7052268385887146, 0.8354068398475647, 0.08354068547487259, 0.8708638548851013, 0.949483335018158, 0.7224239706993103, 0.12040399760007858, 0.12040399760007858, 0.3059716820716858, 0.6119433641433716, 0.05874524265527725, 0.05874524265527725, 0.5874524116516113, 0.29372620582580566, 0.1927572786808014, 0.6746504902839661, 0.3309278190135956, 0.13237112760543823, 0.5294845104217529, 0.835342526435852, 0.12530137598514557, 0.8824937343597412, 0.7660384178161621, 0.19150960445404053, 0.5854470729827881, 0.37255722284317017, 0.15118315815925598, 0.15118315815925598, 0.6047326326370239, 0.15118256211280823, 0.15118256211280823, 0.6047302484512329, 0.35460880398750305, 0.5319132208824158, 0.13418398797512054, 0.6709199547767639, 0.10414152592420578, 0.2777107357978821, 0.03471384197473526, 0.5554214715957642, 0.16847889125347137, 0.05615963041782379, 0.7300751805305481, 0.213565394282341, 0.7474789023399353, 0.14701060950756073, 0.2205159217119217, 0.14701060950756073, 0.4042792022228241, 0.07350530475378036, 0.10604669898748398, 0.5302335023880005, 0.3181401193141937, 0.9556777477264404, 0.06716812402009964, 0.26867249608039856, 0.5373449921607971, 0.06716812402009964, 0.133074089884758, 0.532296359539032, 0.266148179769516, 0.7239619493484497, 0.20684626698493958, 0.9100003242492676, 0.15303458273410797, 0.7651728987693787, 0.5854838490486145, 0.22910237312316895, 0.17819073796272278, 0.02036767639219761, 0.18330909311771393, 0.7943394184112549, 0.6591213345527649, 0.26364853978157043, 0.7108237147331238, 0.11847062408924103, 0.11847062408924103, 0.1766265630722046, 0.7065062522888184, 0.13411718606948853, 0.8047031164169312, 0.15114162862300873, 0.7557081580162048, 0.7073493599891663, 0.17683733999729156, 0.29973316192626953, 0.04281901940703392, 0.6422853469848633, 0.33053767681121826, 0.6610753536224365, 0.9265860319137573, 0.17570306360721588, 0.7028122544288635, 0.8129639625549316, 0.13549399375915527, 0.1851060837507248, 0.0925530418753624, 0.4627652168273926, 0.2313826084136963, 0.1672331988811493, 0.05574439838528633, 0.7246772050857544, 0.1442696750164032, 0.08656180649995804, 0.2885393500328064, 0.1442696750164032, 0.05770786851644516, 0.23083147406578064, 0.9462350010871887, 0.10642191767692566, 0.319265753030777, 0.5321095585823059, 0.1531013697385788, 0.6889562010765076, 0.0765506848692894, 0.537994921207428, 0.07685641944408417, 0.2305692583322525, 0.07685641944408417, 0.7490841746330261, 0.16646315157413483, 0.882746160030365, 0.9017820954322815, 0.790013313293457, 0.13166888058185577, 0.06699204444885254, 0.870896577835083, 0.8312917947769165, 0.11875596642494202, 0.1334550976753235, 0.533820390701294, 0.057195041328668594, 0.266910195350647, 0.37411820888519287, 0.1438916176557541, 0.1438916176557541, 0.057556647807359695, 0.2590049207210541, 0.9279938340187073, 0.9320025444030762, 0.21244309842586517, 0.10622154921293259, 0.6373292803764343, 0.23997515439987183, 0.599937915802002, 0.9662696719169617, 0.21383963525295258, 0.2672995328903198, 0.10691981762647629, 0.42767927050590515, 0.033444371074438095, 0.033444371074438095, 0.8026649355888367, 0.13377748429775238, 0.2056824266910553, 0.740456759929657, 0.13375891745090485, 0.8025534749031067, 0.6480451822280884, 0.12343718111515045, 0.061718590557575226, 0.18515576422214508, 0.9639647603034973, 0.5367196202278137, 0.2927561402320862, 0.1463780701160431, 0.13243459165096283, 0.7946075201034546, 0.2365747094154358, 0.5914368033409119, 0.13182394206523895, 0.7909436821937561, 0.1515243500471115, 0.1515243500471115, 0.10101623833179474, 0.5555893182754517, 0.5997386574745178, 0.23989546298980713, 0.6232531070709229, 0.3116265535354614, 0.2882145345211029, 0.6725006103515625, 0.7589451670646667, 0.15178902447223663, 0.1062336415052414, 0.8498691320419312, 0.19259801506996155, 0.7703920602798462, 0.21583913266658783, 0.6475174427032471, 0.10791956633329391, 0.05576019361615181, 0.892163097858429, 0.7580551505088806, 0.15161103010177612, 0.8913949131965637, 0.9411976933479309, 0.7209392786026001, 0.18023481965065002, 0.016956698149442673, 0.13565358519554138, 0.04239174351096153, 0.7969647645950317, 0.6796879172325134, 0.16992197930812836, 0.04248049482703209, 0.08496098965406418, 0.47099635004997253, 0.23549817502498627, 0.2649354338645935, 0.8770561218261719, 0.8928200602531433, 0.7212464213371277, 0.18031160533428192, 0.11795932054519653, 0.11795932054519653, 0.5897966027259827, 0.1769389808177948, 0.1381121575832367, 0.3156849443912506, 0.21703338623046875, 0.21703338623046875, 0.09865154325962067, 0.12444847822189331, 0.062224239110946655, 0.24889695644378662, 0.062224239110946655, 0.4355696737766266, 0.7523550391197205, 0.15047100186347961, 0.7115444540977478, 0.11859074234962463, 0.1482384204864502, 0.991814136505127, 0.2737676799297333, 0.5749121308326721, 0.13688383996486664, 0.6669328212738037, 0.04168330132961273, 0.20841649174690247, 0.08336660265922546, 0.8338519334793091, 0.13265825808048248, 0.018951179459691048, 0.6642708778381348, 0.2657083570957184, 0.7027112245559692, 0.23423707485198975, 0.15541593730449677, 0.27974867820739746, 0.10879115015268326, 0.23312389850616455, 0.031083187088370323, 0.18649911880493164, 0.09813932329416275, 0.49069663882255554, 0.29441797733306885, 0.049069661647081375, 0.8770611882209778, 0.3341366946697235, 0.05568945035338402, 0.08353417366743088, 0.3898261487483978, 0.1392236202955246, 0.593176007270813, 0.11863520741462708, 0.11863520741462708, 0.6133800148963928, 0.24535199999809265, 0.08178400248289108, 0.5627400875091553, 0.22509603202342987, 0.1688220202922821, 0.6982783675193787, 0.23275944590568542, 0.29652875661849976, 0.11861150711774826, 0.5337517857551575, 0.9018175005912781, 0.17608951032161713, 0.7043580412864685, 0.8770849108695984, 0.6668758392333984, 0.1333751678466797, 0.1333751678466797, 0.6192505359649658, 0.15481263399124146, 0.7099478840827942, 0.2366493046283722, 0.8849890828132629, 0.05899927020072937, 0.192353755235672, 0.769415020942688, 0.7117434740066528, 0.1779358685016632, 0.21203914284706116, 0.28271886706352234, 0.4947580099105835, 0.24870939552783966, 0.12435469776391983, 0.6217734813690186, 0.28975486755371094, 0.09658495336771011, 0.5795097351074219, 0.17798921465873718, 0.7119568586349487, 0.1757078766822815, 0.702831506729126, 0.8098185658454895, 0.09344060719013214, 0.09344060719013214, 0.8567268252372742, 0.10709085315465927, 0.8257200717926025, 0.11796000599861145, 0.10267956554889679, 0.10267956554889679, 0.41071826219558716, 0.18482322990894318, 0.20535913109779358, 0.2688753008842468, 0.6721882820129395, 0.19369669258594513, 0.2582622468471527, 0.19369669258594513, 0.16141390800476074, 0.12913112342357635, 0.19405819475650787, 0.19405819475650787, 0.5821745991706848, 0.9639207124710083, 0.12244680523872375, 0.040815602988004684, 0.040815602988004684, 0.3265248239040375, 0.40815600752830505, 0.19323205947875977, 0.14492404460906982, 0.4830801486968994, 0.14492404460906982, 0.21351942420005798, 0.07117313891649246, 0.6405582427978516, 0.22507846355438232, 0.16077032685279846, 0.1929243952035904, 0.3215406537055969, 0.06430812925100327, 0.03215406462550163, 0.10237590968608856, 0.23887713253498077, 0.6142554879188538, 0.9077926278114319, 0.059345755726099014, 0.7121490836143494, 0.059345755726099014, 0.11869151145219803, 0.7523912787437439, 0.15047825872898102, 0.10093092918395996, 0.3364364206790924, 0.23550550639629364, 0.3027927875518799, 0.9788833260536194, 0.3073689639568329, 0.6147379279136658, 0.1534528136253357, 0.7672640681266785, 0.7107381224632263, 0.17768453061580658, 0.13380403816699982, 0.2943688929080963, 0.13380403816699982, 0.13380403816699982, 0.2943688929080963, 0.13516737520694733, 0.13516737520694733, 0.08447960764169693, 0.16895921528339386, 0.47308579087257385, 0.35664495825767517, 0.08916123956441879, 0.5349674224853516, 0.6812306642532349, 0.29195597767829895, 0.7746963500976562, 0.15493926405906677, 0.8770755529403687, 0.8770568370819092, 0.05779281631112099, 0.7224102020263672, 0.14448204636573792, 0.08668922632932663, 0.7951939702033997, 0.13253232836723328, 0.1516564041376114, 0.7582820653915405, 0.21178127825260162, 0.7412344813346863, 0.17783646285533905, 0.533509373664856, 0.17783646285533905, 0.7424491047859192, 0.21212831139564514, 0.29022687673568726, 0.14511343836784363, 0.3869691789150238, 0.1934845894575119, 0.7525152564048767, 0.15050305426120758, 0.304973840713501, 0.609947681427002, 0.10165794938802719, 0.48479825258255005, 0.008657111786305904, 0.129856675863266, 0.3289702236652374, 0.03462844714522362, 0.3234190344810486, 0.5390316843986511, 0.12035837769508362, 0.7221502661705017, 0.9288685917854309, 0.3041074275970459, 0.6082148551940918, 0.13392741978168488, 0.8035644888877869, 0.6671796441078186, 0.2668718695640564, 0.4518713653087616, 0.08215843141078949, 0.41079217195510864, 0.009607435204088688, 0.4611569046974182, 0.18254126608371735, 0.20175613462924957, 0.13450409471988678, 0.9573713541030884, 0.39085763692855835, 0.42994341254234314, 0.17588594555854797, 0.639602541923523, 0.1421339064836502, 0.0710669532418251, 0.0710669532418251, 0.4166652262210846, 0.3240729570388794, 0.0925922691822052, 0.0925922691822052, 0.8840610980987549, 0.47291064262390137, 0.11822766065597534, 0.177341490983963, 0.23645532131195068, 0.08029215782880783, 0.6423372626304626, 0.1873483806848526, 0.053528107702732086, 0.1342562735080719, 0.8055376410484314, 0.5618764162063599, 0.06243071332573891, 0.31215354800224304, 0.11271296441555023, 0.7608124613761902, 0.11271296441555023, 0.6667433381080627, 0.13334865868091583, 0.13334865868091583, 0.2680347263813019, 0.35737964510917664, 0.08934491127729416, 0.08934491127729416, 0.13401736319065094, 0.9091498255729675, 0.1782292127609253, 0.7129168510437012, 0.7199075222015381, 0.17997688055038452, 0.9074985980987549, 0.17664656043052673, 0.7065862417221069, 0.21223236620426178, 0.6366970539093018, 0.9266124963760376, 0.10560746490955353, 0.052803732454776764, 0.4752335846424103, 0.21121492981910706, 0.10560746490955353, 0.10753561556339264, 0.43014246225357056, 0.14338082075119019, 0.07169041037559509, 0.07169041037559509, 0.10753561556339264, 0.341869592666626, 0.08139752596616745, 0.2767515778541565, 0.09767702966928482, 0.211633563041687, 0.8464415073394775, 0.8847980499267578, 0.758974552154541, 0.1517949104309082, 0.964572548866272, 0.05074167996644974, 0.30445006489753723, 0.15222503244876862, 0.45667511224746704, 0.24243558943271637, 0.09697423130273819, 0.14546135067939758, 0.43638405203819275, 0.08854270726442337, 0.08854270726442337, 0.708341658115387, 0.13662071526050568, 0.16394485533237457, 0.19126899540424347, 0.13662071526050568, 0.10929656773805618, 0.27324143052101135, 0.06599825620651245, 0.5279860496520996, 0.32999128103256226, 0.06599825620651245, 0.6888126134872437, 0.07947838306427002, 0.10597117245197296, 0.08830931037664413, 0.02649279311299324, 0.07350826263427734, 0.18377065658569336, 0.07350826263427734, 0.03675413131713867, 0.11026240140199661, 0.33078718185424805, 0.18377065658569336, 0.5860912799835205, 0.41026389598846436, 0.10829483717679977, 0.6497690081596375, 0.10829483717679977, 0.8914762735366821, 0.6409928798675537, 0.32049643993377686, 0.3027808666229248, 0.6055617332458496, 0.5410459637641907, 0.10820919275283813, 0.06492551416158676, 0.1731347143650055, 0.10820919275283813, 0.1767423152923584, 0.7069692611694336, 0.9150446653366089, 0.04816024750471115, 0.23481164872646332, 0.26835617423057556, 0.23481164872646332, 0.23481164872646332, 0.9268728494644165, 0.05792955309152603, 0.3022230267524719, 0.6044460535049438, 0.07555575668811798, 0.04241817072033882, 0.2120908498764038, 0.2120908498764038, 0.46659988164901733, 0.6929888725280762, 0.21322734653949738, 0.053306836634874344, 0.28562161326408386, 0.2618198096752167, 0.02380180172622204, 0.2618198096752167, 0.16661261022090912, 0.5736137628555298, 0.08194482326507568, 0.32777929306030273, 0.8315198421478271, 0.11878854781389236, 0.6675268411636353, 0.26701074838638306, 0.1766602247953415, 0.706640899181366, 0.9091536998748779, 0.4861633777618408, 0.2209833562374115, 0.2209833562374115, 0.04419666901230812, 0.05025505647063255, 0.4522955119609833, 0.4522955119609833, 0.7523390054702759, 0.15046779811382294, 0.8098583817481995, 0.16197168827056885, 0.17798233032226562, 0.26697349548339844, 0.35596466064453125, 0.17798233032226562, 0.7630065083503723, 0.15260130167007446, 0.17632858455181122, 0.7053143382072449, 0.9361056685447693, 0.14160548150539398, 0.14160548150539398, 0.14160548150539398, 0.5664219260215759, 0.5913733243942261, 0.3548240065574646, 0.06629039347171783, 0.13258078694343567, 0.13258078694343567, 0.5966135859489441, 0.08497022837400436, 0.04248511418700218, 0.42485111951828003, 0.38236600160598755, 0.6357765793800354, 0.3532091975212097, 0.17632818222045898, 0.7053127288818359, 0.2346840798854828, 0.1303800493478775, 0.3650641441345215, 0.15645605325698853, 0.1303800493478775, 0.9528965950012207, 0.11788295954465866, 0.23576591908931732, 0.5894147753715515, 0.24720218777656555, 0.1648014634847641, 0.5768051147460938], \"Term\": [\"acero\", \"adecuado\", \"ajusta\", \"ajusta\", \"ajusta\", \"alta\", \"alta\", \"amazon\", \"amazon\", \"anillo\", \"anuncio\", \"anuncio\", \"art\\u00edculo\", \"art\\u00edculo\", \"art\\u00edculo\", \"aspecto\", \"aspecto\", \"aspecto\", \"as\\u00ed\", \"as\\u00ed\", \"as\\u00ed\", \"as\\u00ed\", \"as\\u00ed\", \"aun\", \"aunque\", \"aunque\", \"aunque\", \"aunque\", \"ayuda\", \"ayuda\", \"baja\", \"bajo\", \"bastante\", \"bastante\", \"bastante\", \"bastante\", \"bien\", \"bien\", \"bien\", \"bien\", \"bien\", \"bien\", \"bolsa\", \"bolsa\", \"bonita\", \"bonita\", \"bonitas\", \"bonito\", \"bonito\", \"bonito\", \"bonitos\", \"bonitos\", \"bonitos\", \"buen\", \"buen\", \"buen\", \"buen\", \"buen\", \"buena\", \"buena\", \"buena\", \"bueno\", \"bueno\", \"bueno\", \"buenos\", \"buenos\", \"buscaba\", \"cabe\", \"cabe\", \"cable\", \"cable\", \"cadena\", \"caja\", \"caja\", \"caja\", \"caja\", \"calidad\", \"calidad\", \"calidad\", \"calidad\", \"calidad\", \"carga\", \"cargador\", \"cargador\", \"caro\", \"caro\", \"casi\", \"casi\", \"casi\", \"caso\", \"caso\", \"caso\", \"castellano\", \"castellano\", \"cerrar\", \"cerrar\", \"cierre\", \"cierre\", \"cierre\", \"cierre\", \"cierre\", \"colgante\", \"colgante\", \"colgante\", \"collar\", \"collar\", \"color\", \"color\", \"color\", \"compra\", \"compra\", \"compra\", \"comprado\", \"comprado\", \"comprar\", \"comprar\", \"comprar\", \"comprar\", \"compre\", \"compre\", \"compre\", \"compro\", \"compro\", \"compr\\u00e9\", \"compr\\u00e9\", \"compr\\u00e9\", \"compr\\u00e9\", \"condiciones\", \"condiciones\", \"conectar\", \"conectar\", \"conjunto\", \"conjunto\", \"consola\", \"consola\", \"consolas\", \"consolas\", \"contenta\", \"contenta\", \"contento\", \"correcto\", \"corresponde\", \"corresponde\", \"corresponde\", \"corta\", \"corta\", \"cosa\", \"cosa\", \"cosa\", \"cosa\", \"cosas\", \"cosas\", \"creo\", \"creo\", \"creo\", \"cumple\", \"cumple\", \"c\\u00f3digo\", \"c\\u00f3modo\", \"c\\u00f3modo\", \"da\", \"da\", \"deber\\u00edan\", \"deber\\u00edan\", \"deber\\u00edan\", \"decepcionado\", \"decepcionado\", \"decepcionado\", \"decepci\\u00f3n\", \"decepci\\u00f3n\", \"dedo\", \"dedo\", \"demasiado\", \"demasiado\", \"demasiado\", \"demasiado\", \"dem\\u00e1s\", \"dem\\u00e1s\", \"dem\\u00e1s\", \"dentro\", \"dentro\", \"despu\\u00e9s\", \"despu\\u00e9s\", \"despu\\u00e9s\", \"despu\\u00e9s\", \"despu\\u00e9s\", \"devoluci\\u00f3n\", \"devoluci\\u00f3n\", \"devoluci\\u00f3n\", \"devuelto\", \"dia\", \"dia\", \"dia\", \"dia\", \"dicen\", \"dicen\", \"dicen\", \"dise\\u00f1o\", \"dise\\u00f1o\", \"divertido\", \"dorado\", \"dorado\", \"dos\", \"dos\", \"dos\", \"d\\u00eda\", \"d\\u00eda\", \"d\\u00eda\", \"elegantes\", \"elegantes\", \"embalaje\", \"embalaje\", \"embalaje\", \"empresa\", \"empresa\", \"encajan\", \"encajan\", \"enga\\u00f1o\", \"enga\\u00f1o\", \"entra\", \"entra\", \"entrega\", \"entrega\", \"entrega\", \"entregado\", \"entregado\", \"entretenido\", \"enviaron\", \"enviaron\", \"envio\", \"envio\", \"env\\u00edo\", \"env\\u00edo\", \"env\\u00edo\", \"env\\u00edo\", \"espa\\u00f1ol\", \"espa\\u00f1ol\", \"espa\\u00f1ol\", \"esperaba\", \"esperaba\", \"esperaba\", \"esperaba\", \"esperaba\", \"esperaba\", \"esperando\", \"esperar\", \"esperar\", \"esperar\", \"espero\", \"espero\", \"espero\", \"excelente\", \"excelente\", \"excelente\", \"excelente\", \"expectativas\", \"expectativas\", \"familia\", \"fan\", \"fecha\", \"fecha\", \"fina\", \"fina\", \"fino\", \"fino\", \"foto\", \"foto\", \"foto\", \"foto\", \"funciona\", \"funciona\", \"funciona\", \"funciona\", \"funciona\", \"funcionar\", \"funci\\u00f3n\", \"f\\u00e1cil\", \"f\\u00e1cil\", \"f\\u00e1cil\", \"general\", \"general\", \"gracias\", \"gran\", \"gran\", \"gran\", \"gran\", \"grande\", \"grande\", \"grande\", \"grande\", \"grandes\", \"grandes\", \"gr\\u00e1ficos\", \"gr\\u00e1ficos\", \"gustado\", \"gustado\", \"gustado\", \"gustado\", \"gustan\", \"gusto\", \"gusto\", \"gusto\", \"gust\\u00f3\", \"gust\\u00f3\", \"haber\", \"haber\", \"hacen\", \"hacen\", \"hacer\", \"hacer\", \"hacer\", \"hacer\", \"hija\", \"hija\", \"hijo\", \"hijo\", \"historia\", \"historia\", \"hola\", \"hola\", \"horas\", \"horas\", \"hoy\", \"hoy\", \"ideal\", \"ideal\", \"ideal\", \"igual\", \"igual\", \"imposible\", \"imposible\", \"instrucciones\", \"italiano\", \"juegazo\", \"juegazo\", \"juego\", \"juego\", \"juego\", \"juego\", \"juegos\", \"juegos\", \"juegos\", \"juegos\", \"jugar\", \"jugar\", \"jugar\", \"junto\", \"lamentable\", \"largo\", \"largo\", \"llega\", \"llega\", \"llega\", \"llega\", \"llegado\", \"llegado\", \"llegado\", \"llegado\", \"llegado\", \"llegar\", \"llegar\", \"llegar\", \"llegar\", \"llegar\", \"llegaron\", \"llegaron\", \"llego\", \"llego\", \"llego\", \"lleg\\u00f3\", \"mal\", \"mal\", \"mal\", \"mala\", \"mala\", \"mala\", \"mala\", \"mando\", \"mando\", \"mando\", \"mandos\", \"mandos\", \"marca\", \"marca\", \"mas\", \"mas\", \"mas\", \"mas\", \"mas\", \"mas\", \"material\", \"material\", \"material\", \"material\", \"media\", \"mejor\", \"mejor\", \"mejor\", \"mejor\", \"mejor\", \"mejores\", \"mejores\", \"mejores\", \"menos\", \"menos\", \"menos\", \"meses\", \"meses\", \"meses\", \"momento\", \"momento\", \"muchas\", \"muchas\", \"muchas\", \"much\\u00edsimo\", \"nadie\", \"nadie\", \"negra\", \"negro\", \"negro\", \"negro\", \"ningun\", \"ningun\", \"ninguna\", \"ninguna\", \"nintendo\", \"nintendo\", \"ni\\u00f1as\", \"ni\\u00f1as\", \"ni\\u00f1os\", \"ni\\u00f1os\", \"nota\", \"nota\", \"nota\", \"nuevo\", \"nuevo\", \"nuevo\", \"nunca\", \"nunca\", \"nunca\", \"opinar\", \"opinar\", \"opini\\u00f3n\", \"opini\\u00f3n\", \"original\", \"original\", \"original\", \"pandora\", \"pandora\", \"pantalla\", \"pantalla\", \"parece\", \"parece\", \"parece\", \"parece\", \"parece\", \"parecido\", \"parecido\", \"parte\", \"parte\", \"parte\", \"parte\", \"parte\", \"pasa\", \"pasa\", \"pasa\", \"pc\", \"pedido\", \"pedido\", \"pedido\", \"pedido\", \"pedido\", \"pedir\", \"pedir\", \"pedir\", \"pedir\", \"ped\\u00ed\", \"ped\\u00ed\", \"ped\\u00ed\", \"pena\", \"pena\", \"pena\", \"pena\", \"pena\", \"pena\", \"pendientes\", \"pendientes\", \"pendientes\", \"peor\", \"peque\\u00f1a\", \"peque\\u00f1a\", \"peque\\u00f1a\", \"peque\\u00f1a\", \"peque\\u00f1as\", \"peque\\u00f1as\", \"peque\\u00f1o\", \"peque\\u00f1o\", \"peque\\u00f1o\", \"peque\\u00f1o\", \"peque\\u00f1os\", \"perdido\", \"perdido\", \"perdi\\u00f3\", \"perdi\\u00f3\", \"perfecta\", \"perfecta\", \"perfectamente\", \"perfectamente\", \"perfectamente\", \"perfectamente\", \"perfectamente\", \"perfecto\", \"perfecto\", \"perfecto\", \"perfecto\", \"perfecto\", \"persona\", \"persona\", \"persona\", \"piedra\", \"piedra\", \"piedras\", \"piedras\", \"piel\", \"pienso\", \"plata\", \"plata\", \"plata\", \"plata\", \"play\", \"play\", \"plazo\", \"plazo\", \"pl\\u00e1stico\", \"pl\\u00e1stico\", \"pocas\", \"pocas\", \"pocas\", \"poder\", \"poder\", \"pone\", \"pone\", \"pone\", \"pone\", \"ponen\", \"ponen\", \"poner\", \"poner\", \"poner\", \"precio\", \"precio\", \"precio\", \"precio\", \"precio\", \"preciosa\", \"preciosa\", \"presentaci\\u00f3n\", \"presentaci\\u00f3n\", \"previsto\", \"prime\", \"prime\", \"primer\", \"primer\", \"primero\", \"primero\", \"problema\", \"problema\", \"problema\", \"producto\", \"producto\", \"producto\", \"producto\", \"producto\", \"ps\", \"puede\", \"puede\", \"puede\", \"puedes\", \"puedes\", \"puedes\", \"puedes\", \"puedo\", \"puedo\", \"puedo\", \"puedo\", \"puesta\", \"puesto\", \"puesto\", \"puesto\", \"puesto\", \"pulsera\", \"pulsera\", \"pulsera\", \"pulsera\", \"pulseras\", \"pulseras\", \"q\", \"q\", \"q\", \"queda\", \"queda\", \"queda\", \"quedado\", \"quedado\", \"quedado\", \"quedan\", \"quedan\", \"quedan\", \"quedan\", \"quedan\", \"quieres\", \"quiz\\u00e1\", \"quiz\\u00e1\", \"rapidez\", \"rapidez\", \"rapido\", \"rato\", \"rato\", \"rat\\u00f3n\", \"rat\\u00f3n\", \"realidad\", \"recomendable\", \"recomendable\", \"recomendable\", \"recomendable\", \"recomendable\", \"recomiendo\", \"recomiendo\", \"recomiendo\", \"recomiendo\", \"recomiendo\", \"recomiendo\", \"regalo\", \"regalo\", \"regalo\", \"regalo\", \"regalo\", \"relaci\\u00f3n\", \"repartidor\", \"respecto\", \"respecto\", \"rompi\\u00f3\", \"roto\", \"roto\", \"roto\", \"roto\", \"r\\u00e1pido\", \"r\\u00e1pido\", \"r\\u00e1pido\", \"r\\u00e1pido\", \"saga\", \"saga\", \"saga\", \"ser\", \"ser\", \"ser\", \"ser\", \"ser\", \"ser\", \"servicio\", \"servicio\", \"servicio\", \"servicio\", \"si\", \"si\", \"si\", \"si\", \"si\", \"sido\", \"sido\", \"sido\", \"sido\", \"sido\", \"sido\", \"sido\", \"siempre\", \"siempre\", \"sigue\", \"sigue\", \"sigue\", \"simplemente\", \"sirve\", \"sirve\", \"sistema\", \"sistema\", \"solo\", \"solo\", \"solo\", \"solo\", \"solo\", \"super\", \"super\", \"switch\", \"switch\", \"tal\", \"tal\", \"tal\", \"tal\", \"tama\\u00f1o\", \"tama\\u00f1o\", \"tampoco\", \"tampoco\", \"tampoco\", \"tan\", \"tan\", \"tan\", \"tan\", \"tener\", \"tener\", \"tener\", \"tiempo\", \"tiempo\", \"tiempo\", \"tiempo\", \"tiempo\", \"todav\\u00eda\", \"todav\\u00eda\", \"todav\\u00eda\", \"trae\", \"trae\", \"transporte\", \"transporte\", \"tra\\u00eda\", \"tra\\u00eda\", \"usar\", \"va\", \"va\", \"va\", \"va\", \"vale\", \"vale\", \"vale\", \"valen\", \"valen\", \"van\", \"van\", \"ve\", \"ve\", \"ve\", \"ve\", \"ven\", \"ven\", \"venga\", \"venga\", \"venia\", \"ven\\u00eda\", \"ven\\u00eda\", \"ven\\u00eda\", \"ven\\u00eda\", \"veo\", \"veo\", \"ver\", \"ver\", \"ver\", \"ver\", \"verdad\", \"verdad\", \"verdad\", \"verdad\", \"versi\\u00f3n\", \"versi\\u00f3n\", \"videojuegos\", \"videojuegos\", \"viene\", \"viene\", \"viene\", \"viene\", \"viene\", \"vino\", \"visto\", \"visto\", \"visto\", \"xbox\", \"xbox\", \"xbox\"]}, \"R\": 30, \"lambda.step\": 0.01, \"plot.opts\": {\"xlab\": \"PC1\", \"ylab\": \"PC2\"}, \"topic.order\": [3, 4, 5, 7, 1, 2, 6]};\n",
       "\n",
       "function LDAvis_load_lib(url, callback){\n",
       "  var s = document.createElement('script');\n",
       "  s.src = url;\n",
       "  s.async = true;\n",
       "  s.onreadystatechange = s.onload = callback;\n",
       "  s.onerror = function(){console.warn(\"failed to load library \" + url);};\n",
       "  document.getElementsByTagName(\"head\")[0].appendChild(s);\n",
       "}\n",
       "\n",
       "if(typeof(LDAvis) !== \"undefined\"){\n",
       "   // already loaded: just create the visualization\n",
       "   !function(LDAvis){\n",
       "       new LDAvis(\"#\" + \"ldavis_el1390427266397754328590264895\", ldavis_el1390427266397754328590264895_data);\n",
       "   }(LDAvis);\n",
       "}else if(typeof define === \"function\" && define.amd){\n",
       "   // require.js is available: use it to load d3/LDAvis\n",
       "   require.config({paths: {d3: \"https://cdnjs.cloudflare.com/ajax/libs/d3/3.5.5/d3.min\"}});\n",
       "   require([\"d3\"], function(d3){\n",
       "      window.d3 = d3;\n",
       "      LDAvis_load_lib(\"https://cdn.rawgit.com/bmabey/pyLDAvis/files/ldavis.v1.0.0.js\", function(){\n",
       "        new LDAvis(\"#\" + \"ldavis_el1390427266397754328590264895\", ldavis_el1390427266397754328590264895_data);\n",
       "      });\n",
       "    });\n",
       "}else{\n",
       "    // require.js not available: dynamically load d3 & LDAvis\n",
       "    LDAvis_load_lib(\"https://cdnjs.cloudflare.com/ajax/libs/d3/3.5.5/d3.min.js\", function(){\n",
       "         LDAvis_load_lib(\"https://cdn.rawgit.com/bmabey/pyLDAvis/files/ldavis.v1.0.0.js\", function(){\n",
       "                 new LDAvis(\"#\" + \"ldavis_el1390427266397754328590264895\", ldavis_el1390427266397754328590264895_data);\n",
       "            })\n",
       "         });\n",
       "}\n",
       "</script>"
      ],
      "text/plain": [
       "<IPython.core.display.HTML object>"
      ]
     },
     "execution_count": 17,
     "metadata": {},
     "output_type": "execute_result"
    }
   ],
   "source": [
    "lda_display = pyLDAvis.gensim.prepare(model, corpus, dictionary, sort_topics=True)\n",
    "\n",
    "pyLDAvis.display(lda_display)"
   ]
  },
  {
   "cell_type": "code",
   "execution_count": 18,
   "metadata": {},
   "outputs": [
    {
     "data": {
      "text/plain": [
       "[(0, 0.035747383),\n",
       " (1, 0.03577509),\n",
       " (2, 0.55327225),\n",
       " (3, 0.26790866),\n",
       " (4, 0.03572059),\n",
       " (5, 0.03581419),\n",
       " (6, 0.035761837)]"
      ]
     },
     "execution_count": 18,
     "metadata": {},
     "output_type": "execute_result"
    }
   ],
   "source": [
    "#Forma de visualizar un nuevo documento y probar nuestro modelo \n",
    "\n",
    "d = dictionary.doc2bow([\"play\",\"jugar\",\"calidad\",\"hermoso\"])\n",
    "\n",
    "topics = model.get_document_topics(d)\n",
    "topics"
   ]
  }
 ],
 "metadata": {
  "kernelspec": {
   "display_name": "Python 3",
   "language": "python",
   "name": "python3"
  },
  "language_info": {
   "codemirror_mode": {
    "name": "ipython",
    "version": 3
   },
   "file_extension": ".py",
   "mimetype": "text/x-python",
   "name": "python",
   "nbconvert_exporter": "python",
   "pygments_lexer": "ipython3",
   "version": "3.7.4"
  }
 },
 "nbformat": 4,
 "nbformat_minor": 2
}
