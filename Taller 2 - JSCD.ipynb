{
 "cells": [
  {
   "cell_type": "markdown",
   "metadata": {},
   "source": [
    "<img src='https://encrypted-tbn0.gstatic.com/images?q=tbn%3AANd9GcQ-VfNtOyJbsaxu43Kztf_cv1mgBG6ZIQZEVw&usqp=CAU'>\n",
    "\n",
    "# Procesamiento de Lenguage Natural\n",
    "\n",
    "## Taller #2: Adquisición de textos\n",
    "\n",
    "# Presentado por: Juan Sebastian Cruz Dionicio \n",
    "# Codigo: 616201047"
   ]
  },
  {
   "cell_type": "markdown",
   "metadata": {},
   "source": [
    "## Punto 1:\n",
    "    Descomprimir el archivo .zip de los poemas\n",
    "    Leer cada uno de sus archivos\n",
    "    Responder: ¿Cuál archivo tiene el mayor número de palabras? "
   ]
  },
  {
   "cell_type": "code",
   "execution_count": 6,
   "metadata": {},
   "outputs": [],
   "source": [
    "import os \n",
    "os.chdir(\"C:/Users/Sebastian Cruz/Desktop/Especializacion/NLP/Clase 2/archivos\")"
   ]
  },
  {
   "cell_type": "code",
   "execution_count": 7,
   "metadata": {},
   "outputs": [],
   "source": [
    "from zipfile import ZipFile "
   ]
  },
  {
   "cell_type": "code",
   "execution_count": 8,
   "metadata": {},
   "outputs": [],
   "source": [
    "direccion = \"poemas.zip\"\n",
    "\n",
    "#Descomprimir el archivo Zip\n",
    "\n",
    "with ZipFile(direccion) as archivo: \n",
    "    archivo.extractall()"
   ]
  },
  {
   "cell_type": "code",
   "execution_count": 58,
   "metadata": {},
   "outputs": [
    {
     "data": {
      "text/plain": [
       "53"
      ]
     },
     "execution_count": 58,
     "metadata": {},
     "output_type": "execute_result"
    }
   ],
   "source": [
    "for file in os.walk(\"poemas\"):\n",
    "    with open (file+'.txt') as archivo: \n",
    "        data = archivo.read()\n",
    "\n",
    "len(data.split())"
   ]
  },
  {
   "cell_type": "code",
   "execution_count": 65,
   "metadata": {},
   "outputs": [
    {
     "data": {
      "text/plain": [
       "23"
      ]
     },
     "execution_count": 65,
     "metadata": {},
     "output_type": "execute_result"
    }
   ],
   "source": [
    "for raiz, dirs, archivos in os.walk(\"poemas\"):\n",
    "    for archivo in archivos:\n",
    "        with open (file+'.txt') as archivo: \n",
    "            data = archivo.read()\n",
    "\n",
    "len(data.split())"
   ]
  },
  {
   "cell_type": "code",
   "execution_count": 47,
   "metadata": {},
   "outputs": [
    {
     "data": {
      "text/plain": [
       "['A un general (Julio Corta╠üzar).txt',\n",
       " 'Aqui╠ü (Octavio Paz).txt',\n",
       " 'Si╠ündrome (Mario Benedetti).txt']"
      ]
     },
     "execution_count": 47,
     "metadata": {},
     "output_type": "execute_result"
    }
   ],
   "source": [
    "os.chdir(\"C:/Users/Sebastian Cruz/Desktop/Especializacion/NLP/Clase 2/archivos/poemas\")\n",
    "os.listdir()"
   ]
  },
  {
   "cell_type": "code",
   "execution_count": 60,
   "metadata": {},
   "outputs": [
    {
     "data": {
      "text/plain": [
       "46"
      ]
     },
     "execution_count": 60,
     "metadata": {},
     "output_type": "execute_result"
    }
   ],
   "source": [
    "with open(\"A un general (Julio Corta╠üzar).txt\") as archivo:\n",
    "    data = archivo.read()\n",
    "\n",
    "len(data.split())\n"
   ]
  },
  {
   "cell_type": "code",
   "execution_count": 61,
   "metadata": {},
   "outputs": [
    {
     "data": {
      "text/plain": [
       "23"
      ]
     },
     "execution_count": 61,
     "metadata": {},
     "output_type": "execute_result"
    }
   ],
   "source": [
    "with open(\"Aqui╠ü (Octavio Paz).txt\") as archivo:\n",
    "    data = archivo.read()\n",
    "\n",
    "len(data.split())\n"
   ]
  },
  {
   "cell_type": "code",
   "execution_count": 59,
   "metadata": {},
   "outputs": [
    {
     "data": {
      "text/plain": [
       "53"
      ]
     },
     "execution_count": 59,
     "metadata": {},
     "output_type": "execute_result"
    }
   ],
   "source": [
    "with open(\"Si╠ündrome (Mario Benedetti).txt\") as archivo:\n",
    "    data = archivo.read()\n",
    "\n",
    "len(data.split())\n"
   ]
  },
  {
   "cell_type": "markdown",
   "metadata": {},
   "source": [
    "## Respuesta: \n",
    "\n",
    "El poema con el mayor numero de palabras es Si╠ündrome (Mario Benedetti) con un total de 53 palabras.\n"
   ]
  },
  {
   "cell_type": "markdown",
   "metadata": {},
   "source": [
    "----------------------------------------------------------------------------------------------------------"
   ]
  },
  {
   "cell_type": "markdown",
   "metadata": {},
   "source": [
    "## Punto 2:\n",
    "Hacer Web Scraping de 10 biografías en Wikipedia (en búcle)\n",
    "\n",
    "Obtener el encabezado de cada biografía\n",
    "\n",
    "Obtener todos los contenidos y etiquetas de título asociados a los links del primer párrafo"
   ]
  },
  {
   "cell_type": "code",
   "execution_count": 112,
   "metadata": {},
   "outputs": [],
   "source": [
    "# Importar libreria \n",
    "import bs4 as bs \n",
    "import requests\n",
    "import urllib.request\n",
    "import numpy as np\n"
   ]
  },
  {
   "cell_type": "code",
   "execution_count": 104,
   "metadata": {},
   "outputs": [
    {
     "name": "stdout",
     "output_type": "stream",
     "text": [
      "['https://es.wikipedia.org/wiki/Mercedes-Benz_en_F%C3%B3rmula_1', 'https://es.wikipedia.org/wiki/Scuderia_Ferrari', 'https://es.wikipedia.org/wiki/Red_Bull_Racing', 'https://es.wikipedia.org/wiki/McLaren', 'https://es.wikipedia.org/wiki/Renault_en_F%C3%B3rmula_1', 'https://es.wikipedia.org/wiki/Scuderia_AlphaTauri', 'https://es.wikipedia.org/wiki/Racing_Point_F1_Team', 'https://es.wikipedia.org/wiki/Alfa_Romeo_en_F%C3%B3rmula_1', 'https://es.wikipedia.org/wiki/Haas_F1_Team', 'https://es.wikipedia.org/wiki/Williams_Grand_Prix_Engineering']\n"
     ]
    }
   ],
   "source": [
    "urls = ['https://es.wikipedia.org/wiki/Mercedes-Benz_en_F%C3%B3rmula_1', 'https://es.wikipedia.org/wiki/Scuderia_Ferrari', 'https://es.wikipedia.org/wiki/Red_Bull_Racing', 'https://es.wikipedia.org/wiki/McLaren', 'https://es.wikipedia.org/wiki/Renault_en_F%C3%B3rmula_1',\n",
    "       'https://es.wikipedia.org/wiki/Scuderia_AlphaTauri','https://es.wikipedia.org/wiki/Racing_Point_F1_Team','https://es.wikipedia.org/wiki/Alfa_Romeo_en_F%C3%B3rmula_1',\n",
    "       'https://es.wikipedia.org/wiki/Haas_F1_Team', 'https://es.wikipedia.org/wiki/Williams_Grand_Prix_Engineering']\n",
    "print(urls)"
   ]
  },
  {
   "cell_type": "markdown",
   "metadata": {},
   "source": [
    "# Obteniendo los encabezados de las 10 paginas a las que hicimos webscrapping"
   ]
  },
  {
   "cell_type": "code",
   "execution_count": 115,
   "metadata": {},
   "outputs": [],
   "source": [
    "titles = []\n",
    "\n",
    "for i in urls: \n",
    "    request = urllib.request.urlopen(i)\n",
    "    fuente = request.read()\n",
    "    request.close()\n",
    "    soup = bs.BeautifulSoup(fuente, 'html.parser')\n",
    "    name= soup.h1.text\n",
    "    titles.append(name)\n",
    "\n"
   ]
  },
  {
   "cell_type": "code",
   "execution_count": 116,
   "metadata": {},
   "outputs": [
    {
     "data": {
      "text/plain": [
       "['Mercedes-Benz en Fórmula 1',\n",
       " 'Scuderia Ferrari',\n",
       " 'Red Bull Racing',\n",
       " 'McLaren',\n",
       " 'Renault en Fórmula 1',\n",
       " 'Scuderia AlphaTauri',\n",
       " 'Racing Point F1 Team',\n",
       " 'Alfa Romeo en Fórmula 1',\n",
       " 'Haas F1 Team',\n",
       " 'Williams Grand Prix Engineering']"
      ]
     },
     "execution_count": 116,
     "metadata": {},
     "output_type": "execute_result"
    }
   ],
   "source": [
    "titles"
   ]
  },
  {
   "cell_type": "code",
   "execution_count": 169,
   "metadata": {},
   "outputs": [],
   "source": [
    "test = []\n",
    "\n",
    "\n",
    "\n",
    "for i in urls: \n",
    "    request = urllib.request.urlopen(i)\n",
    "    fuente = request.read()\n",
    "    request.close()\n",
    "    soup = bs.BeautifulSoup(fuente, 'html.parser')\n",
    "    name= soup.p\n",
    "    test.append(name)\n",
    "   \n",
    "       "
   ]
  },
  {
   "cell_type": "code",
   "execution_count": 172,
   "metadata": {},
   "outputs": [],
   "source": [
    "final = []\n",
    "\n",
    "for x in test: \n",
    "    content = x.find('a').contents\n",
    "    final.append(content)\n",
    " "
   ]
  },
  {
   "cell_type": "code",
   "execution_count": 173,
   "metadata": {},
   "outputs": [
    {
     "data": {
      "text/plain": [
       "[['Mercedes-Benz'],\n",
       " ['Ferrari'],\n",
       " ['escudería'],\n",
       " [<span class=\"corchete-llamada\">[</span>,\n",
       "  '1',\n",
       "  <span class=\"corchete-llamada\">]</span>],\n",
       " ['escudería'],\n",
       " [<span class=\"corchete-llamada\">[</span>,\n",
       "  '4',\n",
       "  <span class=\"corchete-llamada\">]</span>],\n",
       " [<span class=\"corchete-llamada\">[</span>,\n",
       "  '3',\n",
       "  <span class=\"corchete-llamada\">]</span>],\n",
       " ['Alfa Romeo'],\n",
       " [<span class=\"corchete-llamada\">[</span>,\n",
       "  '13',\n",
       "  <span class=\"corchete-llamada\">]</span>],\n",
       " ['Frank Williams']]"
      ]
     },
     "execution_count": 173,
     "metadata": {},
     "output_type": "execute_result"
    }
   ],
   "source": [
    "final"
   ]
  }
 ],
 "metadata": {
  "kernelspec": {
   "display_name": "Python 3",
   "language": "python",
   "name": "python3"
  },
  "language_info": {
   "codemirror_mode": {
    "name": "ipython",
    "version": 3
   },
   "file_extension": ".py",
   "mimetype": "text/x-python",
   "name": "python",
   "nbconvert_exporter": "python",
   "pygments_lexer": "ipython3",
   "version": "3.7.4"
  }
 },
 "nbformat": 4,
 "nbformat_minor": 2
}
