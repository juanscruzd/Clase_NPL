{
 "cells": [
  {
   "cell_type": "markdown",
   "metadata": {},
   "source": [
    "<img src='https://encrypted-tbn0.gstatic.com/images?q=tbn%3AANd9GcQ-VfNtOyJbsaxu43Kztf_cv1mgBG6ZIQZEVw&usqp=CAU'>\n",
    "\n",
    "# Procesamiento de Lenguage Natural\n",
    "\n",
    "## Taller #4: Feature Engineering \n",
    "`Fecha de entrega: Septiembre 12, 2020. (Antes del inicio de la próxima clase).`\n",
    "\n",
    "`Modo de entrega: Subir link de GitHub al aula virtual.`"
   ]
  },
  {
   "cell_type": "code",
   "execution_count": 31,
   "metadata": {},
   "outputs": [],
   "source": [
    "import re\n",
    "import pandas as pd\n",
    "\n",
    "from nltk.corpus import stopwords\n",
    "stopwords_sp = stopwords.words('spanish')\n",
    "\n",
    "from sklearn.feature_extraction.text import CountVectorizer"
   ]
  },
  {
   "cell_type": "markdown",
   "metadata": {},
   "source": [
    "# Punto 1: Pre-Procesamiento\n",
    "\n",
    "- `[11 pts]` Leer el archivo `dialogos.csv` usando `pandas`\n",
    "- `[11 pts]` Crear una nueva columna con el texto en minúscula, sin caracteres especiales ni números y sin palabras vacias"
   ]
  },
  {
   "cell_type": "code",
   "execution_count": 2,
   "metadata": {},
   "outputs": [
    {
     "data": {
      "text/plain": [
       "'C:\\\\Users\\\\Sebastian Cruz\\\\Desktop\\\\Especializacion\\\\NLP\\\\Clase 4'"
      ]
     },
     "execution_count": 2,
     "metadata": {},
     "output_type": "execute_result"
    }
   ],
   "source": [
    "import os\n",
    "os.getcwd()"
   ]
  },
  {
   "cell_type": "code",
   "execution_count": 3,
   "metadata": {},
   "outputs": [
    {
     "data": {
      "text/html": [
       "<div>\n",
       "<style scoped>\n",
       "    .dataframe tbody tr th:only-of-type {\n",
       "        vertical-align: middle;\n",
       "    }\n",
       "\n",
       "    .dataframe tbody tr th {\n",
       "        vertical-align: top;\n",
       "    }\n",
       "\n",
       "    .dataframe thead th {\n",
       "        text-align: right;\n",
       "    }\n",
       "</style>\n",
       "<table border=\"1\" class=\"dataframe\">\n",
       "  <thead>\n",
       "    <tr style=\"text-align: right;\">\n",
       "      <th></th>\n",
       "      <th>Locución</th>\n",
       "    </tr>\n",
       "  </thead>\n",
       "  <tbody>\n",
       "    <tr>\n",
       "      <td>0</td>\n",
       "      <td>Francamente no</td>\n",
       "    </tr>\n",
       "    <tr>\n",
       "      <td>1</td>\n",
       "      <td>Lo del canadiense. Por favor, como que vosotro...</td>\n",
       "    </tr>\n",
       "    <tr>\n",
       "      <td>2</td>\n",
       "      <td>Tienes razón. A lo mejor así te liberas de tu ...</td>\n",
       "    </tr>\n",
       "    <tr>\n",
       "      <td>3</td>\n",
       "      <td>Pues, tú sabrás</td>\n",
       "    </tr>\n",
       "    <tr>\n",
       "      <td>4</td>\n",
       "      <td>Para mí que fue Krieger</td>\n",
       "    </tr>\n",
       "  </tbody>\n",
       "</table>\n",
       "</div>"
      ],
      "text/plain": [
       "                                            Locución\n",
       "0                                     Francamente no\n",
       "1  Lo del canadiense. Por favor, como que vosotro...\n",
       "2  Tienes razón. A lo mejor así te liberas de tu ...\n",
       "3                                    Pues, tú sabrás\n",
       "4                            Para mí que fue Krieger"
      ]
     },
     "execution_count": 3,
     "metadata": {},
     "output_type": "execute_result"
    }
   ],
   "source": [
    "#Leer Archivo \n",
    "df = pd.read_csv(\"C:/Users/Sebastian Cruz/Desktop/Especializacion/NLP/Clase 4/dialogos.csv\", sep=\",\")\n",
    "\n",
    "df.head()"
   ]
  },
  {
   "cell_type": "code",
   "execution_count": 2,
   "metadata": {},
   "outputs": [
    {
     "data": {
      "text/html": [
       "<div>\n",
       "<style scoped>\n",
       "    .dataframe tbody tr th:only-of-type {\n",
       "        vertical-align: middle;\n",
       "    }\n",
       "\n",
       "    .dataframe tbody tr th {\n",
       "        vertical-align: top;\n",
       "    }\n",
       "\n",
       "    .dataframe thead th {\n",
       "        text-align: right;\n",
       "    }\n",
       "</style>\n",
       "<table border=\"1\" class=\"dataframe\">\n",
       "  <thead>\n",
       "    <tr style=\"text-align: right;\">\n",
       "      <th></th>\n",
       "      <th>Locución</th>\n",
       "    </tr>\n",
       "  </thead>\n",
       "  <tbody>\n",
       "    <tr>\n",
       "      <td>0</td>\n",
       "      <td>Francamente no</td>\n",
       "    </tr>\n",
       "    <tr>\n",
       "      <td>1</td>\n",
       "      <td>Lo del canadiense. Por favor, como que vosotro...</td>\n",
       "    </tr>\n",
       "    <tr>\n",
       "      <td>2</td>\n",
       "      <td>Tienes razón. A lo mejor así te liberas de tu ...</td>\n",
       "    </tr>\n",
       "    <tr>\n",
       "      <td>3</td>\n",
       "      <td>Pues, tú sabrás</td>\n",
       "    </tr>\n",
       "    <tr>\n",
       "      <td>4</td>\n",
       "      <td>Para mí que fue Krieger</td>\n",
       "    </tr>\n",
       "    <tr>\n",
       "      <td>...</td>\n",
       "      <td>...</td>\n",
       "    </tr>\n",
       "    <tr>\n",
       "      <td>954</td>\n",
       "      <td>Yo qué sé, digo yo qué será</td>\n",
       "    </tr>\n",
       "    <tr>\n",
       "      <td>955</td>\n",
       "      <td>Lo han entendido mal. Las joyas que venden en ...</td>\n",
       "    </tr>\n",
       "    <tr>\n",
       "      <td>956</td>\n",
       "      <td>Oooo... Me llamo Vivian</td>\n",
       "    </tr>\n",
       "    <tr>\n",
       "      <td>957</td>\n",
       "      <td>¿De dónde? ¿Del coño de tu madre?</td>\n",
       "    </tr>\n",
       "    <tr>\n",
       "      <td>958</td>\n",
       "      <td>Ah, sí esto podría funcionar</td>\n",
       "    </tr>\n",
       "  </tbody>\n",
       "</table>\n",
       "<p>959 rows × 1 columns</p>\n",
       "</div>"
      ],
      "text/plain": [
       "                                              Locución\n",
       "0                                       Francamente no\n",
       "1    Lo del canadiense. Por favor, como que vosotro...\n",
       "2    Tienes razón. A lo mejor así te liberas de tu ...\n",
       "3                                      Pues, tú sabrás\n",
       "4                              Para mí que fue Krieger\n",
       "..                                                 ...\n",
       "954                        Yo qué sé, digo yo qué será\n",
       "955  Lo han entendido mal. Las joyas que venden en ...\n",
       "956                            Oooo... Me llamo Vivian\n",
       "957                  ¿De dónde? ¿Del coño de tu madre?\n",
       "958                       Ah, sí esto podría funcionar\n",
       "\n",
       "[959 rows x 1 columns]"
      ]
     },
     "execution_count": 2,
     "metadata": {},
     "output_type": "execute_result"
    }
   ],
   "source": [
    "# Datos en bruto"
   ]
  },
  {
   "cell_type": "code",
   "execution_count": 65,
   "metadata": {},
   "outputs": [],
   "source": [
    "df['pre-procesado'] = df.Locución"
   ]
  },
  {
   "cell_type": "code",
   "execution_count": 66,
   "metadata": {},
   "outputs": [],
   "source": [
    "df['pre-procesado'] =df['pre-procesado'].apply(lambda x: x.lower())"
   ]
  },
  {
   "cell_type": "code",
   "execution_count": 67,
   "metadata": {},
   "outputs": [],
   "source": [
    "df['pre-procesado'] =df['pre-procesado'].apply(lambda x: re.sub(r\"[\\W\\d_]+\",\" \", x))"
   ]
  },
  {
   "cell_type": "code",
   "execution_count": 69,
   "metadata": {},
   "outputs": [
    {
     "data": {
      "text/html": [
       "<div>\n",
       "<style scoped>\n",
       "    .dataframe tbody tr th:only-of-type {\n",
       "        vertical-align: middle;\n",
       "    }\n",
       "\n",
       "    .dataframe tbody tr th {\n",
       "        vertical-align: top;\n",
       "    }\n",
       "\n",
       "    .dataframe thead th {\n",
       "        text-align: right;\n",
       "    }\n",
       "</style>\n",
       "<table border=\"1\" class=\"dataframe\">\n",
       "  <thead>\n",
       "    <tr style=\"text-align: right;\">\n",
       "      <th></th>\n",
       "      <th>Locución</th>\n",
       "      <th>pre-procesado</th>\n",
       "    </tr>\n",
       "  </thead>\n",
       "  <tbody>\n",
       "    <tr>\n",
       "      <td>0</td>\n",
       "      <td>Francamente no</td>\n",
       "      <td>francamente</td>\n",
       "    </tr>\n",
       "    <tr>\n",
       "      <td>1</td>\n",
       "      <td>Lo del canadiense. Por favor, como que vosotro...</td>\n",
       "      <td>canadiense favor tiraríais allí si pudieseis</td>\n",
       "    </tr>\n",
       "    <tr>\n",
       "      <td>2</td>\n",
       "      <td>Tienes razón. A lo mejor así te liberas de tu ...</td>\n",
       "      <td>razón mejor así liberas energía nagativa</td>\n",
       "    </tr>\n",
       "    <tr>\n",
       "      <td>3</td>\n",
       "      <td>Pues, tú sabrás</td>\n",
       "      <td>pues sabrás</td>\n",
       "    </tr>\n",
       "    <tr>\n",
       "      <td>4</td>\n",
       "      <td>Para mí que fue Krieger</td>\n",
       "      <td>krieger</td>\n",
       "    </tr>\n",
       "    <tr>\n",
       "      <td>...</td>\n",
       "      <td>...</td>\n",
       "      <td>...</td>\n",
       "    </tr>\n",
       "    <tr>\n",
       "      <td>954</td>\n",
       "      <td>Yo qué sé, digo yo qué será</td>\n",
       "      <td>sé digo</td>\n",
       "    </tr>\n",
       "    <tr>\n",
       "      <td>955</td>\n",
       "      <td>Lo han entendido mal. Las joyas que venden en ...</td>\n",
       "      <td>entendido mal joyas venden canales siquiera in...</td>\n",
       "    </tr>\n",
       "    <tr>\n",
       "      <td>956</td>\n",
       "      <td>Oooo... Me llamo Vivian</td>\n",
       "      <td>oooo llamo vivian</td>\n",
       "    </tr>\n",
       "    <tr>\n",
       "      <td>957</td>\n",
       "      <td>¿De dónde? ¿Del coño de tu madre?</td>\n",
       "      <td>dónde coño madre</td>\n",
       "    </tr>\n",
       "    <tr>\n",
       "      <td>958</td>\n",
       "      <td>Ah, sí esto podría funcionar</td>\n",
       "      <td>ah podría funcionar</td>\n",
       "    </tr>\n",
       "  </tbody>\n",
       "</table>\n",
       "<p>959 rows × 2 columns</p>\n",
       "</div>"
      ],
      "text/plain": [
       "                                              Locución  \\\n",
       "0                                       Francamente no   \n",
       "1    Lo del canadiense. Por favor, como que vosotro...   \n",
       "2    Tienes razón. A lo mejor así te liberas de tu ...   \n",
       "3                                      Pues, tú sabrás   \n",
       "4                              Para mí que fue Krieger   \n",
       "..                                                 ...   \n",
       "954                        Yo qué sé, digo yo qué será   \n",
       "955  Lo han entendido mal. Las joyas que venden en ...   \n",
       "956                            Oooo... Me llamo Vivian   \n",
       "957                  ¿De dónde? ¿Del coño de tu madre?   \n",
       "958                       Ah, sí esto podría funcionar   \n",
       "\n",
       "                                         pre-procesado  \n",
       "0                                          francamente  \n",
       "1         canadiense favor tiraríais allí si pudieseis  \n",
       "2             razón mejor así liberas energía nagativa  \n",
       "3                                          pues sabrás  \n",
       "4                                              krieger  \n",
       "..                                                 ...  \n",
       "954                                            sé digo  \n",
       "955  entendido mal joyas venden canales siquiera in...  \n",
       "956                                  oooo llamo vivian  \n",
       "957                                   dónde coño madre  \n",
       "958                                ah podría funcionar  \n",
       "\n",
       "[959 rows x 2 columns]"
      ]
     },
     "execution_count": 69,
     "metadata": {},
     "output_type": "execute_result"
    }
   ],
   "source": [
    "df['pre-procesado'] =df['pre-procesado'].apply(lambda x: ' '.join([palabra for palabra in x.split() if palabra not in stopwords_sp]))\n",
    "df"
   ]
  },
  {
   "cell_type": "code",
   "execution_count": 5,
   "metadata": {},
   "outputs": [
    {
     "data": {
      "text/html": [
       "<div>\n",
       "<style scoped>\n",
       "    .dataframe tbody tr th:only-of-type {\n",
       "        vertical-align: middle;\n",
       "    }\n",
       "\n",
       "    .dataframe tbody tr th {\n",
       "        vertical-align: top;\n",
       "    }\n",
       "\n",
       "    .dataframe thead th {\n",
       "        text-align: right;\n",
       "    }\n",
       "</style>\n",
       "<table border=\"1\" class=\"dataframe\">\n",
       "  <thead>\n",
       "    <tr style=\"text-align: right;\">\n",
       "      <th></th>\n",
       "      <th>Locución</th>\n",
       "      <th>pre-procesado</th>\n",
       "    </tr>\n",
       "  </thead>\n",
       "  <tbody>\n",
       "    <tr>\n",
       "      <td>0</td>\n",
       "      <td>Francamente no</td>\n",
       "      <td>francamente</td>\n",
       "    </tr>\n",
       "    <tr>\n",
       "      <td>1</td>\n",
       "      <td>Lo del canadiense. Por favor, como que vosotro...</td>\n",
       "      <td>canadiense favor tiraríais allí si pudieseis</td>\n",
       "    </tr>\n",
       "    <tr>\n",
       "      <td>2</td>\n",
       "      <td>Tienes razón. A lo mejor así te liberas de tu ...</td>\n",
       "      <td>razón mejor así liberas energía nagativa</td>\n",
       "    </tr>\n",
       "    <tr>\n",
       "      <td>3</td>\n",
       "      <td>Pues, tú sabrás</td>\n",
       "      <td>pues sabrás</td>\n",
       "    </tr>\n",
       "    <tr>\n",
       "      <td>4</td>\n",
       "      <td>Para mí que fue Krieger</td>\n",
       "      <td>krieger</td>\n",
       "    </tr>\n",
       "    <tr>\n",
       "      <td>...</td>\n",
       "      <td>...</td>\n",
       "      <td>...</td>\n",
       "    </tr>\n",
       "    <tr>\n",
       "      <td>954</td>\n",
       "      <td>Yo qué sé, digo yo qué será</td>\n",
       "      <td>sé digo</td>\n",
       "    </tr>\n",
       "    <tr>\n",
       "      <td>955</td>\n",
       "      <td>Lo han entendido mal. Las joyas que venden en ...</td>\n",
       "      <td>entendido mal joyas venden canales siquiera in...</td>\n",
       "    </tr>\n",
       "    <tr>\n",
       "      <td>956</td>\n",
       "      <td>Oooo... Me llamo Vivian</td>\n",
       "      <td>oooo llamo vivian</td>\n",
       "    </tr>\n",
       "    <tr>\n",
       "      <td>957</td>\n",
       "      <td>¿De dónde? ¿Del coño de tu madre?</td>\n",
       "      <td>dónde coño madre</td>\n",
       "    </tr>\n",
       "    <tr>\n",
       "      <td>958</td>\n",
       "      <td>Ah, sí esto podría funcionar</td>\n",
       "      <td>ah podría funcionar</td>\n",
       "    </tr>\n",
       "  </tbody>\n",
       "</table>\n",
       "<p>959 rows × 2 columns</p>\n",
       "</div>"
      ],
      "text/plain": [
       "                                              Locución  \\\n",
       "0                                       Francamente no   \n",
       "1    Lo del canadiense. Por favor, como que vosotro...   \n",
       "2    Tienes razón. A lo mejor así te liberas de tu ...   \n",
       "3                                      Pues, tú sabrás   \n",
       "4                              Para mí que fue Krieger   \n",
       "..                                                 ...   \n",
       "954                        Yo qué sé, digo yo qué será   \n",
       "955  Lo han entendido mal. Las joyas que venden en ...   \n",
       "956                            Oooo... Me llamo Vivian   \n",
       "957                  ¿De dónde? ¿Del coño de tu madre?   \n",
       "958                       Ah, sí esto podría funcionar   \n",
       "\n",
       "                                         pre-procesado  \n",
       "0                                          francamente  \n",
       "1         canadiense favor tiraríais allí si pudieseis  \n",
       "2             razón mejor así liberas energía nagativa  \n",
       "3                                          pues sabrás  \n",
       "4                                              krieger  \n",
       "..                                                 ...  \n",
       "954                                            sé digo  \n",
       "955  entendido mal joyas venden canales siquiera in...  \n",
       "956                                  oooo llamo vivian  \n",
       "957                                   dónde coño madre  \n",
       "958                                ah podría funcionar  \n",
       "\n",
       "[959 rows x 2 columns]"
      ]
     },
     "execution_count": 5,
     "metadata": {},
     "output_type": "execute_result"
    }
   ],
   "source": [
    "# Datos con la nueva columna"
   ]
  },
  {
   "cell_type": "markdown",
   "metadata": {},
   "source": [
    "# Punto 2: Representación vectorial\n",
    "\n",
    "- `[11 pts]` Crear una bolsa de palabras (BoW) del corpus usando la columna pre-procesada\n",
    "- `[11 pts]` ¿Cuántas palabras hay en el vocabulario? (Usando la función de `sklearn`)"
   ]
  },
  {
   "cell_type": "code",
   "execution_count": 77,
   "metadata": {},
   "outputs": [
    {
     "name": "stdout",
     "output_type": "stream",
     "text": [
      "[('peso', 1), ('reunión', 2), ('desaparecido', 3), ('fondo', 4), ('aceptarlo', 5), ('pesadilla', 6), ('padre', 7), ('futuro', 8), ('mover', 9), ('estúpido', 10), ('país', 11), ('atención', 12), ('crearla', 13), ('piensas', 14), ('niveles', 15), ('mamá', 16), ('ocurrir', 17), ('llevando', 18), ('dijo', 19), ('archer', 20), ('enrique', 21), ('cero', 22), ('cola', 23), ('llamarlos', 24), ('problema', 25), ('golpeen', 26), ('volar', 27), ('ganas', 28), ('avisárselo', 29), ('usted', 30), ('acepta', 31), ('vergón', 32), ('pagó', 33), ('igual', 34), ('ciego', 35), ('horneando', 36), ('mañana', 37), ('sinceridad', 38), ('estabáis', 39), ('poner', 40), ('cal', 41), ('tapadera', 42), ('río', 43), ('vendemos', 44), ('existe', 45), ('maldíto', 46), ('amigo', 47), ('enfestar', 48), ('puedo', 49), ('allí', 50), ('mate', 51), ('contarle', 52), ('posan', 53), ('sabían', 54), ('timarnos', 55), ('matas', 56), ('canadiense', 57), ('pues', 58), ('quede', 59), ('árbitros', 60), ('solo', 61), ('cuarto', 62), ('compra', 63), ('motél', 64), ('voz', 65), ('pasado', 66), ('cualquiera', 67), ('importante', 68), ('caríta', 69), ('bien', 70), ('presidencia', 71), ('iluminarse', 72), ('ordenador', 73), ('perro', 74), ('ven', 75), ('rome', 76), ('torpe', 77), ('poker', 78), ('fácilmente', 79), ('intenten', 80), ('aprendiendo', 81), ('relleníta', 82), ('tiraríais', 83), ('invito', 84), ('rebalsa', 85), ('tranquila', 86), ('normal', 87), ('provocar', 88), ('pam', 89), ('golpe', 90), ('hablas', 91), ('uh', 92), ('quise', 93), ('fondos', 94), ('fresco', 95), ('sólidos', 96), ('especial', 97), ('té', 98), ('francamente', 99), ('rico', 100), ('globo', 101), ('refiero', 102), ('identificación', 103), ('pasta', 104), ('cagar', 105), ('veas', 106), ('podrías', 107), ('van', 108), ('batir', 109), ('ciencia', 110), ('adreza', 111), ('prefiero', 112), ('rayos', 113), ('ira', 114), ('cubierto', 115), ('meta', 116), ('precios', 117), ('mexicano', 118), ('equación', 119), ('quiera', 120), ('canal', 121), ('tomar', 122), ('trabajo', 123), ('dame', 124), ('pisos', 125), ('emocionante', 126), ('lando', 127), ('quete', 128), ('jim', 129), ('necesita', 130), ('molesta', 131), ('pondré', 132), ('oro', 133), ('vuelvas', 134), ('suficientes', 135), ('deseas', 136), ('subid', 137), ('quidaras', 138), ('indica', 139), ('entusiasma', 140), ('malpinas', 141), ('capaz', 142), ('finde', 143), ('marchando', 144), ('cierrate', 145), ('hagámos', 146), ('acompaña', 147), ('deben', 148), ('tac', 149), ('selector', 150), ('miel', 151), ('nueva', 152), ('prácticamente', 153), ('tb', 154), ('comprarles', 155), ('pregunta', 156), ('operación', 157), ('vuelvo', 158), ('cánada', 159), ('licores', 160), ('hacéis', 161), ('topo', 162), ('tal', 163), ('barbaridades', 164), ('visita', 165), ('amable', 166), ('enmendarlo', 167), ('miren', 168), ('relleno', 169), ('cabrearme', 170), ('pilas', 171), ('biónica', 172), ('espalda', 173), ('reemplazar', 174), ('aquí', 175), ('despeché', 176), ('llamó', 177), ('contexto', 178), ('sentaré', 179), ('mire', 180), ('compasiva', 181), ('aviso', 182), ('abrazas', 183), ('competitividad', 184), ('beberé', 185), ('parecemos', 186), ('paso', 187), ('sitio', 188), ('quizás', 189), ('castaña', 190), ('dado', 191), ('capital', 192), ('excesivo', 193), ('echar', 194), ('llamado', 195), ('copas', 196), ('veamos', 197), ('vale', 198), ('pillarte', 199), ('jolín', 200), ('token', 201), ('ayudarme', 202), ('sientes', 203), ('buenos', 204), ('isis', 205), ('sopearte', 206), ('fundimos', 207), ('lecciones', 208), ('sujeto', 209), ('coge', 210), ('aha', 211), ('jugadas', 212), ('custodiada', 213), ('simulacro', 214), ('enviarlo', 215), ('mierda', 216), ('cientos', 217), ('atreven', 218), ('amistad', 219), ('línea', 220), ('idea', 221), ('peor', 222), ('vuelva', 223), ('supuestos', 224), ('jugador', 225), ('años', 226), ('horas', 227), ('tí', 228), ('roger', 229), ('jamontillado', 230), ('dama', 231), ('cáncer', 232), ('jilibollas', 233), ('tóma', 234), ('jodo', 235), ('recuperar', 236), ('novatos', 237), ('vagamente', 238), ('disparado', 239), ('copa', 240), ('jóven', 241), ('corbatíta', 242), ('contar', 243), ('nuevos', 244), ('cuatrao', 245), ('increíble', 246), ('tienda', 247), ('mayor', 248), ('comprar', 249), ('vas', 250), ('ponerte', 251), ('crezcas', 252), ('perstigioso', 253), ('juntos', 254), ('oooo', 255), ('sombreros', 256), ('payton', 257), ('cansamos', 258), ('representante', 259), ('culpable', 260), ('verte', 261), ('persona', 262), ('conté', 263), ('enémigo', 264), ('dólares', 265), ('aire', 266), ('burdel', 267), ('supongo', 268), ('contado', 269), ('lleno', 270), ('seguiste', 271), ('menos', 272), ('traumas', 273), ('hacemos', 274), ('sale', 275), ('prohibe', 276), ('soluciona', 277), ('esfuerzo', 278), ('necesidad', 279), ('darme', 280), ('mirándolo', 281), ('división', 282), ('acerca', 283), ('juegen', 284), ('amabilidad', 285), ('bromista', 286), ('exceso', 287), ('cerca', 288), ('pendiente', 289), ('dios', 290), ('siguiente', 291), ('terminar', 292), ('llamé', 293), ('descubierto', 294), ('liberas', 295), ('ayer', 296), ('decide', 297), ('envían', 298), ('móvil', 299), ('quería', 300), ('frente', 301), ('vestidos', 302), ('preocupa', 303), ('resolverlo', 304), ('cámara', 305), ('transferencia', 306), ('doy', 307), ('maldito', 308), ('culos', 309), ('busco', 310), ('siesta', 311), ('patches', 312), ('escaleras', 313), ('nueve', 314), ('siguen', 315), ('ninguna', 316), ('animadoras', 317), ('carajo', 318), ('esperé', 319), ('dobles', 320), ('junto', 321), ('gaylandia', 322), ('cien', 323), ('inaugural', 324), ('boom', 325), ('llamarás', 326), ('escocés', 327), ('escolares', 328), ('lastimen', 329), ('hacer', 330), ('sirven', 331), ('dijiste', 332), ('quince', 333), ('preocupación', 334), ('haciendo', 335), ('collar', 336), ('realidad', 337), ('tomándose', 338), ('negamos', 339), ('comprendemos', 340), ('culpa', 341), ('mejorar', 342), ('mega', 343), ('entrenador', 344), ('cada', 345), ('deporte', 346), ('frecuente', 347), ('toquecíto', 348), ('hicimos', 349), ('tiempo', 350), ('odia', 351), ('pena', 352), ('apellido', 353), ('gente', 354), ('sarcástico', 355), ('comida', 356), ('abrazar', 357), ('correrá', 358), ('detuvo', 359), ('suelo', 360), ('ello', 361), ('desgraciado', 362), ('salto', 363), ('millones', 364), ('podríamos', 365), ('saben', 366), ('bourbon', 367), ('caray', 368), ('licencia', 369), ('viernes', 370), ('mexicanos', 371), ('bigotón', 372), ('mostrar', 373), ('contento', 374), ('oiga', 375), ('encargados', 376), ('cubrirlo', 377), ('aplauso', 378), ('despistar', 379), ('mai', 380), ('mamada', 381), ('pobrecito', 382), ('cremoso', 383), ('después', 384), ('cantante', 385), ('kay', 386), ('guardadas', 387), ('ver', 388), ('fuerzas', 389), ('tacos', 390), ('muchachas', 391), ('denver', 392), ('armado', 393), ('inventaron', 394), ('esclavizados', 395), ('bebe', 396), ('confianza', 397), ('noventa', 398), ('serio', 399), ('información', 400), ('partida', 401), ('hagas', 402), ('felices', 403), ('compasión', 404), ('infromación', 405), ('escupieras', 406), ('temas', 407), ('asta', 408), ('haría', 409), ('grande', 410), ('decidíamos', 411), ('sólidas', 412), ('jordana', 413), ('ciertamente', 414), ('empiezo', 415), ('agradezca', 416), ('cállate', 417), ('victoria', 418), ('estadísticas', 419), ('fuertemente', 420), ('perfil', 421), ('pibe', 422), ('real', 423), ('domésticos', 424), ('maneja', 425), ('conoce', 426), ('gicante', 427), ('ojos', 428), ('elegir', 429), ('darte', 430), ('vendrá', 431), ('muchísimas', 432), ('intentan', 433), ('acceso', 434), ('apunta', 435), ('cuija', 436), ('libres', 437), ('deberíamos', 438), ('brazaletes', 439), ('majo', 440), ('necesites', 441), ('ciber', 442), ('mil', 443), ('militar', 444), ('tetfield', 445), ('usa', 446), ('caña', 447), ('aretes', 448), ('usarla', 449), ('x', 450), ('cia', 451), ('carrachi', 452), ('wow', 453), ('sujetes', 454), ('tontería', 455), ('peligroso', 456), ('detenernos', 457), ('verbo', 458), ('ben', 459), ('proteger', 460), ('puta', 461), ('vienes', 462), ('faux', 463), ('inventó', 464), ('listo', 465), ('hico', 466), ('padres', 467), ('cuidado', 468), ('ocurren', 469), ('sabe', 470), ('favor', 471), ('acercarse', 472), ('tiros', 473), ('aburato', 474), ('viejo', 475), ('hablando', 476), ('jugando', 477), ('varios', 478), ('deciendo', 479), ('bebas', 480), ('volveré', 481), ('linda', 482), ('botella', 483), ('cuatorce', 484), ('genios', 485), ('esmeraldas', 486), ('esmeralda', 487), ('estudian', 488), ('clyde', 489), ('anuales', 490), ('vinieramos', 491), ('demostrando', 492), ('disfrutamos', 493), ('pregunto', 494), ('compasíbles', 495), ('quisiera', 496), ('llamo', 497), ('chica', 498), ('sufras', 499), ('paquistán', 500), ('rojo', 501), ('esperando', 502), ('llamativo', 503), ('juegas', 504), ('genial', 505), ('traer', 506), ('pasarlo', 507), ('comisionado', 508), ('tirarte', 509), ('carajos', 510), ('preocupes', 511), ('relación', 512), ('creerlo', 513), ('perdón', 514), ('robot', 515), ('crear', 516), ('disculpe', 517), ('santo', 518), ('practicar', 519), ('lindo', 520), ('ayuda', 521), ('crece', 522), ('corten', 523), ('secreto', 524), ('ventas', 525), ('secuencia', 526), ('cara', 527), ('intermediarios', 528), ('cree', 529), ('dejarle', 530), ('comerciales', 531), ('aprovechen', 532), ('identidad', 533), ('pensando', 534), ('comenzar', 535), ('abrazan', 536), ('niña', 537), ('amigos', 538), ('jhonsson', 539), ('gustará', 540), ('abrochame', 541), ('eric', 542), ('ancianos', 543), ('sólo', 544), ('venido', 545), ('coronel', 546), ('dicho', 547), ('directamente', 548), ('apta', 549), ('minuto', 550), ('matáis', 551), ('término', 552), ('verla', 553), ('aqui', 554), ('cargando', 555), ('alegría', 556), ('podría', 557), ('atrás', 558), ('acabas', 559), ('hablemos', 560), ('méxicano', 561), ('chovinista', 562), ('kane', 563), ('recuerdas', 564), ('mucha', 565), ('blindado', 566), ('quiere', 567), ('sudamérica', 568), ('peligrosas', 569), ('espaldas', 570), ('guardarla', 571), ('salchicha', 572), ('entendido', 573), ('hace', 574), ('kenny', 575), ('quieres', 576), ('violador', 577), ('ultramoderna', 578), ('misión', 579), ('entiendo', 580), ('barra', 581), ('volvería', 582), ('estudiando', 583), ('oído', 584), ('permiten', 585), ('preocupado', 586), ('aspirante', 587), ('abuelo', 588), ('cristal', 589), ('venir', 590), ('abrazos', 591), ('aprendimos', 592), ('liga', 593), ('terminado', 594), ('libros', 595), ('resto', 596), ('jodiendo', 597), ('decirle', 598), ('armas', 599), ('fascinante', 600), ('salidos', 601), ('terraza', 602), ('dejado', 603), ('despechada', 604), ('verdadero', 605), ('veo', 606), ('mejoró', 607), ('sigas', 608), ('investigación', 609), ('cambio', 610), ('señora', 611), ('ganan', 612), ('familiar', 613), ('avergonzarse', 614), ('incluida', 615), ('enojemos', 616), ('hablo', 617), ('bastante', 618), ('averiguarémos', 619), ('india', 620), ('queremos', 621), ('luego', 622), ('punto', 623), ('tirado', 624), ('sacas', 625), ('pueden', 626), ('comodines', 627), ('palmadas', 628), ('burlarse', 629), ('ascani', 630), ('pidiera', 631), ('claudia', 632), ('abogada', 633), ('keith', 634), ('negors', 635), ('tradicional', 636), ('esposa', 637), ('mata', 638), ('mejorarlo', 639), ('divertiste', 640), ('m', 641), ('vivian', 642), ('harémos', 643), ('acabo', 644), ('hablar', 645), ('mato', 646), ('slater', 647), ('momento', 648), ('sesiones', 649), ('abracense', 650), ('pongas', 651), ('pillar', 652), ('días', 653), ('vuélvete', 654), ('joden', 655), ('pego', 656), ('amenazado', 657), ('quedaríamos', 658), ('funcionará', 659), ('alzheimer', 660), ('malin', 661), ('vez', 662), ('tanzanita', 663), ('futból', 664), ('sido', 665), ('buenas', 666), ('sigo', 667), ('parecido', 668), ('litros', 669), ('refiere', 670), ('conocido', 671), ('clave', 672), ('refería', 673), ('dejarme', 674), ('caballeros', 675), ('último', 676), ('dónde', 677), ('poniendo', 678), ('color', 679), ('esperándome', 680), ('mismo', 681), ('club', 682), ('argentio', 683), ('refrán', 684), ('promoción', 685), ('intentar', 686), ('osíto', 687), ('arriba', 688), ('apoyo', 689), ('david', 690), ('asustar', 691), ('ofrecerías', 692), ('datos', 693), ('parece', 694), ('himno', 695), ('pateamos', 696), ('urdu', 697), ('lleves', 698), ('conduce', 699), ('materna', 700), ('alegra', 701), ('bordado', 702), ('unas', 703), ('intentado', 704), ('asiáticas', 705), ('encragaré', 706), ('señal', 707), ('sacarlo', 708), ('jueguen', 709), ('guardar', 710), ('archerizar', 711), ('futbol', 712), ('conducir', 713), ('imigración', 714), ('paciente', 715), ('laboratorio', 716), ('sufriendo', 717), ('jubilación', 718), ('espermas', 719), ('aquel', 720), ('lineación', 721), ('razón', 722), ('pareczo', 723), ('intente', 724), ('veía', 725), ('guardaré', 726), ('cambiar', 727), ('toda', 728), ('controles', 729), ('chupe', 730), ('escuche', 731), ('amo', 732), ('mejor', 733), ('gritan', 734), ('ponedlas', 735), ('gustan', 736), ('negó', 737), ('puñalada', 738), ('gas', 739), ('cartel', 740), ('ir', 741), ('arma', 742), ('cúbreme', 743), ('rato', 744), ('ofertas', 745), ('beber', 746), ('oblígame', 747), ('pronuncia', 748), ('patear', 749), ('debería', 750), ('miles', 751), ('tipo', 752), ('primo', 753), ('randy', 754), ('fastidiarse', 755), ('rancasteis', 756), ('puntos', 757), ('hagámoslo', 758), ('rendirse', 759), ('cuántas', 760), ('brújula', 761), ('efectivo', 762), ('defensor', 763), ('ido', 764), ('lograr', 765), ('completamete', 766), ('voluntad', 767), ('oferta', 768), ('ustedes', 769), ('conmoción', 770), ('azúcar', 771), ('evitar', 772), ('quieren', 773), ('personas', 774), ('stanley', 775), ('aprovecha', 776), ('quere', 777), ('traidor', 778), ('franco', 779), ('entrega', 780), ('pasa', 781), ('diez', 782), ('hará', 783), ('escuchar', 784), ('jefe', 785), ('porcuro', 786), ('pobre', 787), ('saltar', 788), ('joderla', 789), ('quién', 790), ('especiales', 791), ('ridículo', 792), ('yurta', 793), ('mali', 794), ('igualíto', 795), ('sentir', 796), ('ponerme', 797), ('cierra', 798), ('darle', 799), ('pienso', 800), ('hacerlo', 801), ('pondría', 802), ('costoso', 803), ('aptece', 804), ('confunden', 805), ('terminó', 806), ('ojalá', 807), ('literalment', 808), ('primero', 809), ('buscar', 810), ('canguros', 811), ('único', 812), ('estableció', 813), ('todavía', 814), ('complicado', 815), ('cuál', 816), ('dudo', 817), ('rey', 818), ('avanzan', 819), ('llámame', 820), ('conversación', 821), ('come', 822), ('cabra', 823), ('vayas', 824), ('mala', 825), ('procura', 826), ('venden', 827), ('literalmente', 828), ('country', 829), ('capas', 830), ('cuadras', 831), ('ley', 832), ('deportaran', 833), ('deberías', 834), ('dispares', 835), ('tener', 836), ('pastel', 837), ('florecente', 838), ('traicionó', 839), ('sabrás', 840), ('calrissiano', 841), ('sagrado', 842), ('ningún', 843), ('bebé', 844), ('descaradamente', 845), ('distinguir', 846), ('básicamente', 847), ('racista', 848), ('prestame', 849), ('empanada', 850), ('leche', 851), ('claramente', 852), ('hola', 853), ('calle', 854), ('creciente', 855), ('quedo', 856), ('estáte', 857), ('gastar', 858), ('joder', 859), ('hizo', 860), ('murió', 861), ('pásalo', 862), ('ocultarlo', 863), ('minutos', 864), ('dijeron', 865), ('mediante', 866), ('auténticos', 867), ('hacia', 868), ('quítate', 869), ('divertido', 870), ('niñera', 871), ('amor', 872), ('gustarán', 873), ('balas', 874), ('cogerlas', 875), ('hermanita', 876), ('producen', 877), ('cin', 878), ('sevidor', 879), ('café', 880), ('mandaste', 881), ('pongamoslo', 882), ('venganza', 883), ('principal', 884), ('preguntas', 885), ('sedes', 886), ('interesante', 887), ('foto', 888), ('felizidad', 889), ('antimatéria', 890), ('habernos', 891), ('fotos', 892), ('vamos', 893), ('pequeña', 894), ('skymal', 895), ('llevamos', 896), ('fundidor', 897), ('explotan', 898), ('llevaré', 899), ('ponle', 900), ('parado', 901), ('vida', 902), ('bolsa', 903), ('v', 904), ('pelo', 905), ('última', 906), ('roba', 907), ('estudo', 908), ('consiento', 909), ('cascos', 910), ('entendemos', 911), ('usado', 912), ('acorazada', 913), ('resumiendo', 914), ('mano', 915), ('desangras', 916), ('trajera', 917), ('generó', 918), ('jackson', 919), ('mentirosa', 920), ('convertir', 921), ('retribución', 922), ('llevar', 923), ('recuerdos', 924), ('recuerdo', 925), ('sucia', 926), ('adentro', 927), ('caja', 928), ('irónico', 929), ('hija', 930), ('puede', 931), ('convertirlo', 932), ('acuerdo', 933), ('hai', 934), ('ve', 935), ('sosténes', 936), ('adiós', 937), ('programa', 938), ('quilates', 939), ('energía', 940), ('pantalones', 941), ('centro', 942), ('kilítos', 943), ('duelen', 944), ('eleve', 945), ('europa', 946), ('investigaciones', 947), ('recuerdenlo', 948), ('ofrezco', 949), ('fundir', 950), ('disparan', 951), ('sucios', 952), ('entonces', 953), ('sabemos', 954), ('pago', 955), ('televisión', 956), ('acaba', 957), ('cuándo', 958), ('mujeres', 959), ('verdadera', 960), ('bébe', 961), ('comprenlo', 962), ('piso', 963), ('pensamientos', 964), ('sucedido', 965), ('reales', 966), ('siendo', 967), ('formar', 968), ('pusiste', 969), ('montar', 970), ('dispararan', 971), ('espere', 972), ('empezar', 973), ('domingo', 974), ('cloro', 975), ('bolas', 976), ('lentamente', 977), ('cincuenta', 978), ('familiares', 979), ('oh', 980), ('propulsor', 981), ('traficante', 982), ('accidentes', 983), ('zona', 984), ('cuenta', 985), ('casi', 986), ('perdona', 987), ('grandes', 988), ('ayudarémos', 989), ('ropa', 990), ('hable', 991), ('pai', 992), ('éxito', 993), ('imaginario', 994), ('vender', 995), ('bárbaros', 996), ('siglos', 997), ('sigues', 998), ('gorda', 999), ('podía', 1000), ('dar', 1001), ('acero', 1002), ('continúe', 1003), ('escansará', 1004), ('quiénes', 1005), ('comisionato', 1006), ('pelígro', 1007), ('cojones', 1008), ('valor', 1009), ('poder', 1010), ('haces', 1011), ('pasar', 1012), ('fastidies', 1013), ('sarcasmobol', 1014), ('mirad', 1015), ('confidencial', 1016), ('hablaste', 1017), ('corbatas', 1018), ('fiarme', 1019), ('hacen', 1020), ('marcador', 1021), ('sostén', 1022), ('burrito', 1023), ('proviene', 1024), ('miro', 1025), ('playa', 1026), ('ray', 1027), ('matar', 1028), ('pinta', 1029), ('recargando', 1030), ('seguridad', 1031), ('exagera', 1032), ('agradecerte', 1033), ('llamar', 1034), ('nadie', 1035), ('sacado', 1036), ('gordado', 1037), ('clavado', 1038), ('extra', 1039), ('alguien', 1040), ('siquiera', 1041), ('stan', 1042), ('decirles', 1043), ('puesto', 1044), ('animal', 1045), ('mentiste', 1046), ('viviría', 1047), ('narices', 1048), ('cielos', 1049), ('cosas', 1050), ('shelly', 1051), ('equipo', 1052), ('deje', 1053), ('imbécil', 1054), ('reventa', 1055), ('puñalarme', 1056), ('sesos', 1057), ('salió', 1058), ('ocurrió', 1059), ('duro', 1060), ('hecho', 1061), ('socios', 1062), ('queda', 1063), ('mercado', 1064), ('tiro', 1065), ('suelen', 1066), ('tomemos', 1067), ('broncos', 1068), ('meneara', 1069), ('sabías', 1070), ('cuestión', 1071), ('puerta', 1072), ('limusina', 1073), ('encuentra', 1074), ('compañeros', 1075), ('maritin', 1076), ('perdidio', 1077), ('capitán', 1078), ('sueños', 1079), ('entrando', 1080), ('uuh', 1081), ('sé', 1082), ('servicio', 1083), ('aj', 1084), ('frivolidades', 1085), ('lugar', 1086), ('valiosas', 1087), ('necesito', 1088), ('contrario', 1089), ('china', 1090), ('entrenarlos', 1091), ('paties', 1092), ('explicar', 1093), ('jodiéndola', 1094), ('browns', 1095), ('broma', 1096), ('joyas', 1097), ('atrape', 1098), ('oigan', 1099), ('sarcásticos', 1100), ('caemos', 1101), ('flecha', 1102), ('américa', 1103), ('grite', 1104), ('pidiendo', 1105), ('actor', 1106), ('bueno', 1107), ('cómo', 1108), ('concentrémonos', 1109), ('arrancaste', 1110), ('cíborg', 1111), ('sostenes', 1112), ('ocho', 1113), ('ejemplo', 1114), ('casa', 1115), ('uniformes', 1116), ('intención', 1117), ('digan', 1118), ('tres', 1119), ('voy', 1120), ('compromiso', 1121), ('botellitas', 1122), ('operan', 1123), ('teléfonos', 1124), ('disco', 1125), ('semejante', 1126), ('verás', 1127), ('hacerte', 1128), ('tomo', 1129), ('papel', 1130), ('órdenes', 1131), ('licor', 1132), ('salvo', 1133), ('bebés', 1134), ('sharon', 1135), ('duró', 1136), ('robotizado', 1137), ('crucial', 1138), ('traicioneros', 1139), ('madre', 1140), ('alegre', 1141), ('nagativa', 1142), ('ocasión', 1143), ('implicaré', 1144), ('señala', 1145), ('nube', 1146), ('apuesto', 1147), ('salchichas', 1148), ('pagar', 1149), ('fuerte', 1150), ('agradecernos', 1151), ('familia', 1152), ('heróico', 1153), ('sabía', 1154), ('ex', 1155), ('puse', 1156), ('rayo', 1157), ('genéticas', 1158), ('chicos', 1159), ('gane', 1160), ('informático', 1161), ('sistema', 1162), ('mejora', 1163), ('llévanos', 1164), ('cinco', 1165), ('inventor', 1166), ('elección', 1167), ('tercera', 1168), ('sola', 1169), ('olvídense', 1170), ('imponentes', 1171), ('bondad', 1172), ('humo', 1173), ('lindas', 1174), ('improbable', 1175), ('dispararon', 1176), ('amenazar', 1177), ('crecido', 1178), ('encontrarán', 1179), ('querré', 1180), ('decirme', 1181), ('esprema', 1182), ('frase', 1183), ('llegar', 1184), ('olvidarme', 1185), ('pegado', 1186), ('hermosura', 1187), ('cuidar', 1188), ('bendíto', 1189), ('fallecer', 1190), ('chinos', 1191), ('preparas', 1192), ('tome', 1193), ('correcto', 1194), ('espectadores', 1195), ('dura', 1196), ('cilo', 1197), ('determinen', 1198), ('servidor', 1199), ('central', 1200), ('fuego', 1201), ('pérdida', 1202), ('laboral', 1203), ('presidente', 1204), ('jode', 1205), ('viejos', 1206), ('levanta', 1207), ('resuelven', 1208), ('dejadme', 1209), ('oigo', 1210), ('francesa', 1211), ('justo', 1212), ('cruzado', 1213), ('ahora', 1214), ('veímos', 1215), ('busca', 1216), ('urgencia', 1217), ('testamento', 1218), ('masticaras', 1219), ('kyle', 1220), ('nombre', 1221), ('vacía', 1222), ('ay', 1223), ('conchabados', 1224), ('parar', 1225), ('campo', 1226), ('sacad', 1227), ('boca', 1228), ('cabras', 1229), ('confundirme', 1230), ('muchísimo', 1231), ('estrella', 1232), ('tenerla', 1233), ('siguiera', 1234), ('ríe', 1235), ('encuentren', 1236), ('riders', 1237), ('ken', 1238), ('buen', 1239), ('puedas', 1240), ('reformar', 1241), ('vestidor', 1242), ('número', 1243), ('pistola', 1244), ('advierto', 1245), ('gentil', 1246), ('deja', 1247), ('escapan', 1248), ('corazón', 1249), ('imbéciles', 1250), ('cuanto', 1251), ('esperar', 1252), ('cosquillas', 1253), ('oso', 1254), ('martín', 1255), ('calor', 1256), ('gritar', 1257), ('virgen', 1258), ('preguntado', 1259), ('veintiquatro', 1260), ('perfecto', 1261), ('usan', 1262), ('vendría', 1263), ('viene', 1264), ('hago', 1265), ('memoria', 1266), ('acabe', 1267), ('sangre', 1268), ('inmaduro', 1269), ('pañales', 1270), ('aunque', 1271), ('dispararé', 1272), ('daño', 1273), ('efectos', 1274), ('haz', 1275), ('dispararme', 1276), ('resulta', 1277), ('tipi', 1278), ('buena', 1279), ('muchachos', 1280), ('lamentamos', 1281), ('terminen', 1282), ('brasilia', 1283), ('manera', 1284), ('mike', 1285), ('perder', 1286), ('rimó', 1287), ('experiencia', 1288), ('mira', 1289), ('sarcasmo', 1290), ('camradería', 1291), ('conway', 1292), ('bebemos', 1293), ('plan', 1294), ('demasiado', 1295), ('llaves', 1296), ('excusado', 1297), ('sufro', 1298), ('terríble', 1299), ('necesarias', 1300), ('alumnos', 1301), ('pastor', 1302), ('hospitalidad', 1303), ('joderme', 1304), ('regresemos', 1305), ('sentiría', 1306), ('sincero', 1307), ('mal', 1308), ('comprador', 1309), ('argentina', 1310), ('buscad', 1311), ('patos', 1312), ('díle', 1313), ('escuchen', 1314), ('felicidad', 1315), ('disfrutando', 1316), ('fin', 1317), ('aliado', 1318), ('guapa', 1319), ('encantan', 1320), ('escoria', 1321), ('gregors', 1322), ('refranes', 1323), ('cuánto', 1324), ('llevarse', 1325), ('cielo', 1326), ('batido', 1327), ('empeño', 1328), ('ciberosíto', 1329), ('extrañará', 1330), ('hmm', 1331), ('veinte', 1332), ('llama', 1333), ('harrys', 1334), ('insultos', 1335), ('puñalara', 1336), ('digo', 1337), ('hindu', 1338), ('armería', 1339), ('saco', 1340), ('streling', 1341), ('llevaría', 1342), ('intento', 1343), ('skynet', 1344), ('gustof', 1345), ('aires', 1346), ('cuarenta', 1347), ('pegas', 1348), ('cañero', 1349), ('necesitaré', 1350), ('mientras', 1351), ('trece', 1352), ('vuelve', 1353), ('tíos', 1354), ('prioridad', 1355), ('totalmente', 1356), ('tremendo', 1357), ('metería', 1358), ('ofrecerte', 1359), ('conmociones', 1360), ('nfl', 1361), ('parecen', 1362), ('pensé', 1363), ('brazaleta', 1364), ('partir', 1365), ('hueca', 1366), ('pierde', 1367), ('tan', 1368), ('creo', 1369), ('feliz', 1370), ('réplica', 1371), ('cambios', 1372), ('entregarte', 1373), ('amenaza', 1374), ('profesionales', 1375), ('decírselo', 1376), ('fórmula', 1377), ('permanente', 1378), ('puto', 1379), ('subir', 1380), ('mujer', 1381), ('cadena', 1382), ('ligas', 1383), ('peluche', 1384), ('turquesa', 1385), ('olvidémonos', 1386), ('enfrentamiento', 1387), ('varias', 1388), ('amables', 1389), ('callados', 1390), ('tragado', 1391), ('lleguen', 1392), ('doctor', 1393), ('hagamos', 1394), ('saca', 1395), ('gusta', 1396), ('regalado', 1397), ('homófoba', 1398), ('espero', 1399), ('suerte', 1400), ('hermosos', 1401), ('acaso', 1402), ('cyril', 1403), ('robo', 1404), ('aubuelo', 1405), ('dos', 1406), ('toman', 1407), ('semana', 1408), ('damos', 1409), ('intenta', 1410), ('escuelas', 1411), ('claro', 1412), ('hacerle', 1413), ('ocupe', 1414), ('gramo', 1415), ('hacernos', 1416), ('estó', 1417), ('sentimientos', 1418), ('irme', 1419), ('descubra', 1420), ('maestros', 1421), ('llevo', 1422), ('miente', 1423), ('todas', 1424), ('pico', 1425), ('impresionar', 1426), ('seis', 1427), ('hablamos', 1428), ('hijos', 1429), ('preocupada', 1430), ('gruño', 1431), ('dejar', 1432), ('salid', 1433), ('comienzan', 1434), ('pedirnos', 1435), ('provoca', 1436), ('juego', 1437), ('durmiendo', 1438), ('beba', 1439), ('chúpamela', 1440), ('tocado', 1441), ('creía', 1442), ('cartas', 1443), ('mentía', 1444), ('escuela', 1445), ('sede', 1446), ('menudo', 1447), ('carácter', 1448), ('canguro', 1449), ('disfrutar', 1450), ('niño', 1451), ('despierto', 1452), ('atleta', 1453), ('excusa', 1454), ('regla', 1455), ('decir', 1456), ('llevas', 1457), ('vieja', 1458), ('gusto', 1459), ('necesario', 1460), ('tarjeta', 1461), ('además', 1462), ('edad', 1463), ('colarnos', 1464), ('sterling', 1465), ('botiquín', 1466), ('pedir', 1467), ('montado', 1468), ('ofrecer', 1469), ('saldrémos', 1470), ('robado', 1471), ('alguién', 1472), ('abra', 1473), ('quieto', 1474), ('calvos', 1475), ('comunicamos', 1476), ('hombre', 1477), ('tobillos', 1478), ('portado', 1479), ('niños', 1480), ('collares', 1481), ('robó', 1482), ('venta', 1483), ('decías', 1484), ('peletero', 1485), ('dio', 1486), ('jugo', 1487), ('jodemos', 1488), ('diré', 1489), ('andabamos', 1490), ('tranquilo', 1491), ('dices', 1492), ('sacaste', 1493), ('lana', 1494), ('bajos', 1495), ('descortéz', 1496), ('aprovecharse', 1497), ('preocupados', 1498), ('marsh', 1499), ('profesional', 1500), ('llamamos', 1501), ('cráneo', 1502), ('excusas', 1503), ('carteles', 1504), ('lunes', 1505), ('chúpalas', 1506), ('usar', 1507), ('pan', 1508), ('pensarlo', 1509), ('cuestan', 1510), ('asustó', 1511), ('víctimas', 1512), ('dejarlo', 1513), ('basa', 1514), ('hijo', 1515), ('malo', 1516), ('negocio', 1517), ('lexington', 1518), ('cena', 1519), ('diamantes', 1520), ('relativo', 1521), ('alias', 1522), ('retina', 1523), ('listos', 1524), ('atrapa', 1525), ('modificando', 1526), ('leído', 1527), ('significaba', 1528), ('proveyó', 1529), ('equivocado', 1530), ('g', 1531), ('cheryl', 1532), ('auto', 1533), ('dan', 1534), ('vase', 1535), ('acompañar', 1536), ('diste', 1537), ('ah', 1538), ('hambre', 1539), ('disculpas', 1540), ('apuntado', 1541), ('aceptamos', 1542), ('jodas', 1543), ('krieger', 1544), ('conseguido', 1545), ('existen', 1546), ('mes', 1547), ('pido', 1548), ('ausencia', 1549), ('compran', 1550), ('véte', 1551), ('canadá', 1552), ('aseguro', 1553), ('libre', 1554), ('dólar', 1555), ('freelance', 1556), ('interrupciones', 1557), ('cosa', 1558), ('analogía', 1559), ('práctica', 1560), ('compramos', 1561), ('sacará', 1562), ('ser', 1563), ('lugares', 1564), ('caso', 1565), ('stern', 1566), ('líderes', 1567), ('tequila', 1568), ('dije', 1569), ('consigo', 1570), ('tío', 1571), ('transmisión', 1572), ('lleve', 1573), ('seguimos', 1574), ('navegantes', 1575), ('permiteme', 1576), ('acceder', 1577), ('volvió', 1578), ('billones', 1579), ('lucen', 1580), ('acuerdas', 1581), ('líamos', 1582), ('costó', 1583), ('romper', 1584), ('deseado', 1585), ('llamara', 1586), ('día', 1587), ('nacional', 1588), ('debilidad', 1589), ('cría', 1590), ('algún', 1591), ('haga', 1592), ('cabrón', 1593), ('tecnología', 1594), ('pachata', 1595), ('gran', 1596), ('latino', 1597), ('pudiera', 1598), ('perdido', 1599), ('buscando', 1600), ('manos', 1601), ('sube', 1602), ('guardarlo', 1603), ('funcionar', 1604), ('negativo', 1605), ('retiramos', 1606), ('salirse', 1607), ('abastecido', 1608), ('modo', 1609), ('abracen', 1610), ('burbón', 1611), ('empleado', 1612), ('deberían', 1613), ('sofá', 1614), ('sabrán', 1615), ('multiracial', 1616), ('chisme', 1617), ('cerramos', 1618), ('siquera', 1619), ('recibe', 1620), ('altura', 1621), ('prueba', 1622), ('fanático', 1623), ('esperamos', 1624), ('protesto', 1625), ('paracaigas', 1626), ('geniales', 1627), ('habitación', 1628), ('segura', 1629), ('año', 1630), ('malísima', 1631), ('delantera', 1632), ('indicado', 1633), ('infierno', 1634), ('violadores', 1635), ('saluda', 1636), ('notaria', 1637), ('prometer', 1638), ('misma', 1639), ('monstruo', 1640), ('j', 1641), ('sácale', 1642), ('sepa', 1643), ('azotea', 1644), ('médica', 1645), ('féliz', 1646), ('clavos', 1647), ('doritos', 1648), ('cabecíta', 1649), ('hombro', 1650), ('reforzada', 1651), ('deportes', 1652), ('ochenta', 1653), ('bienvenidos', 1654), ('figuro', 1655), ('podemos', 1656), ('quitado', 1657), ('tantos', 1658), ('parió', 1659), ('sacamos', 1660), ('crees', 1661), ('feas', 1662), ('servicios', 1663), ('practicamos', 1664), ('cagando', 1665), ('genuinos', 1666), ('quedará', 1667), ('pistol', 1668), ('camisa', 1669), ('ofrece', 1670), ('parte', 1671), ('saludarás', 1672), ('corbata', 1673), ('usando', 1674), ('cinquenta', 1675), ('asustado', 1676), ('gracias', 1677), ('movimiento', 1678), ('váter', 1679), ('concozco', 1680), ('oye', 1681), ('maquillaron', 1682), ('sol', 1683), ('funciona', 1684), ('llamen', 1685), ('llevan', 1686), ('confiar', 1687), ('cállaos', 1688), ('cremosidad', 1689), ('rescatarte', 1690), ('regresando', 1691), ('bell', 1692), ('locos', 1693), ('harás', 1694), ('aún', 1695), ('inicial', 1696), ('grupo', 1697), ('ocurriendo', 1698), ('asunto', 1699), ('juega', 1700), ('desintoxicándose', 1701), ('mmm', 1702), ('algúno', 1703), ('carambola', 1704), ('south', 1705), ('mitade', 1706), ('ofensiva', 1707), ('oídos', 1708), ('hermana', 1709), ('tarde', 1710), ('visto', 1711), ('sonreirémos', 1712), ('quatorce', 1713), ('necesitas', 1714), ('desempeño', 1715), ('espera', 1716), ('archivo', 1717), ('improvisable', 1718), ('ibas', 1719), ('rondie', 1720), ('iban', 1721), ('k', 1722), ('venimos', 1723), ('criar', 1724), ('llamaría', 1725), ('cuesta', 1726), ('cuatro', 1727), ('iba', 1728), ('homofóbico', 1729), ('actuante', 1730), ('cartman', 1731), ('encima', 1732), ('realmente', 1733), ('sabes', 1734), ('timó', 1735), ('consultemos', 1736), ('vaya', 1737), ('loco', 1738), ('sino', 1739), ('robando', 1740), ('importantes', 1741), ('north', 1742), ('récien', 1743), ('envidia', 1744), ('negociar', 1745), ('relajar', 1746), ('fácil', 1747), ('lado', 1748), ('culebrón', 1749), ('pudieseis', 1750), ('ayúdame', 1751), ('nuevas', 1752), ('ojo', 1753), ('lógica', 1754), ('cambiará', 1755), ('ayudarían', 1756), ('nieto', 1757), ('falta', 1758), ('buscarán', 1759), ('voto', 1760), ('interior', 1761), ('mani', 1762), ('cutre', 1763), ('desangrando', 1764), ('cantidades', 1765), ('ves', 1766), ('ésa', 1767), ('formas', 1768), ('debo', 1769), ('veces', 1770), ('ventana', 1771), ('área', 1772), ('siete', 1773), ('porquería', 1774), ('aluminio', 1775), ('baño', 1776), ('llave', 1777), ('bienvenido', 1778), ('contentísimo', 1779), ('cabrones', 1780), ('cuentas', 1781), ('cogerla', 1782), ('limón', 1783), ('seguro', 1784), ('pidió', 1785), ('laboralista', 1786), ('humanidad', 1787), ('garage', 1788), ('va', 1789), ('cojínes', 1790), ('salgan', 1791), ('jesús', 1792), ('robaron', 1793), ('provienen', 1794), ('jodedor', 1795), ('felicitaciones', 1796), ('joventud', 1797), ('excelente', 1798), ('mesas', 1799), ('cálido', 1800), ('idiota', 1801), ('bando', 1802), ('tomen', 1803), ('cierto', 1804), ('jugadores', 1805), ('craig', 1806), ('placer', 1807), ('repente', 1808), ('nunca', 1809), ('stines', 1810), ('alta', 1811), ('preparamos', 1812), ('sacarte', 1813), ('lleva', 1814), ('descansan', 1815), ('golpes', 1816), ('árbitro', 1817), ('contárselo', 1818), ('cerebro', 1819), ('dícelo', 1820), ('volver', 1821), ('secuestrado', 1822), ('debemos', 1823), ('sorpresas', 1824), ('tiempos', 1825), ('esqueleto', 1826), ('tendrémos', 1827), ('cargo', 1828), ('herir', 1829), ('guardas', 1830), ('compasivo', 1831), ('debe', 1832), ('bienvenida', 1833), ('seaís', 1834), ('quizá', 1835), ('wohoo', 1836), ('quedaría', 1837), ('baruk', 1838), ('cargar', 1839), ('dense', 1840), ('cordón', 1841), ('ninguno', 1842), ('hmmm', 1843), ('ocurrido', 1844), ('villy', 1845), ('brasileño', 1846), ('maní', 1847), ('noches', 1848), ('suéltalas', 1849), ('super', 1850), ('arrancó', 1851), ('coño', 1852), ('gastaste', 1853), ('nevera', 1854), ('rusos', 1855), ('realista', 1856), ('maldíta', 1857), ('hermosa', 1858), ('llega', 1859), ('secas', 1860), ('amamos', 1861), ('trabaja', 1862), ('contratado', 1863), ('palabra', 1864), ('woodly', 1865), ('notación', 1866), ('cabeza', 1867), ('hora', 1868), ('economía', 1869), ('di', 1870), ('alquimistas', 1871), ('daba', 1872), ('balón', 1873), ('pagué', 1874), ('papá', 1875), ('par', 1876), ('llamas', 1877), ('park', 1878), ('sábado', 1879), ('muchas', 1880), ('lógico', 1881), ('enfermedad', 1882), ('ten', 1883), ('agotado', 1884), ('sabor', 1885), ('espía', 1886), ('tono', 1887), ('llevaba', 1888), ('mueras', 1889), ('primer', 1890), ('cuentan', 1891), ('interesantes', 1892), ('butters', 1893), ('aquella', 1894), ('ganador', 1895), ('hoy', 1896), ('difícil', 1897), ('crédito', 1898), ('juro', 1899), ('cerrado', 1900), ('woodhouse', 1901), ('coños', 1902), ('parezcas', 1903), ('innecesariamente', 1904), ('salir', 1905), ('multicampo', 1906), ('puñado', 1907), ('papás', 1908), ('nuevo', 1909), ('mansiones', 1910), ('decirémos', 1911), ('luces', 1912), ('autorizada', 1913), ('nervioso', 1914), ('supergay', 1915), ('llamemos', 1916), ('maldítas', 1917), ('derrotar', 1918), ('pasarse', 1919), ('á', 1920), ('entiende', 1921), ('grámos', 1922), ('cristi', 1923), ('matemática', 1924), ('dando', 1925), ('ocupado', 1926), ('precio', 1927), ('oficial', 1928), ('demás', 1929), ('acabado', 1930), ('cubrirá', 1931), ('jodía', 1932), ('corriendo', 1933), ('encantará', 1934), ('callas', 1935), ('directa', 1936), ('canales', 1937), ('oy', 1938), ('falsa', 1939), ('sueño', 1940), ('patadas', 1941), ('necesitamos', 1942), ('regalo', 1943), ('quedarás', 1944), ('demos', 1945), ('significa', 1946), ('alguna', 1947), ('mente', 1948), ('siento', 1949), ('vuelta', 1950), ('legal', 1951), ('ábrelo', 1952), ('decirte', 1953), ('quiero', 1954), ('goodell', 1955), ('puedes', 1956), ('intentaron', 1957), ('sospechábamos', 1958), ('pipa', 1959), ('brazos', 1960), ('vieron', 1961), ('triste', 1962), ('pruebas', 1963), ('leches', 1964), ('refuerzos', 1965), ('emociona', 1966), ('jerez', 1967), ('moda', 1968), ('uah', 1969), ('verdad', 1970), ('única', 1971), ('camaradería', 1972), ('compasivos', 1973), ('lamernos', 1974), ('idiotas', 1975), ('uy', 1976), ('recibir', 1977), ('asiática', 1978), ('seguidores', 1979), ('horatio', 1980), ('dividimos', 1981), ('producto', 1982), ('amaba', 1983), ('creemos', 1984), ('afortunados', 1985), ('falsos', 1986), ('señor', 1987), ('negro', 1988), ('caballero', 1989), ('medio', 1990), ('paquistaní', 1991), ('cartél', 1992), ('esperad', 1993), ('fuma', 1994), ('strip', 1995), ('safiros', 1996), ('dice', 1997), ('definitivamente', 1998), ('huecos', 1999), ('terminarse', 2000), ('podido', 2001), ('da', 2002), ('bret', 2003), ('aprovechar', 2004), ('conductos', 2005), ('calla', 2006), ('vimos', 2007), ('usas', 2008), ('recordadme', 2009), ('química', 2010), ('cochecíto', 2011), ('conocéis', 2012), ('washington', 2013), ('marca', 2014), ('eh', 2015), ('primera', 2016), ('pasando', 2017), ('colocar', 2018), ('pasó', 2019), ('dentro', 2020), ('enormes', 2021), ('dinero', 2022), ('maldita', 2023), ('pensar', 2024), ('interpretar', 2025), ('lastimado', 2026), ('trata', 2027), ('actos', 2028), ('tutora', 2029), ('comer', 2030), ('saber', 2031), ('ganando', 2032), ('cenar', 2033), ('si', 2034), ('llevara', 2035), ('trabajamos', 2036), ('conmigo', 2037), ('stillers', 2038), ('cerveza', 2039), ('decía', 2040), ('avión', 2041), ('compren', 2042), ('pensaba', 2043), ('presionar', 2044), ('despeto', 2045), ('diarrea', 2046), ('haber', 2047), ('creer', 2048), ('noche', 2049), ('bebida', 2050), ('esperma', 2051), ('haberle', 2052), ('mundo', 2053), ('escáneo', 2054), ('enfermedades', 2055), ('bellici', 2056), ('tejido', 2057), ('conmocionado', 2058), ('paralelo', 2059), ('quienquiera', 2060), ('ancha', 2061), ('oakland', 2062), ('recuerda', 2063), ('craqueoso', 2064), ('bikini', 2065), ('genitalios', 2066), ('inteligencia', 2067), ('improvisaciones', 2068), ('maravilloso', 2069), ('parecerse', 2070), ('gustaría', 2071), ('entiendes', 2072), ('duda', 2073), ('detrás', 2074), ('cabo', 2075), ('excuso', 2076), ('sumamos', 2077), ('prometo', 2078), ('hielo', 2079), ('llames', 2080), ('eráis', 2081), ('deportiva', 2082), ('confundido', 2083), ('jugar', 2084), ('siempre', 2085), ('pocos', 2086), ('cago', 2087), ('conseguir', 2088), ('molar', 2089), ('verá', 2090), ('importa', 2091), ('leccion', 2092), ('encantaría', 2093), ('key', 2094), ('disparar', 2095), ('brasil', 2096), ('acabó', 2097), ('hablarémos', 2098), ('avisarme', 2099), ('fundió', 2100), ('así', 2101), ('pueda', 2102), ('litro', 2103), ('comprará', 2104), ('saquen', 2105), ('símbolo', 2106), ('devolvemos', 2107), ('generoso', 2108), ('violencia', 2109), ('positivo', 2110), ('comenzó', 2111), ('platos', 2112), ('quedaba', 2113), ('pedido', 2114), ('venga', 2115), ('romperé', 2116), ('pelotas', 2117), ('sangrientas', 2118), ('norths', 2119), ('jugarlo', 2120), ('agentes', 2121), ('queríamos', 2122)]\n"
     ]
    }
   ],
   "source": [
    "vocabulario = df['pre-procesado'].str.cat(sep= \" \")\n",
    "vocabulario = set(vocabulario.split())\n",
    "vocabulario = [(palabra, i+1) for i, palabra in enumerate(vocabulario)]\n",
    "\n",
    "print(vocabulario)"
   ]
  },
  {
   "cell_type": "code",
   "execution_count": 78,
   "metadata": {},
   "outputs": [],
   "source": [
    "# BoW usando la columna pre-procesada\n",
    "def bow(frase):\n",
    "    frase_bow = [0]*len(vocabulario)\n",
    "    for palabra,i in vocabulario:\n",
    "        if palabra in frase.split():\n",
    "            frase_bow[i-1] = 1\n",
    "    print(frase_bow)"
   ]
  },
  {
   "cell_type": "code",
   "execution_count": 80,
   "metadata": {},
   "outputs": [
    {
     "name": "stdout",
     "output_type": "stream",
     "text": [
      "[0, 0, 0, 0, 0, 0, 0, 0, 0, 0, 0, 0, 0, 0, 0, 0, 0, 0, 0, 0, 0, 0, 0, 0, 0, 0, 0, 0, 0, 0, 0, 0, 0, 0, 0, 0, 0, 0, 0, 0, 0, 0, 0, 0, 0, 0, 0, 0, 0, 0, 0, 0, 0, 0, 0, 0, 1, 0, 0, 0, 0, 0, 0, 0, 0, 0, 0, 0, 0, 0, 0, 0, 0, 0, 0, 0, 0, 0, 0, 0, 0, 0, 0, 0, 0, 0, 0, 0, 0, 0, 0, 0, 0, 0, 0, 0, 0, 0, 0, 0, 0, 0, 0, 0, 0, 0, 0, 0, 0, 0, 0, 0, 0, 0, 0, 0, 0, 0, 0, 0, 0, 0, 0, 0, 1, 0, 0, 0, 0, 1, 0, 0, 0, 0, 1, 0, 0, 0, 0, 0, 0, 0, 0, 0, 0, 0, 0, 0, 0, 0, 0, 0, 0, 0, 0, 0, 0, 0, 0, 0, 0, 0, 0, 0, 0, 0, 0, 0, 0, 0, 0, 0, 0, 0, 0, 0, 0, 0, 0, 0, 0, 0, 0, 0, 0, 0, 0, 0, 0, 0, 0, 0, 0, 0, 0, 0, 0, 0, 0, 0, 0, 0, 0, 0, 0, 0, 0, 0, 0, 0, 0, 0, 0, 0, 0, 0, 0, 0, 0, 0, 0, 0, 0, 0, 0, 0, 0, 0, 0, 0, 0, 0, 0, 0, 0, 0, 0, 0, 0, 0, 0, 0, 0, 0, 0, 0, 0, 0, 0, 0, 0, 0, 0, 0, 0, 0, 0, 0, 0, 0, 0, 0, 0, 0, 0, 0, 0, 0, 0, 0, 0, 0, 0, 0, 0, 0, 0, 0, 0, 0, 0, 0, 0, 0, 0, 0, 0, 0, 0, 0, 0, 0, 0, 0, 1, 0, 0, 0, 0, 0, 0, 0, 0, 0, 0, 0, 0, 0, 0, 0, 0, 0, 0, 0, 0, 0, 0, 0, 0, 0, 0, 0, 0, 0, 0, 0, 0, 0, 0, 0, 0, 0, 0, 0, 0, 0, 0, 0, 0, 0, 0, 0, 0, 0, 0, 0, 0, 0, 0, 0, 0, 0, 0, 0, 0, 0, 0, 0, 0, 0, 0, 0, 0, 0, 0, 0, 0, 0, 0, 0, 0, 0, 0, 0, 0, 0, 0, 0, 0, 0, 0, 0, 0, 0, 0, 0, 0, 0, 0, 0, 0, 0, 0, 0, 0, 0, 0, 0, 0, 0, 0, 0, 0, 0, 0, 0, 0, 0, 0, 0, 0, 0, 0, 0, 0, 0, 0, 0, 0, 0, 0, 0, 0, 0, 0, 0, 0, 0, 0, 0, 0, 0, 0, 0, 0, 0, 0, 0, 0, 0, 0, 0, 0, 0, 0, 0, 0, 0, 0, 0, 0, 0, 0, 0, 0, 0, 0, 0, 0, 0, 0, 0, 0, 0, 0, 0, 0, 0, 0, 0, 0, 0, 0, 0, 0, 0, 0, 0, 0, 0, 0, 0, 0, 0, 0, 0, 0, 0, 0, 0, 0, 0, 0, 0, 0, 0, 0, 0, 0, 0, 0, 0, 0, 0, 0, 0, 0, 0, 0, 0, 0, 0, 0, 0, 0, 0, 0, 0, 0, 0, 0, 0, 0, 0, 0, 0, 0, 0, 0, 0, 0, 0, 0, 0, 0, 0, 0, 0, 0, 0, 0, 0, 0, 0, 0, 0, 0, 0, 0, 0, 0, 0, 0, 0, 0, 0, 1, 0, 0, 0, 0, 0, 0, 0, 0, 0, 0, 0, 0, 0, 0, 0, 0, 0, 0, 0, 0, 0, 0, 0, 0, 0, 0, 0, 0, 0, 0, 0, 0, 0, 0, 0, 0, 0, 0, 0, 0, 0, 0, 0, 0, 0, 0, 0, 0, 0, 0, 0, 0, 0, 0, 0, 0, 0, 0, 0, 0, 0, 0, 0, 0, 0, 0, 0, 0, 0, 0, 0, 0, 0, 0, 0, 0, 0, 0, 0, 0, 0, 0, 0, 0, 0, 0, 0, 0, 0, 0, 0, 0, 0, 0, 0, 0, 0, 0, 0, 0, 0, 0, 0, 0, 0, 0, 0, 0, 0, 0, 0, 0, 0, 0, 0, 0, 0, 0, 0, 0, 0, 0, 0, 0, 0, 0, 0, 0, 0, 0, 0, 0, 0, 0, 0, 0, 0, 0, 0, 0, 0, 0, 0, 0, 0, 0, 0, 0, 0, 0, 0, 0, 0, 0, 0, 0, 0, 0, 0, 0, 0, 0, 0, 0, 1, 0, 0, 0, 0, 0, 0, 0, 0, 0, 0, 1, 0, 0, 0, 0, 0, 0, 0, 0, 0, 0, 0, 0, 0, 0, 0, 0, 0, 0, 0, 0, 0, 0, 0, 0, 0, 0, 0, 0, 0, 0, 0, 0, 0, 0, 0, 0, 0, 0, 0, 0, 0, 0, 0, 0, 0, 0, 0, 0, 0, 0, 0, 0, 0, 0, 0, 0, 0, 0, 0, 0, 0, 0, 0, 0, 0, 0, 0, 0, 0, 0, 0, 0, 0, 0, 0, 0, 0, 0, 0, 0, 0, 0, 0, 0, 0, 0, 0, 0, 0, 0, 0, 0, 0, 0, 0, 0, 0, 0, 0, 0, 0, 0, 0, 0, 0, 0, 0, 0, 0, 0, 0, 0, 0, 0, 0, 0, 0, 0, 0, 0, 0, 0, 0, 0, 0, 0, 0, 0, 0, 0, 0, 0, 0, 0, 0, 0, 0, 0, 0, 0, 0, 0, 0, 0, 0, 0, 0, 0, 0, 0, 0, 0, 0, 0, 0, 0, 0, 0, 0, 0, 0, 0, 0, 0, 0, 0, 0, 0, 0, 0, 0, 0, 0, 0, 0, 0, 0, 0, 0, 0, 0, 0, 0, 0, 0, 0, 0, 0, 0, 0, 0, 0, 0, 0, 0, 0, 0, 0, 0, 0, 0, 0, 0, 0, 0, 0, 1, 0, 0, 0, 0, 0, 0, 0, 0, 0, 0, 0, 0, 0, 0, 0, 0, 0, 0, 0, 0, 0, 0, 0, 0, 0, 0, 0, 0, 0, 0, 0, 0, 0, 0, 0, 0, 0, 0, 0, 0, 0, 0, 0, 0, 0, 0, 0, 0, 0, 0, 0, 0, 0, 0, 0, 0, 0, 0, 0, 0, 0, 0, 0, 0, 0, 0, 0, 0, 0, 0, 0, 0, 0, 0, 0, 0, 0, 0, 0, 0, 0, 0, 0, 0, 0, 0, 0, 0, 0, 0, 0, 0, 0, 0, 0, 0, 0, 0, 0, 0, 0, 0, 0, 0, 0, 0, 0, 0, 0, 0, 0, 0, 0, 0, 0, 0, 0, 0, 0, 0, 0, 0, 0, 0, 0, 0, 0, 0, 0, 0, 0, 0, 0, 0, 0, 0, 0, 0, 0, 0, 0, 0, 0, 0, 0, 0, 0, 0, 0, 0, 0, 0, 0, 0, 0, 0, 0, 0, 0, 0, 0, 0, 0, 0, 0, 0, 0, 0, 0, 0, 0, 0, 0, 0, 0, 0, 0, 0, 0, 0, 0, 0, 0, 0, 0, 0, 0, 0, 0, 0, 0, 0, 0, 0, 0, 0, 0, 0, 0, 0, 0, 1, 0, 0, 0, 0, 0, 0, 0, 0, 0, 0, 0, 0, 0, 0, 0, 0, 0, 0, 0, 0, 0, 0, 0, 0, 0, 0, 0, 0, 0, 0, 0, 0, 0, 0, 0, 0, 0, 0, 0, 0, 0, 0, 0, 0, 0, 0, 0, 0, 0, 0, 0, 0, 0, 0, 0, 0, 0, 0, 0, 0, 0, 0, 0, 0, 0, 0, 0, 0, 0, 0, 0, 0, 0, 0, 0, 0, 0, 0, 0, 0, 0, 0, 0, 0, 0, 0, 0, 0, 0, 0, 0, 0, 0, 0, 0, 0, 0, 0, 0, 0, 0, 0, 0, 0, 0, 0, 0, 0, 0, 0, 0, 0, 0, 0, 0, 0, 0, 0, 0, 0, 0, 0, 0, 0, 0, 0, 0, 0, 0, 0, 0, 0, 0, 0, 0, 0, 0, 0, 0, 0, 0, 0, 0, 0, 0, 0, 0, 0, 0, 0, 0, 0, 0, 0, 0, 0, 0, 0, 0, 0, 0, 0, 0, 0, 0, 0, 0, 0, 0, 0, 0, 0, 0, 0, 0, 0, 0, 0, 0, 0, 0, 0, 0, 0, 0, 0, 0, 0, 0, 0, 0, 0, 0, 0, 0, 0, 0, 0, 0, 0, 0, 0, 0, 0, 0, 0, 0, 0, 0, 0, 0, 0, 0, 0, 0, 0, 0, 0, 0, 0, 0, 0, 0, 0, 0, 0, 0, 0, 0, 0, 0, 0, 0, 0, 0, 0, 0, 0, 0, 0, 0, 0, 0, 0, 0, 0, 0, 0, 0, 0, 0, 0, 0, 0, 0, 0, 0, 0, 0, 0, 0, 0, 0, 0, 0, 0, 0, 0, 0, 0, 0, 0, 0, 0, 0, 0, 0, 0, 0, 0, 0, 0, 0, 0, 0, 0, 0, 0, 0, 0, 0, 0, 0, 0, 0, 0, 0, 0, 0, 0, 0, 0, 0, 0, 0, 0, 0, 0, 0, 0, 0, 0, 0, 0, 0, 0, 0, 0, 0, 0, 0, 0, 0, 0, 0, 0, 0, 0, 0, 0, 0, 0, 0, 0, 0, 0, 0, 0, 0, 0, 0, 0, 0, 0, 0, 0, 0, 0, 0, 0, 0, 0, 0, 0, 0, 0, 0, 0, 0, 0, 0, 0, 0, 0, 0, 0, 0, 0, 0, 0, 0, 0, 0, 0, 0, 0, 0, 0, 0, 0, 0, 0, 0, 0, 0, 0, 0, 0, 0, 0, 0, 0, 0, 0, 0, 1, 0, 0, 0, 0, 0, 0, 0, 0, 0, 0, 0, 0, 0, 0, 0, 0, 0, 0, 0, 0, 0, 0, 0, 0, 0, 0, 0, 0, 0, 0, 0, 0, 0, 0, 0, 0, 0, 0, 0, 0, 0, 0, 0, 0, 0, 0, 0, 0, 0, 0, 0, 0, 0, 0, 0, 0, 0, 0, 0, 0, 0, 0, 0, 0, 0, 1, 0, 0, 0, 0, 0, 0, 0, 0, 0, 0, 0, 0, 0, 0, 0, 0, 0, 0, 0, 0, 0, 0, 0, 0, 0, 0, 0, 0, 0, 0, 0, 0, 0, 0, 0, 0, 0, 0, 0, 0, 0, 0, 0, 0, 0, 0, 0, 0, 0, 0, 0, 0, 0, 0, 0, 0, 0, 0, 0, 0, 0, 0, 0, 0, 0, 0, 0, 0, 0, 0, 0, 0, 0, 0, 0, 0, 0, 0, 0, 0, 0, 0, 0, 0, 0, 0, 0, 0, 0, 0, 0, 0, 0, 0, 0, 0, 0, 0, 0, 0, 0, 0, 0, 0, 0, 0, 0, 0, 0, 0, 0, 0, 0, 0, 0, 0, 0, 0, 0, 0, 0, 0, 0, 0, 0, 0, 0, 0, 0, 0, 0, 0, 0, 0, 0, 0, 0, 0, 0, 0, 0, 0, 0, 0, 0, 0, 0, 0, 0, 0, 0, 0, 0, 0, 0, 0, 0, 0, 0, 0, 0, 0, 0, 0, 0, 0, 0, 0, 0, 0, 0, 0, 0, 0, 0, 0, 0, 0, 0, 0, 0, 0, 0, 0, 0, 0, 0, 0, 0, 0, 0, 0, 0, 0, 0, 0, 0, 0, 0, 0, 0, 0, 0, 0, 0, 0, 0, 0, 0, 0, 0, 0, 0, 0, 0, 0, 0, 0, 0, 0, 0, 0, 0, 0, 0, 0, 0, 0, 0, 0, 0, 0, 0, 0, 0, 0, 0, 0, 0, 0, 0, 0, 0, 0, 0, 0, 0, 0, 0, 0, 0, 0, 0, 0, 0, 0, 0, 0, 0, 0, 0, 0, 0, 0, 0, 0, 0, 0, 0, 0, 0, 0, 0, 0, 0, 0, 0, 0, 0, 0, 0, 0, 0, 0, 0, 0, 0, 0, 0, 0, 0, 0, 0, 0, 0, 0, 0, 0, 0, 0, 0, 0, 0, 0, 0, 0, 0, 0, 0, 0, 0, 0, 0, 0, 0, 0, 0, 0, 0, 0, 0, 0, 0, 0, 0, 0, 0, 0, 0, 0, 0, 0, 0, 0, 0, 0, 0, 0, 0, 0, 0, 0, 0, 0, 0, 0, 0, 0, 0, 0, 0, 0, 0, 0, 0, 0, 0, 0, 0, 0, 0, 0, 0, 0, 0, 0, 0, 0, 0, 0, 0, 0, 0, 0, 0, 0, 0, 0, 0, 0, 0, 0, 0, 0, 0, 0, 0, 0, 0, 0, 0, 0, 0, 0, 0, 0, 0, 0, 0, 0, 0, 0, 0, 0, 0, 0, 0, 0, 0, 0, 0, 0, 0, 0, 0, 0, 0, 0, 0, 0, 0, 0, 0, 0, 0, 0, 0, 0, 0, 0, 0, 0, 0, 0, 0, 0, 0, 0, 0, 0, 0, 0, 0, 0, 0, 0, 0, 0, 0, 0, 0, 0, 0, 0, 0, 0, 0, 0, 0, 0, 0, 0, 0, 0, 0, 0, 0, 0, 0, 0, 0, 0, 0, 0, 0, 0, 0, 0, 0, 0, 0, 0, 0, 0, 0, 0, 0, 0, 0, 0, 0, 0, 0, 0, 0, 0, 1, 0, 0, 0, 0, 0, 0, 0, 0, 0, 0, 0, 0, 0, 0, 0, 0, 0, 0, 0, 0, 0]\n"
     ]
    }
   ],
   "source": [
    "#Prueba de la bolsa - veremos un 1 donde coincida una palabra de la bolsa\n",
    "bow(\"necesita pisos canadiense suficientes razón mejor así liberas energía nagativa ah podría funcionar\")"
   ]
  },
  {
   "cell_type": "code",
   "execution_count": 81,
   "metadata": {},
   "outputs": [],
   "source": [
    "from sklearn.feature_extraction.text import CountVectorizer\n",
    "\n",
    "count_vect = CountVectorizer()\n",
    "bow_rep= count_vect.fit_transform(df['pre-procesado'].values)"
   ]
  },
  {
   "cell_type": "code",
   "execution_count": 82,
   "metadata": {},
   "outputs": [
    {
     "data": {
      "text/plain": [
       "2115"
      ]
     },
     "execution_count": 82,
     "metadata": {},
     "output_type": "execute_result"
    }
   ],
   "source": [
    "len(count_vect.vocabulary_)"
   ]
  },
  {
   "cell_type": "code",
   "execution_count": 83,
   "metadata": {},
   "outputs": [
    {
     "name": "stdout",
     "output_type": "stream",
     "text": [
      "Vocabulario: , {'francamente': 822, 'canadiense': 274, 'favor': 803, 'tiraríais': 1939, 'allí': 63, 'si': 1817, 'pudieseis': 1597, 'razón': 1660, 'mejor': 1236, 'así': 133, 'liberas': 1115, 'energía': 696, 'nagativa': 1309, 'pues': 1605, 'sabrás': 1742, 'krieger': 1092, 'bebé': 184, 'lando': 1101, 'serio': 1804, 'randy': 1655, 'creo': 474, 'deporte': 580, 'hizo': 959, 'daño': 539, 'cerebro': 315, 'estáte': 770, 'quieto': 1641, 'esperad': 749, 'parecido': 1430, 'archer': 110, 'asustado': 130, 'usted': 2004, 'jode': 1052, 'carajo': 288, 'dios': 624, 'pibe': 1497, 'oigo': 1384, 'claro': 349, 'fuma': 835, 'junto': 1080, 'niña': 1336, 'decir': 552, 'robotizado': 1721, 'dónde': 668, 'coño': 458, 'sacado': 1748, 'mano': 1210, 'biónica': 197, 'venga': 2034, 'subid': 1870, 'atrás': 139, 'avión': 152, 'esperando': 751, 'recordadme': 1670, 'desgraciado': 595, 'mata': 1223, 'haga': 929, 'jodas': 1051, 'cyril': 515, 'haces': 925, 'ventana': 2040, 'existe': 784, 'refrán': 1684, 'hindu': 958, 'dice': 611, 'fundió': 842, 'generó': 861, 'corten': 451, 'perdón': 1485, 'voy': 2086, 'nuevo': 1354, 'intento': 1025, 'deberíamos': 544, 'tener': 1917, 'diez': 614, 'ligas': 1123, 'sarcasmobol': 1778, 'pueden': 1601, 'jugar': 1077, 'ah': 47, 'mierda': 1259, 'bien': 190, 'disculpe': 630, 'ustedes': 2005, 'lucen': 1177, 'geniales': 863, 'wow': 2101, 'juego': 1071, 'genial': 862, 'callas': 261, 'coronel': 447, 'calrissiano': 264, 'importa': 995, 'oro': 1395, 'quatorce': 1619, 'quilates': 1642, 'turquesa': 1982, 'diamantes': 609, 'reales': 1662, 'entonces': 710, 'plan': 1516, 'conway': 439, 'parece': 1426, 'innecesariamente': 1014, 'complicado': 387, 'sabes': 1739, 'intenta': 1018, 'llegar': 1155, 'zona': 2103, 'notación': 1346, 'mucha': 1291, 'amabilidad': 71, 'globo': 871, 'entrenador': 714, 'marsh': 1220, 'ahora': 49, 'hago': 932, 'lógico': 1187, 'disparado': 634, 'voto': 2085, 'madre': 1188, 'woodhouse': 2099, 'ocurrido': 1367, 'puedes': 1602, 'dejar': 566, 'ser': 1803, 'sarcástico': 1779, 'oiga': 1382, 'necesarias': 1312, 'armas': 118, 'pregunto': 1553, 'totalmente': 1960, 'oh': 1381, 'ocurriendo': 1368, 'siento': 1822, 'chicos': 322, 'papá': 1417, 'ocupado': 1364, 'broncos': 218, 'tiempo': 1930, 'oye': 1399, 'llámame': 1172, 'va': 2008, 'cría': 484, 'crees': 471, 'parecemos': 1427, 'récien': 1731, 'salidos': 1764, 'culebrón': 505, 'brasileño': 210, 'dicho': 613, 'cómo': 523, 'ayudarían': 158, 'sosténes': 1859, 'sombreros': 1852, 'papel': 1416, 'puede': 1600, 'necesitaré': 1317, 'collares': 366, 'brazaletes': 213, 'esmeraldas': 742, 'espera': 748, 'hablas': 912, 'urdu': 1995, 'imbécil': 990, 'resumiendo': 1704, 'cerrado': 317, 'limusina': 1124, 'narices': 1310, 'eh': 674, 'oigan': 1383, 'puedo': 1603, 'creer': 469, 'practicamos': 1545, 'preparamos': 1560, 'quieren': 1638, 'rendirse': 1696, 'preocupes': 1559, 'haber': 904, 'lugar': 1180, 'compren': 395, 'cerca': 314, 'criar': 477, 'hija': 954, 'aquí': 109, 'cuentas': 498, 'cuál': 511, 'misión': 1273, 'lana': 1100, 'mira': 1267, 'montar': 1286, 'solo': 1850, 'llamara': 1140, 'pidiera': 1500, 'ayuda': 155, 'slater': 1845, 'sangre': 1773, 'falsa': 792, 'pena': 1471, 'da': 525, 'pobre': 1519, 'literalmente': 1133, 'ver': 2043, 'sólo': 1899, 'disfrutando': 632, 'sarcasmo': 1777, 'debo': 548, 'buscar': 233, 'excusas': 782, 'guardaré': 895, 'después': 602, 'sospechábamos': 1856, 'tres': 1980, 'dólares': 667, 'suelo': 1877, 'mire': 1269, 'uy': 2007, 'haciendo': 927, 'simulacro': 1834, 'poniendo': 1538, 'prueba': 1592, 'buen': 221, 'trabajo': 1963, 'agotado': 43, 'único': 2114, 'hace': 917, 'subir': 1871, 'compasión': 382, 'vuelta': 2088, 'campo': 272, 'miren': 1270, 'corbata': 443, 'cordón': 446, 'hermosa': 947, 'stan': 1861, 'muchas': 1294, 'decías': 559, 'acerca': 25, 'vas': 2018, 'mal': 1192, 'equipo': 722, 'delantera': 571, 'tan': 1903, 'ofensiva': 1372, 'asustó': 132, 'idiotas': 984, 'hijos': 956, 'puta': 1611, 'conmigo': 412, 'presidente': 1563, 'brasil': 209, 'esposa': 759, 'mirad': 1268, 'sucia': 1873, 'toda': 1944, 'todas': 1945, 'producen': 1574, 'accidentes': 21, 'domésticos': 651, 'méxicano': 1305, 'negro': 1326, 'bueno': 224, 'gracias': 878, 'ayudarme': 156, 'pillar': 1507, 'disco': 628, 'rusos': 1730, 'van': 2015, 'dar': 533, 'pasta': 1445, 'ancha': 85, 'importante': 996, 'isis': 1042, 'podemos': 1522, 'enfestar': 699, 'chupe': 327, 'hacer': 920, 'carambola': 290, 'doctor': 649, 'habernos': 906, 'ido': 985, 'buena': 222, 'montado': 1285, 'dispararan': 637, 'oooo': 1391, 'recuerdo': 1674, 'vez': 2056, 'podido': 1524, 'acabado': 13, 'visto': 2076, 'sopearte': 1854, 'veinte': 2026, 'copas': 441, 'haría': 941, 'falta': 794, 'meneara': 1242, 'cierto': 342, 'eric': 724, 'debería': 543, 'mujer': 1298, 'malo': 1201, 'idiota': 983, 'paquistaní': 1419, 'oído': 1400, 'pienso': 1504, 'mover': 1289, 'pongas': 1537, 'verdad': 2045, 'seguro': 1793, 'secuestrado': 1785, 'terraza': 1926, 'iba': 977, 'excesivo': 778, 'acercarse': 26, 'tendrémos': 1916, 'esfuerzo': 740, 'centro': 313, 'cremoso': 473, 'adentro': 37, 'encuentra': 694, 'amor': 82, 'felizidad': 809, 'debemos': 541, 'usar': 2001, 'jugadores': 1075, 'amables': 73, 'compasivos': 381, 'mundo': 1302, 'sabrán': 1741, 'caemos': 252, 'fácilmente': 847, 'preocupa': 1554, 'usado': 1998, 'palabra': 1411, 'vida': 2060, 'mesas': 1251, 'practicar': 1546, 'lunes': 1182, 'luego': 1179, 'victoria': 2059, 'cállaos': 517, 'dos': 653, 'aviso': 150, 'navegantes': 1311, 'grande': 881, 'hola': 962, 'mexicano': 1254, 'jóven': 1084, 'torpe': 1959, 'bellici': 187, 'dijo': 621, 'derrotar': 583, 'duró': 661, 'casi': 305, 'día': 662, 'vale': 2011, 'quisiera': 1645, 'digo': 617, 'estudo': 769, 'mercado': 1249, 'tb': 1909, 'alias': 62, 'ciberosíto': 332, 'peluche': 1469, 'hermana': 945, 'pierde': 1505, 'creía': 476, 'racista': 1653, 'seis': 1794, 'mil': 1261, 'pedir': 1459, 'refuerzos': 1685, 'crucial': 480, 'asta': 128, 'ayer': 154, 'baruk': 171, 'ciber': 331, 'espía': 761, 'inteligencia': 1016, 'quere': 1628, 'pasarse': 1443, 'bando': 168, 'abuelo': 10, 'mandaste': 1206, 'seguiste': 1790, 'futbol': 843, 'padre': 1404, 'preocupado': 1557, 'comenzó': 371, 'movimiento': 1290, 'reformar': 1681, 'cientos': 338, 'seguidores': 1788, 'david': 538, 'key': 1090, 'keith': 1087, 'kenny': 1089, 'niño': 1338, 'problema': 1572, 'sistema': 1841, 'equivocado': 723, 'fundimos': 840, 'envían': 719, 'lugares': 1181, 'compra': 388, 'ojalá': 1385, 'siguiera': 1833, 'podría': 1525, 'parado': 1423, 'balas': 166, 'fin': 812, 'ocho': 1362, 'incluida': 1003, 'hombro': 964, 'irme': 1040, 'descortéz': 589, 'negamos': 1321, 'verdadero': 2047, 'valor': 2013, 'joyas': 1066, 'realidad': 1663, 'mai': 1190, 'pai': 1410, 'pachata': 1402, 'hai': 935, 'descubra': 591, 'tejido': 1911, 'oso': 1396, 'cubrirlo': 494, 'improvisaciones': 1001, 'hacerte': 924, 'verbo': 2044, 'consiento': 421, 'fastidiarse': 800, 'jefe': 1045, 'pueda': 1598, 'romper': 1726, 'maquillaron': 1214, 'cia': 330, 'queda': 1620, 'realista': 1664, 'corbatas': 444, 'moda': 1278, 'suerte': 1878, 'tenerla': 1918, 'decía': 558, 'amaba': 70, 'perro': 1491, 'hico': 952, 'feliz': 808, 'siempre': 1819, 'murió': 1303, 'quise': 1644, 'ponerme': 1534, 'demasiado': 572, 'triste': 1981, 'pensé': 1478, 'quedaría': 1624, 'caríta': 302, 'alegre': 54, 'cara': 287, 'villy': 2068, 'bolsa': 201, 'ropa': 1729, 'pañales': 1457, 'nevera': 1329, 'leche': 1107, 'materna': 1228, 'excuso': 783, 'tí': 1986, 'gente': 866, 'escuchen': 735, 'deben': 542, 'saber': 1738, 'super': 1888, 'cada': 250, 'país': 1456, 'jugarlo': 1078, 'traidor': 1970, 'hijo': 955, 'beba': 177, 'trece': 1978, 'archivo': 112, 'servidor': 1807, 'principal': 1570, 'servicio': 1805, 'secreto': 1783, 'argentio': 115, 'apuntado': 105, 'pistola': 1514, 'arrancó': 121, 'momento': 1283, 'cuánto': 514, 'pagó': 1409, 'hecho': 943, 'encragaré': 693, 'actor': 31, 'niñera': 1337, 'pasado': 1439, 'vacía': 2009, 'buenas': 223, 'necesitamos': 1316, 'jugo': 1079, 'butters': 236, 'amenaza': 75, 'implicaré': 993, 'dispararé': 640, 'genitalios': 865, 'sentaré': 1798, 'beber': 181, 'jerez': 1046, 'jamontillado': 1044, 'mientras': 1258, 'desangras': 585, 'ciertamente': 341, 'existen': 785, 'estadísticas': 765, 'interesantes': 1027, 'dan': 531, 'preocupados': 1558, 'relación': 1691, 'directa': 625, 'futból': 844, 'traumas': 1977, 'cráneo': 482, 'casa': 303, 'segura': 1791, 'bebés': 185, 'pam': 1413, 'hmm': 960, 'seguimos': 1789, 'señor': 1813, 'escuche': 734, 'sé': 1895, 'tremendo': 1979, 'jugador': 1074, 'cosquillas': 454, 'ríe': 1733, 'carácter': 301, 'féliz': 848, 'contentísimo': 428, 'mejoró': 1240, 'contar': 425, 'dices': 612, 'muchachos': 1293, 'posan': 1543, 'maldíta': 1196, 'foto': 820, 'quedará': 1622, 'memoria': 1241, 'aha': 48, 'necesitas': 1318, 'quieres': 1639, 'llamar': 1139, 'vienes': 2065, 'pedirnos': 1460, 'quiero': 1640, 'bebas': 178, 'pidió': 1501, 'vinieramos': 2070, 'rescatarte': 1699, 'vamos': 2014, 'patear': 1452, 'jugadas': 1073, 'especiales': 746, 'importantes': 997, 'quiere': 1637, 'luces': 1178, 'kane': 1085, 'sino': 1837, 'cuarto': 489, 'baño': 176, 'cansamos': 280, 'niños': 1339, 'golpeen': 873, 'lastimen': 1103, 'hagámos': 933, 'oficial': 1375, 'escuelas': 737, 'azotea': 160, 'primer': 1566, 'sitio': 1842, 'buscarán': 234, 'puñalara': 1615, 'espalda': 743, 'harás': 939, 'ninguna': 1332, 'tontería': 1956, 'venganza': 2035, 'abra': 2, 'puerta': 1604, 'marchando': 1218, 'empanada': 682, 'familiar': 796, 'martín': 1221, 'decírselo': 560, 'jackson': 1043, 'cree': 467, 'auto': 143, 'regresando': 1689, 'esperamos': 750, 'alegra': 53, 'poder': 1523, 'recibir': 1669, 'comisionato': 377, 'nfl': 1330, 'roger': 1723, 'goodell': 875, 'aburato': 11, 'conmociones': 414, 'año': 162, 'maneja': 1207, 'liga': 1122, 'ibas': 979, 'convertir': 437, 'robot': 1720, 'unas': 1993, 'veces': 2025, 'rebalsa': 1666, 'intenten': 1024, 'agradecernos': 44, 'clavos': 353, 'decirémos': 557, 'agradezca': 46, 'hicimos': 951, 'correcto': 448, 'sonreirémos': 1853, 'aj': 52, 'pasa': 1438, 'vayas': 2021, 'loco': 1174, 'coños': 459, 'acuerdo': 35, 'acuerdas': 34, 'arrancaste': 120, 'kyle': 1093, 'viernes': 2066, 'noche': 1340, 'aqui': 108, 'todavía': 1946, 'maldítas': 1197, 'animadoras': 88, 'denver': 578, 'regalo': 1687, 'costó': 456, 'dinero': 622, 'gusta': 897, 'aprovechen': 100, 'india': 1005, 'nunca': 1356, 'aprendimos': 96, 'negó': 1327, 'rimó': 1714, 'proveyó': 1587, 'lleno': 1157, 'atleta': 135, 'necesita': 1315, 'compromiso': 398, 'camaradería': 266, 'viene': 2064, 'vase': 2019, 'litro': 1134, 'compañeros': 384, 'inventaron': 1032, 'llevara': 1164, 'trajera': 1971, 'monstruo': 1284, 'sido': 1818, 'aplauso': 93, 'volveré': 2082, 'usarla': 2002, 'cuesta': 499, 'cinquenta': 347, 'dijeron': 619, 'canal': 276, 'ventas': 2041, 'cámara': 519, 'acorazada': 30, 'reforzada': 1682, 'acceso': 20, 'mediante': 1233, 'tarjeta': 1908, 'escáneo': 739, 'retina': 1705, 'último': 2112, 'piso': 1511, 'sede': 1786, 'fuertemente': 833, 'custodiada': 509, 'puntos': 1608, 'fuerzas': 834, 'órdenes': 2110, 'disparar': 636, 'matar': 1224, 'persona': 1492, 'autorizada': 144, 'fresco': 829, 'pensaba': 1473, 'romperé': 1727, 'cristal': 478, 'porcuro': 1540, 'sorpresas': 1855, 'cero': 316, 'stillers': 1865, 'debe': 540, 'sentir': 1800, 'ganador': 850, 'sácale': 1894, 'ojos': 1387, 'supongo': 1890, 'tarde': 1907, 'salirse': 1766, 'stern': 1864, 'poker': 1529, 'violencia': 2073, 'cheryl': 320, 'única': 2113, 'frase': 825, 'cabrón': 249, 'violador': 2071, 'cabras': 246, 'deseado': 592, 'regalado': 1686, 'bendíto': 189, 'saca': 1746, 'necesito': 1320, 'cuatrao': 491, 'finde': 813, 'gaylandia': 859, 'sabías': 1745, 'mentía': 1247, 'olvídense': 1390, 'libre': 1116, 'mañana': 1232, 'siquiera': 1839, 'entendemos': 705, 'juega': 1068, 'sucios': 1874, 'traicioneros': 1968, 'dejarme': 569, 'robaron': 1718, 'fórmula': 849, 'intentaron': 1022, 'joderme': 1058, 'significa': 1827, 'sacas': 1753, 'lógica': 1186, 'llamo': 1149, 'resuelven': 1702, 'topo': 1957, 'lleves': 1170, 'franco': 824, 'ésa': 2108, 'llevas': 1168, 'dentro': 577, 'saltar': 1768, 'llevo': 1171, 'paracaigas': 1422, 'acepta': 22, 'idea': 980, 'paso': 1444, 'cúbreme': 524, 'doy': 654, 'quince': 1643, 'esprema': 760, 'hablo': 916, 'parar': 1425, 'indicado': 1007, 'dije': 618, 'ocurrió': 1370, 'venimos': 2037, 'cosas': 453, 'cogerlas': 360, 'maní': 1213, 'sueño': 1879, 'chica': 321, 'puesto': 1606, 'pensarlo': 1477, 'culos': 506, 'ganas': 853, 'salto': 1769, 'oy': 1398, 'maravilloso': 1215, 'pondría': 1531, 'contento': 427, 'quiénes': 1650, 'divertiste': 645, 'dícelo': 664, 'explicar': 787, 'entiendo': 709, 'alguien': 56, 'sinceridad': 1835, 'hablarémos': 911, 'crezcas': 475, 'llevar': 1163, 'saco': 1755, 'símbolo': 1896, 'dólar': 666, 'hablando': 909, 'cago': 256, 'significaba': 1828, 've': 2022, 'aquella': 107, 'burdel': 227, 'carrachi': 295, 'pasó': 1448, 'repente': 1697, 'malísima': 1203, 'peor': 1479, 'quería': 1631, 'podía': 1528, 'fiarme': 810, 'quidaras': 1634, 'controles': 433, 'joder': 1056, 'dudo': 656, 'bourbon': 208, 'aptece': 102, 'cola': 363, 'menos': 1243, 'malpinas': 1202, 'cielos': 335, 'algúno': 60, 'ocurrir': 1369, 'semejante': 1797, 'podríamos': 1526, 'dejarlo': 568, 'adreza': 39, 'quienquiera': 1635, 'preguntado': 1551, 'golpe': 872, 'recuerdenlo': 1673, 'práctica': 1594, 'kilítos': 1091, 'literalment': 1132, 'miles': 1262, 'darle': 534, 'homófoba': 966, 'ofrecer': 1377, 'copa': 440, 'tequila': 1919, 'licor': 1120, 'café': 253, 'minuto': 1265, 'pásalo': 1617, 'saluda': 1770, 'animal': 89, 'puñalada': 1614, 'investigaciones': 1035, 'determinen': 604, 'efectos': 673, 'hacemos': 918, 'acompañar': 29, 'familia': 795, 'cena': 310, 'dio': 623, 'costoso': 455, 'aceptarlo': 24, 'prefiero': 1549, 'efectivo': 672, 'bolas': 200, 'chúpalas': 328, 'juegas': 1069, 'duro': 660, 'bebida': 183, 'deportiva': 582, 'deportes': 581, 'hoy': 972, 'amable': 72, 'mejora': 1237, 'desempeño': 594, 'buenos': 225, 'sentimientos': 1799, 'gentil': 867, 'rayo': 1658, 'sol': 1848, 'sirven': 1840, 'enviarlo': 717, 'fundidor': 839, 'ocupe': 1365, 'fundir': 841, 'quizás': 1648, 'gane': 854, 'vieja': 2061, 'mismo': 1275, 'perdidio': 1482, 'peso': 1496, 'llames': 1148, 'cabrones': 248, 'violadores': 2072, 'pelo': 1467, 'comodines': 378, 'herir': 944, 'viviría': 2078, 'padres': 1405, 'refiere': 1679, 'nueve': 1353, 'envidia': 718, 'vergón': 2048, 'parió': 1433, 'ábrelo': 2104, 'armado': 117, 'procura': 1573, 'parecerse': 1429, 'presidencia': 1562, 'parezcas': 1432, 'señora': 1814, 'gordado': 877, 'sufras': 1882, 'jolín': 1063, 'sujetes': 1885, 'carteles': 298, 'compramos': 390, 'compran': 391, 'porquería': 1541, 'sumamos': 1887, 'canales': 277, 'dividimos': 646, 'viejos': 2063, 'mente': 1244, 'harémos': 940, 'siguiente': 1832, 'consultemos': 423, 'cuija': 504, 'cabeza': 243, 'pagar': 1406, 'pidiendo': 1499, 'maldita': 1194, 'retribución': 1707, 'maldito': 1195, 'busco': 235, 'canguro': 278, 'identificación': 982, 'llama': 1136, 'operación': 1392, 'quete': 1633, 'gustaría': 901, 'hablar': 910, 'nueva': 1351, 'regla': 1688, 'prohibe': 1579, 'patadas': 1449, 'aún': 164, 'tomemos': 1951, 'fondos': 817, 'investigación': 1036, 'cáncer': 521, 'enfermedades': 698, 'genéticas': 869, 'hagamos': 930, 'comerciales': 373, 'digan': 616, 'espectadores': 747, 'concozco': 402, 'tal': 1902, 'provocar': 1591, 'feas': 804, 'enojemos': 702, 'gruño': 888, 'negativo': 1322, 'creerlo': 470, 'eleve': 678, 'niveles': 1335, 'humanidad': 975, 'bondad': 202, 'majo': 1191, 'bastante': 173, 'tirarte': 1938, 'acero': 27, 'comprenlo': 397, 'tomen': 1952, 'vuelve': 2091, 'poner': 1533, 'siete': 1824, 'portado': 1542, 'dado': 527, 'dispararme': 638, 'caso': 306, 'parecen': 1428, 'insultos': 1015, 'multiracial': 1301, 'atención': 134, 'gritan': 884, 'encargados': 690, 'pegas': 1462, 'auténticos': 145, 'disculpas': 629, 'médica': 1304, 'urgencia': 1996, 'culpa': 507, 'cállate': 518, 'sacad': 1747, 'dejadme': 564, 'resto': 1701, 'listo': 1130, 'aprovecha': 97, 'precios': 1548, 'bajos': 165, 'igual': 986, 'sterling': 1863, 'stanley': 1862, 'busca': 230, 'increíble': 1004, 'nadie': 1308, 'sale': 1761, 'lastimado': 1102, 'aprendiendo': 95, 'lecciones': 1106, 'valiosas': 2012, 'abrazos': 8, 'seguridad': 1792, 'trata': 1976, 'necesario': 1313, 'bigotón': 194, 'cutre': 510, 'conversación': 436, 'sagrado': 1757, 'ayudarémos': 157, 'pequeña': 1480, 'cin': 344, 'cuarenta': 488, 'minutos': 1266, 'quién': 1649, 'gustof': 903, 'llamas': 1144, 'di': 608, 'cartman': 299, 'calle': 262, 'sigues': 1831, 'manos': 1211, 'heróico': 950, 'guardas': 896, 'jodemos': 1054, 'jodiendo': 1059, 'botellitas': 206, 'refiero': 1680, 'cuidar': 503, 'masticaras': 1222, 'primero': 1568, 'escupieras': 738, 'boca': 199, 'cierra': 339, 'pico': 1498, 'ponerte': 1535, 'tranquila': 1972, 'beberé': 182, 'ausencia': 142, 'tomo': 1953, 'cíborg': 522, 'clave': 352, 'pipa': 1510, 'hombre': 963, 'siglos': 1826, 'alquimistas': 64, 'intentado': 1019, 'crear': 462, 'pudiera': 1596, 'crearla': 463, 'volvería': 2083, 'rico': 1711, 'equación': 721, 'química': 1651, 'frente': 828, 'skymal': 1843, 'aunque': 141, 'hueca': 973, 'resulta': 1703, 'conocéis': 418, 'cuestión': 501, 'nuevos': 1355, 'tiempos': 1931, 'ciencia': 337, 'pocos': 1521, 'comprendemos': 396, 'mamada': 1204, 'confiar': 407, 'refería': 1678, 'volar': 2079, 'llega': 1154, 'estrella': 766, 'estó': 771, 'resolverlo': 1700, 'grupo': 887, 'negocio': 1324, 'botiquín': 207, 'barra': 170, 'deberías': 546, 'edad': 671, 'molesta': 1282, 'verás': 2052, 'pasarlo': 1442, 'leccion': 1105, 'llamado': 1137, 'contrario': 431, 'burbón': 226, 'fastidies': 801, 'ay': 153, 'tragado': 1967, 'marcador': 1217, 'stines': 1866, 'avanzan': 146, 'detrás': 605, 'deja': 563, 'gritar': 885, 'dense': 576, 'palmadas': 1412, 'espaldas': 744, 'interior': 1028, 'hablaste': 913, 'creemos': 468, 'decirme': 555, 'lleva': 1158, 'encima': 691, 'vaya': 2020, 'ridículo': 1713, 'gustan': 898, 'sostenes': 1857, 'mamá': 1205, 'jodía': 1062, 'matemática': 1227, 'disfrutar': 633, 'dame': 529, 'señal': 1811, 'pondré': 1530, 'tío': 1987, 'salid': 1763, 'corriendo': 450, 'buscad': 231, 'ponedlas': 1532, 'salvo': 1772, 'lleguen': 1156, 'jilibollas': 1049, 'informático': 1010, 'identidad': 981, 'verdadera': 2046, 'agentes': 42, 'operan': 1393, 'sudamérica': 1875, 'argentina': 114, 'usa': 1997, 'presionar': 1564, 'amenazar': 77, 'contárselo': 434, 'exagera': 776, 'enfermedad': 697, 'muchísimo': 1296, 'tirado': 1937, 'cadena': 251, 'comienzan': 375, 'burlarse': 228, 'siendo': 1820, 'pareczo': 1431, 'gorda': 876, 'bikini': 195, 'florecente': 815, 'playa': 1518, 'té': 1984, 'vendría': 2033, 'miel': 1256, 'limón': 1125, 'vuelvas': 2090, 'asustar': 131, 'disparan': 635, 'llévanos': 1173, 'garage': 855, 'llevaré': 1166, 'estabáis': 764, 'conchabados': 401, 'comenzar': 370, 'reunión': 1708, 'maestros': 1189, 'alguién': 57, 'asunto': 129, 'pendiente': 1472, 'normal': 1343, 'hmmm': 961, 'saldrémos': 1760, 'norths': 1345, 'vestidos': 2055, 'south': 1860, 'park': 1434, 'sólidas': 1897, 'averiguarémos': 148, 'domingo': 650, 'pago': 1407, 'nieto': 1331, 'ven': 2028, 'crecido': 465, 'hora': 967, 'llamativo': 1145, 'impresionar': 998, 'muchachas': 1292, 'echar': 669, 'ojo': 1386, 'pasando': 1440, 'deberían': 545, 'avergonzarse': 147, 'explotan': 788, 'atreven': 138, 'aprovecharse': 99, 'afortunados': 41, 'primera': 1567, 'línea': 1185, 'cubrirá': 495, 'huecos': 974, 'díle': 665, 'uniformes': 1994, 'clyde': 356, 'token': 1947, 'abracen': 3, 'caray': 291, 'fallecer': 791, 'tutora': 1983, 'legal': 1109, 'pastel': 1446, 'quizá': 1647, 'pan': 1414, 'definitivamente': 562, 'horneando': 970, 'hacéis': 928, 'esperé': 758, 'ganando': 852, 'amigos': 79, 'rancasteis': 1654, 'cuenta': 496, 'barbaridades': 169, 'realmente': 1665, 'contexto': 429, 'prácticamente': 1595, 'medio': 1234, 'cañero': 309, 'amenazado': 76, 'encantan': 687, 'noches': 1341, 'empezar': 683, 'guardar': 892, 'pistol': 1513, 'caja': 257, 'fuerte': 832, 'acabe': 15, 'partida': 1436, 'saben': 1737, 'dispararon': 639, 'felices': 805, 'hablemos': 915, 'decirle': 553, 'cosa': 452, 'mate': 1226, 'golpes': 874, 'hable': 914, 'información': 1009, 'sacará': 1752, 'hagámoslo': 934, 'abrochame': 9, 'sostén': 1858, 'cambios': 270, 'bordado': 204, 'traicionó': 1969, 'aspirante': 127, 'cantante': 281, 'country': 457, 'mentirosa': 1245, 'freelance': 827, 'haz': 942, 'sacarlo': 1750, 'capital': 285, 'rojo': 1724, 'pensamientos': 1474, 'oblígame': 1359, 'atrapa': 136, 'balón': 167, 'meta': 1252, 'uuh': 2006, 'cal': 258, 'espere': 753, 'ex': 775, 'entrando': 711, 'maritin': 1219, 'gregors': 883, 'defensor': 561, 'jim': 1050, 'harrys': 937, 'pantalones': 1415, 'tobillos': 1942, 'avisárselo': 151, 'excelente': 777, 'mike': 1260, 'tetfield': 1929, 'imaginario': 989, 'dejarle': 567, 'ciego': 333, 'pobrecito': 1520, 'provienen': 1589, 'felicidad': 806, 'intentan': 1020, 'paralelo': 1424, 'virgen': 2074, 'escansará': 727, 'esclavizados': 729, 'skynet': 1844, 'fuego': 831, 'ejemplo': 675, 'guardadas': 891, 'placer': 1515, 'volver': 2081, 'verte': 2050, 'quedaríamos': 1625, 'cenar': 311, 'comida': 374, 'provoca': 1590, 'diarrea': 610, 'sharon': 1815, 'lamentamos': 1098, 'queremos': 1629, 'sigas': 1825, 'jugando': 1076, 'algún': 59, 'terminado': 1921, 'archerizar': 111, 'menudo': 1248, 'sabía': 1743, 'pasar': 1441, 'latino': 1104, 'colarnos': 364, 'duelen': 657, 'brazos': 214, 'papás': 1418, 'cremosidad': 472, 'funcionará': 838, 'puñado': 1613, 'vender': 2031, 'tecnología': 1910, 'militar': 1263, 'confidencial': 408, 'chinos': 324, 'líamos': 1183, 'última': 2111, 'trabajamos': 1962, 'juntos': 1081, 'marca': 1216, 'mayor': 1231, 'altura': 66, 'profesionales': 1577, 'invito': 1037, 'lamernos': 1099, 'pelotas': 1468, 'miente': 1257, 'venido': 2036, 'ley': 1113, 'verla': 2049, 'además': 36, 'pegado': 1461, 'tiro': 1940, 'desaparecido': 586, 'llamemos': 1146, 'decirles': 554, 'retiramos': 1706, 'wohoo': 2098, 'confundirme': 411, 'rayos': 1659, 'terríble': 1927, 'joden': 1055, 'mujeres': 1299, 'asiáticas': 126, 'vagamente': 2010, 'matas': 1225, 'sientes': 1821, 'cálido': 516, 'compasivo': 380, 'transferencia': 1974, 'prestame': 1565, 'camisa': 271, 'hagas': 931, 'llamen': 1147, 'división': 647, 'tercera': 1920, 'aliado': 61, 'tranquilo': 1973, 'testamento': 1928, 'notaria': 1347, 'abogada': 1, 'laboralista': 1095, 'proteger': 1585, 'ningún': 1334, 'confianza': 406, 'caballeros': 241, 'confunden': 409, 'hospitalidad': 971, 'debilidad': 547, 'precio': 1547, 'negociar': 1323, 'hacerlo': 922, 'socios': 1846, 'terminar': 1922, 'ray': 1657, 'cánada': 520, 'funciona': 836, 'estúpido': 772, 'salir': 1765, 'programa': 1578, 'conduce': 403, 'veamos': 2023, 'regresemos': 1690, 'amigo': 78, 'encantará': 688, 'llamamos': 1138, 'tono': 1955, 'irónico': 1041, 'robado': 1716, 'amo': 81, 'emocionante': 681, 'extra': 789, 'botella': 205, 'gran': 880, 'sábado': 1893, 'mani': 1209, 'bébe': 239, 'promoción': 1582, 'licencia': 1119, 'conducir': 404, 'vuelvo': 2092, 'llamarás': 1142, 'queríamos': 1632, 'china': 323, 'llevan': 1161, 'años': 163, 'estudiando': 768, 'propulsor': 1584, 'antimatéria': 90, 'demostrando': 574, 'lograr': 1176, 'terminó': 1925, 'líderes': 1184, 'washington': 2097, 'recuerda': 1671, 'hablamos': 908, 'relleno': 1694, 'crece': 464, 'permanente': 1488, 'craqueoso': 461, 'encontrarán': 692, 'yurta': 2102, 'maldíto': 1198, 'multicampo': 1300, 'siesta': 1823, 'adiós': 38, 'robó': 1722, 'estableció': 763, 'europa': 773, 'traficante': 1966, 'perfil': 1487, 'caballero': 240, 'entiende': 707, 'juro': 1082, 'vuelva': 2089, 'pillarte': 1508, 'deseas': 593, 'cielo': 334, 'santo': 1775, 'encantaría': 689, 'ancianos': 86, 'linda': 1126, 'corbatíta': 445, 'cilo': 343, 'televisión': 1912, 'mmm': 1277, 'guapa': 890, 'relleníta': 1695, 'entregarte': 713, 'cascos': 304, 'aluminio': 67, 'futuro': 845, 'bárbaros': 237, 'básicamente': 238, 'matáis': 1230, 'shelly': 1816, 'alguna': 58, 'conté': 435, 'pastor': 1447, 'escocés': 730, 'paties': 1453, 'levanta': 1111, 'puto': 1612, 'cartél': 300, 'quedarás': 1623, 'habitación': 907, 'pensando': 1475, 'acabas': 14, 'quiera': 1636, 'modificando': 1279, 'puedas': 1599, 'pensar': 1476, 'bebemos': 180, 'espermas': 755, 'homofóbico': 965, 'chovinista': 326, 'completamete': 386, 'inmaduro': 1013, 'pregunta': 1550, 'cantidades': 282, 'enormes': 703, 'mostrar': 1287, 'apoyo': 94, 'modo': 1280, 'mejorarlo': 1239, 'usan': 1999, 'horas': 968, 'cierrate': 340, 'generoso': 860, 'producto': 1575, 'número': 1357, 'imponentes': 994, 'aretes': 113, 'faux': 802, 'genuinos': 868, 'cuatorce': 490, 'safiros': 1756, 'ochenta': 1361, 'francesa': 823, 'pronuncia': 1583, 'perstigioso': 1494, 'cuestan': 500, 'millones': 1264, 'vendemos': 2029, 'teléfonos': 1913, 'iluminarse': 988, 'comprador': 389, 'pongamoslo': 1536, 'gusto': 902, 'comprará': 394, 'paquistán': 1420, 'interpretar': 1030, 'himno': 957, 'bienvenidos': 193, 'inaugural': 1002, 'nacional': 1307, 'enfrentamiento': 700, 'riders': 1712, 'oakland': 1358, 'pateamos': 1451, 'protesto': 1586, 'término': 1985, 'claramente': 348, 'preocupación': 1555, 'advierto': 40, 'peligroso': 1466, 'figuro': 811, 'mato': 1229, 'gicante': 870, 'cambiará': 268, 'selector': 1795, 'mega': 1235, 'preocupada': 1556, 'llamaría': 1143, 'éxito': 2109, 'relativo': 1693, 'cuentan': 497, 'cambio': 269, 'cubierto': 493, 'conductos': 405, 'aire': 50, 'siguen': 1830, 'gas': 856, 'nervioso': 1328, 'mirándolo': 1272, 'siquera': 1838, 'hacen': 919, 'burrito': 229, 'capas': 283, 'basa': 172, 'camradería': 273, 'miro': 1271, 'vestidor': 2054, 'veo': 2042, 'compasíbles': 383, 'conocido': 417, 'ken': 1088, 'cualquiera': 486, 'abrazas': 7, 'ir': 1038, 'armería': 119, 'véte': 2095, 'leído': 1114, 'libros': 1118, 'club': 355, 'canguros': 279, 'blindado': 198, 'sigo': 1829, 'cargar': 293, 'aubuelo': 140, 'gastaste': 858, 'streling': 1867, 'ascani': 123, 'motél': 1288, 'váter': 2094, 'cargando': 292, 'sevidor': 1810, 'distinguir': 643, 'craig': 460, 'apuesto': 103, 'extrañará': 790, 'perder': 1481, 'bebe': 179, 'ofrezco': 1380, 'falsos': 793, 'darte': 536, 'carajos': 289, 'semana': 1796, 'acaba': 12, 'pido': 1502, 'desintoxicándose': 596, 'prometer': 1580, 'igualíto': 987, 'cristi': 479, 'toquecíto': 1958, 'claudia': 350, 'tienda': 1932, 'asiática': 125, 'joderla': 1057, 'jodedor': 1053, 'broma': 216, 'días': 663, 'libres': 1117, 'anuales': 91, 'suelen': 1876, 'dejado': 565, 'recuperar': 1676, 'odia': 1371, 'partir': 1437, 'capitán': 286, 'rondie': 1728, 'ayúdame': 159, 'quede': 1626, 'licores': 1121, 'veas': 2024, 'empleado': 686, 'vendrá': 2032, 'avisarme': 149, 'secas': 1782, 'perdona': 1484, 'ves': 2053, 'vivian': 2077, 'comunicamos': 399, 'representante': 1698, 'saludarás': 1771, 'comprar': 392, 'felicitaciones': 807, 'robo': 1719, 'cabrearme': 247, 'rato': 1656, 'recuerdas': 1672, 'crédito': 483, 'justo': 1083, 'payton': 1455, 'mejorar': 1238, 'sabor': 1740, 'humo': 976, 'cloro': 354, 'réplica': 1732, 'rey': 1710, 'enrique': 704, 'grite': 886, 'perdido': 1483, 'intente': 1023, 'patos': 1454, 'jodiéndola': 1060, 'sabe': 1735, 'dobles': 648, 'cartas': 296, 'sangrientas': 1774, 'jordana': 1064, 'laboral': 1094, 'sesiones': 1808, 'interrupciones': 1031, 'cagar': 255, 'excusa': 780, 'escoria': 732, 'víctimas': 2096, 'venta': 2039, 'descansan': 587, 'mansiones': 1212, 'ganan': 851, 'billones': 196, 'cinco': 345, 'hacerle': 921, 'pruebas': 1593, 'reemplazar': 1677, 'atrape': 137, 'correrá': 449, 'abrazan': 5, 'sujeto': 1886, 'timarnos': 1933, 'lado': 1097, 'traer': 1965, 'cerveza': 319, 'varias': 2016, 'sacamos': 1749, 'secuencia': 1784, 'datos': 537, 'esmeralda': 741, 'preguntas': 1552, 'sentiría': 1801, 'recuerdos': 1675, 'ninguno': 1333, 'familiares': 797, 'sufriendo': 1883, 'alzheimer': 69, 'comisionado': 376, 'entusiasma': 716, 'joventud': 1065, 'tradicional': 1964, 'detenernos': 603, 'cambiar': 267, 'demos': 573, 'bienvenida': 191, 'hambre': 936, 'tipi': 1935, 'bienvenido': 192, 'despeto': 599, 'verá': 2051, 'evitar': 774, 'intermediarios': 1029, 'comprarles': 393, 'directamente': 626, 'puñalarme': 1616, 'empiezo': 685, 'cabra': 245, 'tíos': 1988, 'imbéciles': 991, 'acaso': 18, 'fanático': 798, 'temas': 1914, 'prometo': 1581, 'piensas': 1503, 'seaís': 1781, 'dama': 528, 'brasilia': 211, 'visita': 2075, 'américa': 83, 'voluntad': 2080, 'sedes': 1787, 'servicios': 1806, 'trabaja': 1961, 'tapadera': 1906, 'clavado': 351, 'llamarlos': 1141, 'tantos': 1904, 'cuanto': 487, 'escapan': 728, 'durmiendo': 659, 'especial': 745, 'sueños': 1880, 'hermosos': 948, 'despierto': 600, 'salió': 1767, 'aseguro': 124, 'guardarla': 893, 'quedo': 1627, 'abastecido': 0, 'desangrando': 584, 'callados': 260, 'esperma': 754, 'timó': 1934, 'lleve': 1169, 'acceder': 19, 'ordenador': 1394, 'central': 312, 'escuela': 736, 'peligrosas': 1465, 'mali': 1199, 'deciendo': 551, 'lindas': 1127, 'malin': 1200, 'woodly': 2100, 'entrega': 712, 'árbitro': 2105, 'decide': 549, 'señala': 1812, 'punto': 1607, 'gustarán': 900, 'elección': 676, 'mes': 1250, 'strip': 1868, 'salchicha': 1758, 'dura': 658, 'flecha': 814, 'podrías': 1527, 'conseguido': 419, 'venir': 2038, 'collar': 365, 'esqueleto': 762, 'acabó': 17, 'olvidarme': 1388, 'personas': 1493, 'juegen': 1070, 'terminen': 1924, 'abrazar': 6, 'lindo': 1128, 'confundido': 410, 'cojones': 361, 'cogerla': 359, 'oferta': 1373, 'acabo': 16, 'despechada': 597, 'despeché': 598, 'vimos': 2069, 'bromista': 217, 'real': 1661, 'entiendes': 708, 'sola': 1849, 'jodo': 1061, 'cuatro': 492, 'querré': 1630, 'tóma': 1989, 'actos': 32, 'estudian': 767, 'cojínes': 362, 'sofá': 1847, 'sufro': 1884, 'conmoción': 415, 'infierno': 1008, 'conoce': 416, 'ira': 1039, 'cruzado': 481, 'río': 1734, 'cerramos': 318, 'aquel': 106, 'tipo': 1936, 'brújula': 220, 'amistad': 80, 'área': 2107, 'indica': 1006, 'apunta': 104, 'hacia': 926, 'arriba': 122, 'jesús': 1047, 'corazón': 442, 'emociona': 680, 'formar': 818, 'parte': 1435, 'llevaría': 1167, 'recargando': 1667, 'voz': 2087, 'alta': 65, 'fácil': 846, 'viejo': 2062, 'patches': 1450, 'usas': 2003, 'sacaste': 1754, 'supergay': 1889, 'pagué': 1408, 'ocurren': 1366, 'cuántas': 513, 'tocado': 1943, 'cabecíta': 242, 'castaña': 307, 'molar': 1281, 'sesos': 1809, 'escaleras': 726, 'color': 368, 'haberle': 905, 'contado': 424, 'despistar': 601, 'calor': 263, 'eráis': 725, 'hermosura': 949, 'toman': 1948, 'fotos': 821, 'escolares': 731, 'culpable': 508, 'intención': 1017, 'terminarse': 1923, 'cuándo': 512, 'ello': 679, 'deje': 570, 'pedido': 1458, 'relajar': 1692, 'uah': 1990, 'recibe': 1668, 'divertido': 644, 'economía': 670, 'excusado': 781, 'prioridad': 1571, 'decidíamos': 550, 'creciente': 466, 'kay': 1086, 'dispares': 641, 'ten': 1915, 'cuidado': 502, 'encuentren': 695, 'saquen': 1776, 'quítate': 1652, 'chisme': 325, 'apta': 101, 'ocultarlo': 1363, 'escuchar': 733, 'darme': 535, 'cochecíto': 357, 'puse': 1609, 'llamó': 1151, 'peletero': 1464, 'roba': 1715, 'descaradamente': 588, 'llamé': 1150, 'imigración': 992, 'intentar': 1021, 'deportaran': 579, 'quedaba': 1621, 'hielo': 953, 'positivo': 1544, 'abracense': 4, 'calla': 259, 'llevando': 1162, 'cabo': 244, 'oídos': 1401, 'perfecto': 1486, 'llevaba': 1159, 'varios': 2017, 'tiros': 1941, 'sabían': 1744, 'fascinante': 799, 'continúe': 430, 'conseguir': 420, 'apellido': 92, 'azúcar': 161, 'mala': 1193, 'pinta': 1509, 'preparas': 1561, 'platos': 1517, 'demás': 575, 'necesidad': 1314, 'contarle': 426, 'sucedido': 1872, 'entendido': 706, 'tac': 1900, 'bell': 186, 'doritos': 652, 'locos': 1175, 'tacos': 1901, 'ofrece': 1376, 'cien': 336, 'grandes': 882, 'quitado': 1646, 'dando': 532, 'salchichas': 1759, 'comer': 372, 'buscando': 232, 'llaves': 1153, 'detuvo': 606, 'lentamente': 1110, 'ocasión': 1360, 'enmendarlo': 701, 'frecuente': 826, 'improbable': 999, 'lexington': 1112, 'tome': 1950, 'batido': 174, 'caña': 308, 'nube': 1350, 'veímos': 2058, 'suéltalas': 1892, 'mitade': 1276, 'transmisión': 1975, 'aprovechar': 98, 'ofertas': 1374, 'alegría': 55, 'volvió': 2084, 'sarcásticos': 1780, 'difícil': 615, 'disfrutamos': 631, 'competitividad': 385, 'compasiva': 379, 'sincero': 1836, 'reventa': 1709, 'consigo': 422, 'suficientes': 1881, 'coge': 358, 'necesites': 1319, 'pilas': 1506, 'nuevas': 1352, 'sacarte': 1751, 'espero': 756, 'misma': 1274, 'contratado': 432, 'permiteme': 1489, 'agradecerte': 45, 'tomar': 1949, 'amamos': 74, 'convertirlo': 438, 'pesadilla': 1495, 'diré': 627, 'formas': 819, 'usando': 2000, 'colocar': 367, 'ultramoderna': 1992, 'sepa': 1802, 'inventó': 1034, 'manera': 1208, 'entrenarlos': 715, 'sube': 1869, 'árbitros': 2106, 'arma': 116, 'robando': 1717, 'descubierto': 590, 'cagando': 254, 'leches': 1108, 'muchísimas': 1295, 'litros': 1135, 'mexicanos': 1255, 'negors': 1325, 'actuante': 33, 'conmocionado': 413, 'pisos': 1512, 'nombre': 1342, 'empeño': 684, 'cuadras': 485, 'cartel': 297, 'uh': 1991, 'iban': 978, 'elegir': 677, 'ponle': 1539, 'infromación': 1011, 'tomándose': 1954, 'profesional': 1576, 'decirte': 556, 'hará': 938, 'cargo': 294, 'veía': 2057, 'veintiquatro': 2027, 'duda': 655, 'salgan': 1762, 'bret': 215, 'llave': 1152, 'analogía': 84, 'hacernos': 923, 'aceptamos': 23, 'gramo': 879, 'grámos': 889, 'pérdida': 1618, 'ofrecerte': 1378, 'gastar': 857, 'jubilación': 1067, 'frivolidades': 830, 'guardarlo': 894, 'mueras': 1297, 'mentiste': 1246, 'dijiste': 620, 'primo': 1569, 'diste': 642, 'daba': 526, 'pego': 1463, 'metería': 1253, 'brazaleta': 212, 'tanzanita': 1905, 'noventa': 1349, 'permiten': 1490, 'jueguen': 1072, 'genios': 864, 'come': 369, 'sólidos': 1898, 'browns': 219, 'listos': 1131, 'batir': 175, 'par': 1421, 'novatos': 1348, 'experiencia': 786, 'lineación': 1129, 'inicial': 1012, 'sabemos': 1736, 'aires': 51, 'rome': 1725, 'esperar': 752, 'interesante': 1026, 'acompaña': 28, 'inventor': 1033, 'vuélvete': 2093, 'canadá': 275, 'ben': 188, 'jhonsson': 1048, 'fondo': 816, 'pusiste': 1610, 'pelígro': 1470, 'ofrecerías': 1379, 'improvisable': 1000, 'exceso': 779, 'andabamos': 87, 'laboratorio': 1096, 'móvil': 1306, 'capaz': 284, 'osíto': 1397, 'north': 1344, 'llevarse': 1165, 'llevamos': 1160, 'enémigo': 720, 'devolvemos': 607, 'calvos': 265, 'damos': 530, 'chúpamela': 329, 'soluciona': 1851, 'hermanita': 946, 'boom': 203, 'vieron': 2067, 'alumnos': 68, 'gustará': 899, 'paciente': 1403, 'cincuenta': 346, 'esperándome': 757, 'olvidémonos': 1389, 'concentrémonos': 400, 'supuestos': 1891, 'horatio': 969, 'venden': 2030, 'proviene': 1588, 'refranes': 1683, 'funcionar': 837}\n"
     ]
    }
   ],
   "source": [
    "print(f\"Vocabulario: , {count_vect.vocabulary_}\")"
   ]
  },
  {
   "cell_type": "markdown",
   "metadata": {},
   "source": [
    "# Punto 3: 🤔\n",
    "\n",
    "- `[3pts]` ¿En qué casos es buena idea tomar en la cuenta la frecuencia de las palabras para la bolsa de palabras?\n",
    "- `[3pts]` ¿Cuándo es una mejor idea usar una bolsa de n-gramas en vez de una bolsa de palabras?"
   ]
  },
  {
   "cell_type": "markdown",
   "metadata": {},
   "source": [
    "¿En qué casos es buena idea tomar en la cuenta la frecuencia de las palabras para la bolsa de palabras?\n",
    "\n",
    "### R=/ \n",
    "Personalmente considero que tener en cuenta la frecuencia de palabras para la bolsa de palabras es relevante cuando queremos aplicar algun modelo de Machine Learning, o queremos calcular alguna estadistica o cuenta. Creo que teniendo las frecuencias podria facilitar tambien la representacion grafica de la palabras. Buscando un poco en internet, lei sobre la tecnica Término frecuencia-frecuencia inversa del documento (TF-IDF) y veo que esta muy relacionado con la importancia de la frecuencia de las palabras en la bolsa de palabras. \n",
    "\n",
    "\n",
    "-----------------------------------------------------------------------------------------------------------------------------\n",
    "\n",
    "¿Cuándo es una mejor idea usar una bolsa de n-gramas en vez de una bolsa de palabras?\n",
    "\n",
    "### R=/\n",
    "Cuando pensamos en hacer un analisis sin importar el orden de su representación puede que la mejor opción sea una bolsa de palabras ya que nuestro objetivo solo es almacenar palabras. POr otro lado, si queremos almacenar un orden de las palabras y una representación mas ordenada podemos usar una bolsa n-gramas."
   ]
  },
  {
   "cell_type": "markdown",
   "metadata": {},
   "source": [
    "# BONUS Punto 4: 😜\n",
    "\n",
    "- `[1pt]` ¿A qué pertenecen los dialogos del primer punto? "
   ]
  },
  {
   "cell_type": "markdown",
   "metadata": {},
   "source": [
    "No estoy muy seguro, pero segun mi busqueda los dialogos podrian corresponder a **Archer** que es una serie de televisión estadounidense."
   ]
  }
 ],
 "metadata": {
  "kernelspec": {
   "display_name": "Python 3",
   "language": "python",
   "name": "python3"
  },
  "language_info": {
   "codemirror_mode": {
    "name": "ipython",
    "version": 3
   },
   "file_extension": ".py",
   "mimetype": "text/x-python",
   "name": "python",
   "nbconvert_exporter": "python",
   "pygments_lexer": "ipython3",
   "version": "3.7.4"
  }
 },
 "nbformat": 4,
 "nbformat_minor": 2
}
