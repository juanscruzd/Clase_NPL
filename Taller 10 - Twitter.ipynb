{
 "cells": [
  {
   "cell_type": "markdown",
   "metadata": {},
   "source": [
    "<img src='https://encrypted-tbn0.gstatic.com/images?q=tbn%3AANd9GcQ-VfNtOyJbsaxu43Kztf_cv1mgBG6ZIQZEVw&usqp=CAU'>\n",
    "\n",
    "# Procesamiento de Lenguage Natural\n",
    "\n",
    "## Taller #10: Twitter\n",
    "`Fecha de entrega: Noviembre 14, 2020 (Antes del inicio de la próxima clase).`\n",
    "\n",
    "`Modo de entrega: Subir link de GitHub al aula virtual.`"
   ]
  },
  {
   "cell_type": "markdown",
   "metadata": {},
   "source": [
    "###  `[25 pts]` Punto 1: Extraer Tuits\n",
    "Extraer mínimo 100 tuits de Twitter usando la API\n",
    "\n",
    "(Si exponen sus claves, les haré maldades 😈)\n",
    "\n",
    "❌🎃❌ ¡No Halloween!"
   ]
  },
  {
   "cell_type": "code",
   "execution_count": 20,
   "metadata": {},
   "outputs": [],
   "source": [
    "import pandas as pd\n",
    "\n",
    "import tweepy "
   ]
  },
  {
   "cell_type": "code",
   "execution_count": 31,
   "metadata": {},
   "outputs": [],
   "source": [
    "## Leer llaves \n",
    "\n",
    "keys = pd.read_csv(\"keys2.csv\", sep = \";\", header=None)\n",
    "keys = dict(zip(keys[0],keys[1]))\n"
   ]
  },
  {
   "cell_type": "code",
   "execution_count": 33,
   "metadata": {},
   "outputs": [],
   "source": [
    "# Autorizar a traves API \n",
    "\n",
    "auth = tweepy.OAuthHandler(keys['api_key'], keys['api_key_secret'])\n",
    "\n",
    "auth.set_access_token(keys['access_token'], keys['access_token_secret'])\n",
    "\n",
    "api = tweepy.API(auth, wait_on_rate_limit=True)"
   ]
  },
  {
   "cell_type": "code",
   "execution_count": 41,
   "metadata": {},
   "outputs": [],
   "source": [
    "tweets = tweepy.Cursor(api.search, q=['millonarios -RT'], lang = 'es',\n",
    "                      geocode = f'9.304744,-75.397778,45mi',\n",
    "                      tweet_mode='extended',\n",
    "                      include_rts=False).items(100)"
   ]
  },
  {
   "cell_type": "code",
   "execution_count": 42,
   "metadata": {},
   "outputs": [],
   "source": [
    "t = []\n",
    " \n",
    "for tweet in tweets:\n",
    "\n",
    "     temp = []\n",
    "\n",
    "     temp.append(tweet.full_text)\n",
    "\n",
    "     temp.append(tweet.created_at)\n",
    "\n",
    "     temp.append(\"Bogota\")\n",
    "\n",
    "     temp.append(tweet.user.location)\n",
    "\n",
    "     temp.append(tweet.id)\n",
    "\n",
    "     temp.append(f\"https://twitter.com/i/web/status/{tweet.id}\")\n",
    "\n",
    "\n",
    "     t.append(temp)"
   ]
  },
  {
   "cell_type": "code",
   "execution_count": 43,
   "metadata": {},
   "outputs": [
    {
     "data": {
      "text/plain": [
       "[['Ésta gente no se ensucia con una chichigua de 200 millonarios de pesos. Recuerden que el fiscal \"anticorrupción\" 😁 hablaba de tres mil millones.. https://t.co/ClVLyo98ua',\n",
       "  datetime.datetime(2020, 11, 11, 17, 2, 28),\n",
       "  'Bogota',\n",
       "  'Córdoba, Colombia',\n",
       "  1326571004227936257,\n",
       "  'https://twitter.com/i/web/status/1326571004227936257'],\n",
       " ['Millonarios y sus probabilidades de clasificar a la siguiente ronda https://t.co/xDmBdm8zDa a través de @LaRazonCo',\n",
       "  datetime.datetime(2020, 11, 11, 13, 11),\n",
       "  'Bogota',\n",
       "  'Montería - Colombia',\n",
       "  1326512753134211072,\n",
       "  'https://twitter.com/i/web/status/1326512753134211072'],\n",
       " ['Pasaron 10 largos años desde la última vez que #MILLONARIOS ganó tres partidos seguidos jugando afuera de Bogotá. Desde 2010 con Ríchard Páez: \\n\\n🔵octubre 10: 2-1 vs Cortuluá \\n🔵octubre 13: 3-2 vs Itaguí\\n🔵octubre 16: 2-1 vs Envigado https://t.co/Vlh7RWuQ3C',\n",
       "  datetime.datetime(2020, 11, 11, 4, 28, 25),\n",
       "  'Bogota',\n",
       "  'Córdoba, Colombia',\n",
       "  1326381239864090628,\n",
       "  'https://twitter.com/i/web/status/1326381239864090628'],\n",
       " ['Millonarios FC: Juan Moreno, historia y críticas por Selección Colombia | Futbol Colombiano | Liga Betplay | Futbolred  https://t.co/2WjB86FnrA',\n",
       "  datetime.datetime(2020, 11, 11, 2, 37, 56),\n",
       "  'Bogota',\n",
       "  'Montería, Córdoba',\n",
       "  1326353435462152192,\n",
       "  'https://twitter.com/i/web/status/1326353435462152192'],\n",
       " ['Millonarios está a nada de hacer la gran Unión Magdalena del 2019-1: En ninguna fecha estuvo dentro de los 8, parecía eliminado y al final, logró hacer 30 puntos (le faltan 3), y se metió. https://t.co/YyYIMxtbyT',\n",
       "  datetime.datetime(2020, 11, 11, 1, 20, 30),\n",
       "  'Bogota',\n",
       "  'Sincelejo, Sucre',\n",
       "  1326333948650270721,\n",
       "  'https://twitter.com/i/web/status/1326333948650270721'],\n",
       " ['@EduardoLuisFut @MillosFCoficial @JFCadavid @Corpereira @WinSportsTV Lloren a Millonarios, tanta fuerza y la Equidad lo dejo a fuera de los 8',\n",
       "  datetime.datetime(2020, 11, 10, 20, 47, 52),\n",
       "  'Bogota',\n",
       "  'Montería, Colombia',\n",
       "  1326265339303309312,\n",
       "  'https://twitter.com/i/web/status/1326265339303309312'],\n",
       " ['@ealo9708 Cuando se habla de zona de descenso, es haciendo alusión a los dos últimos de esa tabla. Pero si Jaguares le gana Junior y Pereira pierde con Millonarios, ya Jaguares saldría de esa zona porque alcanzaría 95 puntos y Pereira se queda con 94 a falta de la fecha 20',\n",
       "  datetime.datetime(2020, 11, 10, 20, 35, 26),\n",
       "  'Bogota',\n",
       "  'Montería, Córdoba - Colombia',\n",
       "  1326262208884580359,\n",
       "  'https://twitter.com/i/web/status/1326262208884580359'],\n",
       " ['@mariajuanadas Mi niñez, los millonarios le ponían Milo jajaja',\n",
       "  datetime.datetime(2020, 11, 10, 3, 21, 46),\n",
       "  'Bogota',\n",
       "  'Sincelejo, Colombia',\n",
       "  1326002078314098688,\n",
       "  'https://twitter.com/i/web/status/1326002078314098688'],\n",
       " ['@davidbarguil Los bancos son y serán para los millonarios y los del poder, o como se explican que su dinero \"produzca\" 1% de interés, máximo el 4% mientras que el interés de un prestamo es de 20 o hasta 30%, el pueblo que se joda. Pasemos a Bitcoin y no jodamos más con bancos!',\n",
       "  datetime.datetime(2020, 11, 10, 3, 0, 49),\n",
       "  'Bogota',\n",
       "  'Montería, Colombia',\n",
       "  1325996807093182464,\n",
       "  'https://twitter.com/i/web/status/1325996807093182464'],\n",
       " ['@EduarCastillo06 @cesaralo Obvio que soy yo pero en ningún momento hable de millonarios, como te decían ellos hablan lo que les conviene, así son todos.',\n",
       "  datetime.datetime(2020, 11, 10, 0, 23, 51),\n",
       "  'Bogota',\n",
       "  'Chinú, Colombia',\n",
       "  1325957307197427717,\n",
       "  'https://twitter.com/i/web/status/1325957307197427717'],\n",
       " ['@EduarCastillo06 si estás viendo #conexionwin dime en que parte de mí Twit hablé de la clasificación se millonarios?',\n",
       "  datetime.datetime(2020, 11, 10, 0, 22, 43),\n",
       "  'Bogota',\n",
       "  'Chinú, Colombia',\n",
       "  1325957020755898368,\n",
       "  'https://twitter.com/i/web/status/1325957020755898368'],\n",
       " ['@LPEmbajadora @MillonariosEste @Millonarios_DC @MillosDColombia @CitadeHonor Pero Godoy la está haciendo bien de lateral, para que se va cambiar 🤷\\u200d♂️',\n",
       "  datetime.datetime(2020, 11, 9, 19, 14, 18),\n",
       "  'Bogota',\n",
       "  'caqueta ',\n",
       "  1325879407127502849,\n",
       "  'https://twitter.com/i/web/status/1325879407127502849'],\n",
       " ['@mcamilagomezl @oaotero91 casi nos volvemos millonarios',\n",
       "  datetime.datetime(2020, 11, 9, 1, 26, 25),\n",
       "  'Bogota',\n",
       "  'Sahagún, Colombia',\n",
       "  1325610665197924352,\n",
       "  'https://twitter.com/i/web/status/1325610665197924352'],\n",
       " ['En una liga seria, ahora mismo, ni Junior, ni Nacional, mucho menos Millonarios, deberían tener posibilidades de ganar el título de liga en 2020. Ese sistema de \"Entran 8\" deben de acabarlo algún día.',\n",
       "  datetime.datetime(2020, 11, 8, 4, 38, 5),\n",
       "  'Bogota',\n",
       "  'Sincelejo, Sucre',\n",
       "  1325296508498026498,\n",
       "  'https://twitter.com/i/web/status/1325296508498026498'],\n",
       " ['@AmericadeCali Ajajajjajaja que vergüenza revivieron a millonarios y ahora millonarios los elimina en el cuadrangular final ajajajajjaja',\n",
       "  datetime.datetime(2020, 11, 8, 3, 29, 21),\n",
       "  'Bogota',\n",
       "  'Montería, Colombia',\n",
       "  1325279212962516992,\n",
       "  'https://twitter.com/i/web/status/1325279212962516992'],\n",
       " ['@DeporteTotalFM Millonarios el papa de America en el pascual',\n",
       "  datetime.datetime(2020, 11, 8, 2, 49, 27),\n",
       "  'Bogota',\n",
       "  'Montería, Colombia',\n",
       "  1325269173187072000,\n",
       "  'https://twitter.com/i/web/status/1325269173187072000'],\n",
       " ['@LPEmbajadora @Millonarios_DC @MillonariosEste @MillosDColombia @CasaAzulRadioTV @CitadeHonor @UNIBAM_MFC @BARRAEMBAJADOR Como se va comer eso',\n",
       "  datetime.datetime(2020, 11, 8, 2, 38, 30),\n",
       "  'Bogota',\n",
       "  'caqueta ',\n",
       "  1325266416682082305,\n",
       "  'https://twitter.com/i/web/status/1325266416682082305'],\n",
       " ['Que decepción el año del Caballo Márquez. Entre la Sub 23, el Unión y Millonarios suma la increíble suma de 0 goles. El tipo cuando (supuestamente) lo buscó el Sporting de Lisboa el año pasado cayó en un pozo sin fondo.',\n",
       "  datetime.datetime(2020, 11, 7, 23, 50, 18),\n",
       "  'Bogota',\n",
       "  'Sincelejo, Sucre',\n",
       "  1325224088923762689,\n",
       "  'https://twitter.com/i/web/status/1325224088923762689'],\n",
       " ['@SaqueLargoWin #saquelargowin millonarios vino a despertar ya muy tarde',\n",
       "  datetime.datetime(2020, 11, 6, 21, 25, 53),\n",
       "  'Bogota',\n",
       "  'Montería, Colombia',\n",
       "  1324825354901610499,\n",
       "  'https://twitter.com/i/web/status/1324825354901610499'],\n",
       " ['Así fue la declaración del jugador de #Millonarios por el penal fallado frente a #DeportivoCali en #Sudamericana https://t.co/vTpky3V2vA',\n",
       "  datetime.datetime(2020, 11, 6, 13, 44, 51),\n",
       "  'Bogota',\n",
       "  'Córdoba, Colombia',\n",
       "  1324709334375452672,\n",
       "  'https://twitter.com/i/web/status/1324709334375452672'],\n",
       " ['@UzzielVzquez1 @Mhhhm_OK Iván Duque es de Ultraderecha, el capitalismo que práctica es corrosivo, no le importa pasar por quién sea, ha beneficiado a todos los millonarios que invirtieron en su campaña, el trabajador cada día está peor, en un salario que solo sirve para sobrevivír.',\n",
       "  datetime.datetime(2020, 11, 6, 13, 6, 1),\n",
       "  'Bogota',\n",
       "  'Montería, Colombia',\n",
       "  1324699558358765568,\n",
       "  'https://twitter.com/i/web/status/1324699558358765568'],\n",
       " ['@AABenedetti En este hp país en el que usted, su familia y sus amigotes se han vuelto millonarios a costas del erario público,  producto de la corrupción , Cínico y Sinverguenza.',\n",
       "  datetime.datetime(2020, 11, 6, 12, 12, 34),\n",
       "  'Bogota',\n",
       "  'Monteria',\n",
       "  1324686110002421761,\n",
       "  'https://twitter.com/i/web/status/1324686110002421761'],\n",
       " ['Biden - 264\\nTrump - 214\\nReal Madrid - 8\\nMillonarios - 0',\n",
       "  datetime.datetime(2020, 11, 6, 0, 34, 21),\n",
       "  'Bogota',\n",
       "  'Montería, Colombia',\n",
       "  1324510395265175559,\n",
       "  'https://twitter.com/i/web/status/1324510395265175559'],\n",
       " ['Fuera millonarios y nacional de la suramericana, también Tolima,fiel reflejo de lo mal que anda el fútbol colombiano en clubes.\\nBienvenido sea el ascenso y descenso a,b,c..',\n",
       "  datetime.datetime(2020, 11, 5, 14, 21, 7),\n",
       "  'Bogota',\n",
       "  'Sincelejo,sucre',\n",
       "  1324356072279298048,\n",
       "  'https://twitter.com/i/web/status/1324356072279298048'],\n",
       " ['Cali derrotó en penales a Millonarios y avanzó en la Copa Sudamericana https://t.co/GJECI4LDCo a través de @LaRazonCo',\n",
       "  datetime.datetime(2020, 11, 5, 13, 20, 41),\n",
       "  'Bogota',\n",
       "  'Montería - Colombia',\n",
       "  1324340865096179713,\n",
       "  'https://twitter.com/i/web/status/1324340865096179713'],\n",
       " ['#Deportes | Cali derrotó en penales a Millonarios y avanzó en la Copa Sudamericana https://t.co/qvYCfW9YGh a través de @LaRazonCo',\n",
       "  datetime.datetime(2020, 11, 5, 13, 13, 4),\n",
       "  'Bogota',\n",
       "  'Montería - Colombia',\n",
       "  1324338947166797825,\n",
       "  'https://twitter.com/i/web/status/1324338947166797825'],\n",
       " ['juanito moreno\\nte llegó en bandeja\\nconsagrate\\nte lo merecias\\n@MillosFCoficial \\n#AmorAzul\\n#Millonarios https://t.co/BsT91aCH4G',\n",
       "  datetime.datetime(2020, 11, 5, 2, 25, 39),\n",
       "  'Bogota',\n",
       "  'Tolú',\n",
       "  1324176019805360134,\n",
       "  'https://twitter.com/i/web/status/1324176019805360134'],\n",
       " ['@nacionaloficial segundo equipo colombiano eliminado en la primera ronda de la sudamericana... Al terminar la jornada (Cali 🆚 Millonarios) serán 3 los eliminados en la primera instancia del segundo torneo más importante a nivel continental... Qué pésimo fútbol @Dimayor @fpcwin',\n",
       "  datetime.datetime(2020, 11, 5, 0, 12, 46),\n",
       "  'Bogota',\n",
       "  'Montería',\n",
       "  1324142575394148354,\n",
       "  'https://twitter.com/i/web/status/1324142575394148354'],\n",
       " ['Deportivo Cali-Millonarios: duelo final por la permanencia en Sudamericana https://t.co/THy6NKfTfE a través de @LaRazonCo',\n",
       "  datetime.datetime(2020, 11, 4, 23, 10),\n",
       "  'Bogota',\n",
       "  'Montería, Colombia',\n",
       "  1324126780517617664,\n",
       "  'https://twitter.com/i/web/status/1324126780517617664'],\n",
       " ['Deportivo Cali-Millonarios: duelo final por la permanencia en Sudamericana https://t.co/rJ6quxMvp5 a través de @LaRazonCo',\n",
       "  datetime.datetime(2020, 11, 4, 16, 6, 56),\n",
       "  'Bogota',\n",
       "  'Montería - Colombia',\n",
       "  1324020313433251845,\n",
       "  'https://twitter.com/i/web/status/1324020313433251845'],\n",
       " ['@JFCadavid Miremos al cali, entendió que su partido más importante ahora es el de hoy con sudamericana con millonarios y dio un poco más de descanso a sus jugadores, después de esta fase viene un descanso en sudamericana y puedes retomar con la liga.',\n",
       "  datetime.datetime(2020, 11, 4, 15, 6, 1),\n",
       "  'Bogota',\n",
       "  'Magangué, Colombia',\n",
       "  1324004982283272197,\n",
       "  'https://twitter.com/i/web/status/1324004982283272197'],\n",
       " ['@josasc @MaogarciaJavi @edmartinezm @omarfdi O al Millonarios de Pinto.',\n",
       "  datetime.datetime(2020, 11, 4, 3, 20, 12),\n",
       "  'Bogota',\n",
       "  'Sincelejo, Sucre',\n",
       "  1323827360240750597,\n",
       "  'https://twitter.com/i/web/status/1323827360240750597'],\n",
       " ['@3ni8ma @AlexSalamank @FuriaRojaTV Esta mal probar a Héctor quiñonez con millonarios a un excelente lateral con equipo que tiene muchos altibajos en la delantera',\n",
       "  datetime.datetime(2020, 11, 3, 19, 7, 4),\n",
       "  'Bogota',\n",
       "  'Montería, Colombia',\n",
       "  1323703256376365060,\n",
       "  'https://twitter.com/i/web/status/1323703256376365060'],\n",
       " ['@DiarioTiempo No nos extrañe que después salgan millonarios https://t.co/eMMpDJSNDj',\n",
       "  datetime.datetime(2020, 11, 3, 14, 16, 19),\n",
       "  'Bogota',\n",
       "  'Centro América',\n",
       "  1323630089557450754,\n",
       "  'https://twitter.com/i/web/status/1323630089557450754'],\n",
       " ['Nos hubiera tocado en Copa contra el Cali y Millonarios que son hijos nuestros 😔',\n",
       "  datetime.datetime(2020, 11, 2, 23, 25, 31),\n",
       "  'Bogota',\n",
       "  'Montería-Córdoba',\n",
       "  1323405909440270339,\n",
       "  'https://twitter.com/i/web/status/1323405909440270339']]"
      ]
     },
     "execution_count": 43,
     "metadata": {},
     "output_type": "execute_result"
    }
   ],
   "source": [
    "t"
   ]
  },
  {
   "cell_type": "code",
   "execution_count": 44,
   "metadata": {},
   "outputs": [
    {
     "data": {
      "text/html": [
       "<div>\n",
       "<style scoped>\n",
       "    .dataframe tbody tr th:only-of-type {\n",
       "        vertical-align: middle;\n",
       "    }\n",
       "\n",
       "    .dataframe tbody tr th {\n",
       "        vertical-align: top;\n",
       "    }\n",
       "\n",
       "    .dataframe thead th {\n",
       "        text-align: right;\n",
       "    }\n",
       "</style>\n",
       "<table border=\"1\" class=\"dataframe\">\n",
       "  <thead>\n",
       "    <tr style=\"text-align: right;\">\n",
       "      <th></th>\n",
       "      <th>tweet</th>\n",
       "      <th>date</th>\n",
       "      <th>city</th>\n",
       "      <th>user_location</th>\n",
       "      <th>id</th>\n",
       "      <th>link</th>\n",
       "    </tr>\n",
       "  </thead>\n",
       "  <tbody>\n",
       "    <tr>\n",
       "      <td>0</td>\n",
       "      <td>Ésta gente no se ensucia con una chichigua de ...</td>\n",
       "      <td>2020-11-11 17:02:28</td>\n",
       "      <td>Bogota</td>\n",
       "      <td>Córdoba, Colombia</td>\n",
       "      <td>1326571004227936257</td>\n",
       "      <td>https://twitter.com/i/web/status/1326571004227...</td>\n",
       "    </tr>\n",
       "    <tr>\n",
       "      <td>1</td>\n",
       "      <td>Millonarios y sus probabilidades de clasificar...</td>\n",
       "      <td>2020-11-11 13:11:00</td>\n",
       "      <td>Bogota</td>\n",
       "      <td>Montería - Colombia</td>\n",
       "      <td>1326512753134211072</td>\n",
       "      <td>https://twitter.com/i/web/status/1326512753134...</td>\n",
       "    </tr>\n",
       "    <tr>\n",
       "      <td>2</td>\n",
       "      <td>Pasaron 10 largos años desde la última vez que...</td>\n",
       "      <td>2020-11-11 04:28:25</td>\n",
       "      <td>Bogota</td>\n",
       "      <td>Córdoba, Colombia</td>\n",
       "      <td>1326381239864090628</td>\n",
       "      <td>https://twitter.com/i/web/status/1326381239864...</td>\n",
       "    </tr>\n",
       "    <tr>\n",
       "      <td>3</td>\n",
       "      <td>Millonarios FC: Juan Moreno, historia y crític...</td>\n",
       "      <td>2020-11-11 02:37:56</td>\n",
       "      <td>Bogota</td>\n",
       "      <td>Montería, Córdoba</td>\n",
       "      <td>1326353435462152192</td>\n",
       "      <td>https://twitter.com/i/web/status/1326353435462...</td>\n",
       "    </tr>\n",
       "    <tr>\n",
       "      <td>4</td>\n",
       "      <td>Millonarios está a nada de hacer la gran Unión...</td>\n",
       "      <td>2020-11-11 01:20:30</td>\n",
       "      <td>Bogota</td>\n",
       "      <td>Sincelejo, Sucre</td>\n",
       "      <td>1326333948650270721</td>\n",
       "      <td>https://twitter.com/i/web/status/1326333948650...</td>\n",
       "    </tr>\n",
       "  </tbody>\n",
       "</table>\n",
       "</div>"
      ],
      "text/plain": [
       "                                               tweet                date  \\\n",
       "0  Ésta gente no se ensucia con una chichigua de ... 2020-11-11 17:02:28   \n",
       "1  Millonarios y sus probabilidades de clasificar... 2020-11-11 13:11:00   \n",
       "2  Pasaron 10 largos años desde la última vez que... 2020-11-11 04:28:25   \n",
       "3  Millonarios FC: Juan Moreno, historia y crític... 2020-11-11 02:37:56   \n",
       "4  Millonarios está a nada de hacer la gran Unión... 2020-11-11 01:20:30   \n",
       "\n",
       "     city        user_location                   id  \\\n",
       "0  Bogota    Córdoba, Colombia  1326571004227936257   \n",
       "1  Bogota  Montería - Colombia  1326512753134211072   \n",
       "2  Bogota    Córdoba, Colombia  1326381239864090628   \n",
       "3  Bogota    Montería, Córdoba  1326353435462152192   \n",
       "4  Bogota     Sincelejo, Sucre  1326333948650270721   \n",
       "\n",
       "                                                link  \n",
       "0  https://twitter.com/i/web/status/1326571004227...  \n",
       "1  https://twitter.com/i/web/status/1326512753134...  \n",
       "2  https://twitter.com/i/web/status/1326381239864...  \n",
       "3  https://twitter.com/i/web/status/1326353435462...  \n",
       "4  https://twitter.com/i/web/status/1326333948650...  "
      ]
     },
     "execution_count": 44,
     "metadata": {},
     "output_type": "execute_result"
    }
   ],
   "source": [
    "data = pd.DataFrame(t)\n",
    "\n",
    "data.columns = ['tweet', 'date', 'city', 'user_location', 'id', 'link']\n",
    "\n",
    "data.head()"
   ]
  },
  {
   "cell_type": "markdown",
   "metadata": {},
   "source": [
    "###  `[25 pts]` Punto 2: Hacer una visualización sobre esos tuits\n",
    "\n",
    "❌🎃❌ ¡No Halloween!"
   ]
  },
  {
   "cell_type": "code",
   "execution_count": 45,
   "metadata": {},
   "outputs": [],
   "source": [
    "import re\n",
    " \n",
    "pattern1 = '?P<pic>pic.twitter.com/[^\\s]+'\n",
    "\n",
    "pattern2 = '?P<url>https?://[^\\s]+'\n",
    " \n",
    "def text_clean(row):\n",
    "\n",
    "     text = row['tweet']\n",
    "\n",
    "\n",
    "     links = [tuple(j for j in i if j)[-1] for i in re.findall(f\"({pattern1})|({pattern2})\",text)]\n",
    "\n",
    "     for link in links:\n",
    "\n",
    "         text = text.replace(link,\"\")\n",
    "\n",
    "\n",
    "     hashtags = [interaction for interaction in text.split() if interaction.startswith(\"#\")]\n",
    "\n",
    "     for hashtag in hashtags:\n",
    "\n",
    "         text = text.replace(hashtag,\"\")\n",
    "\n",
    "\n",
    "     mentions = [interaction for interaction in text.split() if interaction.startswith(\"@\")]\n",
    "\n",
    "     for mention in mentions:\n",
    "\n",
    "         text = text.replace(mention,\"\")\n",
    "\n",
    "\n",
    "     return text, links, hashtags, mentions"
   ]
  },
  {
   "cell_type": "code",
   "execution_count": 46,
   "metadata": {},
   "outputs": [
    {
     "data": {
      "text/html": [
       "<div>\n",
       "<style scoped>\n",
       "    .dataframe tbody tr th:only-of-type {\n",
       "        vertical-align: middle;\n",
       "    }\n",
       "\n",
       "    .dataframe tbody tr th {\n",
       "        vertical-align: top;\n",
       "    }\n",
       "\n",
       "    .dataframe thead th {\n",
       "        text-align: right;\n",
       "    }\n",
       "</style>\n",
       "<table border=\"1\" class=\"dataframe\">\n",
       "  <thead>\n",
       "    <tr style=\"text-align: right;\">\n",
       "      <th></th>\n",
       "      <th>tweet</th>\n",
       "      <th>date</th>\n",
       "      <th>city</th>\n",
       "      <th>user_location</th>\n",
       "      <th>id</th>\n",
       "      <th>link</th>\n",
       "      <th>clean</th>\n",
       "      <th>links</th>\n",
       "      <th>hashtags</th>\n",
       "      <th>mentions</th>\n",
       "    </tr>\n",
       "  </thead>\n",
       "  <tbody>\n",
       "    <tr>\n",
       "      <td>0</td>\n",
       "      <td>Ésta gente no se ensucia con una chichigua de ...</td>\n",
       "      <td>2020-11-11 17:02:28</td>\n",
       "      <td>Bogota</td>\n",
       "      <td>Córdoba, Colombia</td>\n",
       "      <td>1326571004227936257</td>\n",
       "      <td>https://twitter.com/i/web/status/1326571004227...</td>\n",
       "      <td>Ésta gente no se ensucia con una chichigua de ...</td>\n",
       "      <td>[https://t.co/ClVLyo98ua]</td>\n",
       "      <td>[]</td>\n",
       "      <td>[]</td>\n",
       "    </tr>\n",
       "    <tr>\n",
       "      <td>1</td>\n",
       "      <td>Millonarios y sus probabilidades de clasificar...</td>\n",
       "      <td>2020-11-11 13:11:00</td>\n",
       "      <td>Bogota</td>\n",
       "      <td>Montería - Colombia</td>\n",
       "      <td>1326512753134211072</td>\n",
       "      <td>https://twitter.com/i/web/status/1326512753134...</td>\n",
       "      <td>Millonarios y sus probabilidades de clasificar...</td>\n",
       "      <td>[https://t.co/xDmBdm8zDa]</td>\n",
       "      <td>[]</td>\n",
       "      <td>[@LaRazonCo]</td>\n",
       "    </tr>\n",
       "    <tr>\n",
       "      <td>2</td>\n",
       "      <td>Pasaron 10 largos años desde la última vez que...</td>\n",
       "      <td>2020-11-11 04:28:25</td>\n",
       "      <td>Bogota</td>\n",
       "      <td>Córdoba, Colombia</td>\n",
       "      <td>1326381239864090628</td>\n",
       "      <td>https://twitter.com/i/web/status/1326381239864...</td>\n",
       "      <td>Pasaron 10 largos años desde la última vez que...</td>\n",
       "      <td>[https://t.co/Vlh7RWuQ3C]</td>\n",
       "      <td>[#MILLONARIOS]</td>\n",
       "      <td>[]</td>\n",
       "    </tr>\n",
       "    <tr>\n",
       "      <td>3</td>\n",
       "      <td>Millonarios FC: Juan Moreno, historia y crític...</td>\n",
       "      <td>2020-11-11 02:37:56</td>\n",
       "      <td>Bogota</td>\n",
       "      <td>Montería, Córdoba</td>\n",
       "      <td>1326353435462152192</td>\n",
       "      <td>https://twitter.com/i/web/status/1326353435462...</td>\n",
       "      <td>Millonarios FC: Juan Moreno, historia y crític...</td>\n",
       "      <td>[https://t.co/2WjB86FnrA]</td>\n",
       "      <td>[]</td>\n",
       "      <td>[]</td>\n",
       "    </tr>\n",
       "    <tr>\n",
       "      <td>4</td>\n",
       "      <td>Millonarios está a nada de hacer la gran Unión...</td>\n",
       "      <td>2020-11-11 01:20:30</td>\n",
       "      <td>Bogota</td>\n",
       "      <td>Sincelejo, Sucre</td>\n",
       "      <td>1326333948650270721</td>\n",
       "      <td>https://twitter.com/i/web/status/1326333948650...</td>\n",
       "      <td>Millonarios está a nada de hacer la gran Unión...</td>\n",
       "      <td>[https://t.co/YyYIMxtbyT]</td>\n",
       "      <td>[]</td>\n",
       "      <td>[]</td>\n",
       "    </tr>\n",
       "  </tbody>\n",
       "</table>\n",
       "</div>"
      ],
      "text/plain": [
       "                                               tweet                date  \\\n",
       "0  Ésta gente no se ensucia con una chichigua de ... 2020-11-11 17:02:28   \n",
       "1  Millonarios y sus probabilidades de clasificar... 2020-11-11 13:11:00   \n",
       "2  Pasaron 10 largos años desde la última vez que... 2020-11-11 04:28:25   \n",
       "3  Millonarios FC: Juan Moreno, historia y crític... 2020-11-11 02:37:56   \n",
       "4  Millonarios está a nada de hacer la gran Unión... 2020-11-11 01:20:30   \n",
       "\n",
       "     city        user_location                   id  \\\n",
       "0  Bogota    Córdoba, Colombia  1326571004227936257   \n",
       "1  Bogota  Montería - Colombia  1326512753134211072   \n",
       "2  Bogota    Córdoba, Colombia  1326381239864090628   \n",
       "3  Bogota    Montería, Córdoba  1326353435462152192   \n",
       "4  Bogota     Sincelejo, Sucre  1326333948650270721   \n",
       "\n",
       "                                                link  \\\n",
       "0  https://twitter.com/i/web/status/1326571004227...   \n",
       "1  https://twitter.com/i/web/status/1326512753134...   \n",
       "2  https://twitter.com/i/web/status/1326381239864...   \n",
       "3  https://twitter.com/i/web/status/1326353435462...   \n",
       "4  https://twitter.com/i/web/status/1326333948650...   \n",
       "\n",
       "                                               clean  \\\n",
       "0  Ésta gente no se ensucia con una chichigua de ...   \n",
       "1  Millonarios y sus probabilidades de clasificar...   \n",
       "2  Pasaron 10 largos años desde la última vez que...   \n",
       "3  Millonarios FC: Juan Moreno, historia y crític...   \n",
       "4  Millonarios está a nada de hacer la gran Unión...   \n",
       "\n",
       "                       links        hashtags      mentions  \n",
       "0  [https://t.co/ClVLyo98ua]              []            []  \n",
       "1  [https://t.co/xDmBdm8zDa]              []  [@LaRazonCo]  \n",
       "2  [https://t.co/Vlh7RWuQ3C]  [#MILLONARIOS]            []  \n",
       "3  [https://t.co/2WjB86FnrA]              []            []  \n",
       "4  [https://t.co/YyYIMxtbyT]              []            []  "
      ]
     },
     "execution_count": 46,
     "metadata": {},
     "output_type": "execute_result"
    }
   ],
   "source": [
    "data[['clean', 'links', 'hashtags', 'mentions']] = data.apply(text_clean, axis=1, result_type='expand')\n",
    "\n",
    "\n",
    "data.head()"
   ]
  },
  {
   "cell_type": "code",
   "execution_count": 47,
   "metadata": {},
   "outputs": [],
   "source": [
    "import regex\n",
    "\n",
    "import emoji\n",
    " \n",
    "def get_emojis(text):\n",
    "\n",
    "     emoji_list = []\n",
    "\n",
    "     data = regex.findall(r'\\X', text)\n",
    "\n",
    "     for word in data:\n",
    "\n",
    "         if any(char in emoji.UNICODE_EMOJI for char in word):\n",
    "\n",
    "             emoji_list.append(word)\n",
    " \n",
    "     return emoji_list\n",
    " \n",
    "data['emojis'] = data['clean'].apply(lambda text: get_emojis(text))"
   ]
  },
  {
   "cell_type": "code",
   "execution_count": 49,
   "metadata": {},
   "outputs": [
    {
     "data": {
      "text/html": [
       "<div>\n",
       "<style scoped>\n",
       "    .dataframe tbody tr th:only-of-type {\n",
       "        vertical-align: middle;\n",
       "    }\n",
       "\n",
       "    .dataframe tbody tr th {\n",
       "        vertical-align: top;\n",
       "    }\n",
       "\n",
       "    .dataframe thead th {\n",
       "        text-align: right;\n",
       "    }\n",
       "</style>\n",
       "<table border=\"1\" class=\"dataframe\">\n",
       "  <thead>\n",
       "    <tr style=\"text-align: right;\">\n",
       "      <th></th>\n",
       "      <th>tweet</th>\n",
       "      <th>date</th>\n",
       "      <th>city</th>\n",
       "      <th>user_location</th>\n",
       "      <th>id</th>\n",
       "      <th>link</th>\n",
       "      <th>clean</th>\n",
       "      <th>links</th>\n",
       "      <th>hashtags</th>\n",
       "      <th>mentions</th>\n",
       "      <th>emojis</th>\n",
       "    </tr>\n",
       "  </thead>\n",
       "  <tbody>\n",
       "    <tr>\n",
       "      <td>0</td>\n",
       "      <td>Ésta gente no se ensucia con una chichigua de ...</td>\n",
       "      <td>2020-11-11 17:02:28</td>\n",
       "      <td>Bogota</td>\n",
       "      <td>Córdoba, Colombia</td>\n",
       "      <td>1326571004227936257</td>\n",
       "      <td>https://twitter.com/i/web/status/1326571004227...</td>\n",
       "      <td>Ésta gente no se ensucia con una chichigua de ...</td>\n",
       "      <td>[https://t.co/ClVLyo98ua]</td>\n",
       "      <td>[]</td>\n",
       "      <td>[]</td>\n",
       "      <td>[😁]</td>\n",
       "    </tr>\n",
       "    <tr>\n",
       "      <td>1</td>\n",
       "      <td>Millonarios y sus probabilidades de clasificar...</td>\n",
       "      <td>2020-11-11 13:11:00</td>\n",
       "      <td>Bogota</td>\n",
       "      <td>Montería - Colombia</td>\n",
       "      <td>1326512753134211072</td>\n",
       "      <td>https://twitter.com/i/web/status/1326512753134...</td>\n",
       "      <td>Millonarios y sus probabilidades de clasificar...</td>\n",
       "      <td>[https://t.co/xDmBdm8zDa]</td>\n",
       "      <td>[]</td>\n",
       "      <td>[@LaRazonCo]</td>\n",
       "      <td>[]</td>\n",
       "    </tr>\n",
       "    <tr>\n",
       "      <td>2</td>\n",
       "      <td>Pasaron 10 largos años desde la última vez que...</td>\n",
       "      <td>2020-11-11 04:28:25</td>\n",
       "      <td>Bogota</td>\n",
       "      <td>Córdoba, Colombia</td>\n",
       "      <td>1326381239864090628</td>\n",
       "      <td>https://twitter.com/i/web/status/1326381239864...</td>\n",
       "      <td>Pasaron 10 largos años desde la última vez que...</td>\n",
       "      <td>[https://t.co/Vlh7RWuQ3C]</td>\n",
       "      <td>[#MILLONARIOS]</td>\n",
       "      <td>[]</td>\n",
       "      <td>[🔵, 🔵, 🔵]</td>\n",
       "    </tr>\n",
       "    <tr>\n",
       "      <td>3</td>\n",
       "      <td>Millonarios FC: Juan Moreno, historia y crític...</td>\n",
       "      <td>2020-11-11 02:37:56</td>\n",
       "      <td>Bogota</td>\n",
       "      <td>Montería, Córdoba</td>\n",
       "      <td>1326353435462152192</td>\n",
       "      <td>https://twitter.com/i/web/status/1326353435462...</td>\n",
       "      <td>Millonarios FC: Juan Moreno, historia y crític...</td>\n",
       "      <td>[https://t.co/2WjB86FnrA]</td>\n",
       "      <td>[]</td>\n",
       "      <td>[]</td>\n",
       "      <td>[]</td>\n",
       "    </tr>\n",
       "    <tr>\n",
       "      <td>4</td>\n",
       "      <td>Millonarios está a nada de hacer la gran Unión...</td>\n",
       "      <td>2020-11-11 01:20:30</td>\n",
       "      <td>Bogota</td>\n",
       "      <td>Sincelejo, Sucre</td>\n",
       "      <td>1326333948650270721</td>\n",
       "      <td>https://twitter.com/i/web/status/1326333948650...</td>\n",
       "      <td>Millonarios está a nada de hacer la gran Unión...</td>\n",
       "      <td>[https://t.co/YyYIMxtbyT]</td>\n",
       "      <td>[]</td>\n",
       "      <td>[]</td>\n",
       "      <td>[]</td>\n",
       "    </tr>\n",
       "    <tr>\n",
       "      <td>5</td>\n",
       "      <td>@EduardoLuisFut @MillosFCoficial @JFCadavid @C...</td>\n",
       "      <td>2020-11-10 20:47:52</td>\n",
       "      <td>Bogota</td>\n",
       "      <td>Montería, Colombia</td>\n",
       "      <td>1326265339303309312</td>\n",
       "      <td>https://twitter.com/i/web/status/1326265339303...</td>\n",
       "      <td>Lloren a Millonarios, tanta fuerza y la E...</td>\n",
       "      <td>[]</td>\n",
       "      <td>[]</td>\n",
       "      <td>[@EduardoLuisFut, @MillosFCoficial, @JFCadavid...</td>\n",
       "      <td>[]</td>\n",
       "    </tr>\n",
       "    <tr>\n",
       "      <td>6</td>\n",
       "      <td>@ealo9708 Cuando se habla de zona de descenso,...</td>\n",
       "      <td>2020-11-10 20:35:26</td>\n",
       "      <td>Bogota</td>\n",
       "      <td>Montería, Córdoba - Colombia</td>\n",
       "      <td>1326262208884580359</td>\n",
       "      <td>https://twitter.com/i/web/status/1326262208884...</td>\n",
       "      <td>Cuando se habla de zona de descenso, es hacie...</td>\n",
       "      <td>[]</td>\n",
       "      <td>[]</td>\n",
       "      <td>[@ealo9708]</td>\n",
       "      <td>[]</td>\n",
       "    </tr>\n",
       "    <tr>\n",
       "      <td>7</td>\n",
       "      <td>@mariajuanadas Mi niñez, los millonarios le po...</td>\n",
       "      <td>2020-11-10 03:21:46</td>\n",
       "      <td>Bogota</td>\n",
       "      <td>Sincelejo, Colombia</td>\n",
       "      <td>1326002078314098688</td>\n",
       "      <td>https://twitter.com/i/web/status/1326002078314...</td>\n",
       "      <td>Mi niñez, los millonarios le ponían Milo jajaja</td>\n",
       "      <td>[]</td>\n",
       "      <td>[]</td>\n",
       "      <td>[@mariajuanadas]</td>\n",
       "      <td>[]</td>\n",
       "    </tr>\n",
       "    <tr>\n",
       "      <td>8</td>\n",
       "      <td>@davidbarguil Los bancos son y serán para los ...</td>\n",
       "      <td>2020-11-10 03:00:49</td>\n",
       "      <td>Bogota</td>\n",
       "      <td>Montería, Colombia</td>\n",
       "      <td>1325996807093182464</td>\n",
       "      <td>https://twitter.com/i/web/status/1325996807093...</td>\n",
       "      <td>Los bancos son y serán para los millonarios y...</td>\n",
       "      <td>[]</td>\n",
       "      <td>[]</td>\n",
       "      <td>[@davidbarguil]</td>\n",
       "      <td>[]</td>\n",
       "    </tr>\n",
       "    <tr>\n",
       "      <td>9</td>\n",
       "      <td>@EduarCastillo06 @cesaralo Obvio que soy yo pe...</td>\n",
       "      <td>2020-11-10 00:23:51</td>\n",
       "      <td>Bogota</td>\n",
       "      <td>Chinú, Colombia</td>\n",
       "      <td>1325957307197427717</td>\n",
       "      <td>https://twitter.com/i/web/status/1325957307197...</td>\n",
       "      <td>Obvio que soy yo pero en ningún momento habl...</td>\n",
       "      <td>[]</td>\n",
       "      <td>[]</td>\n",
       "      <td>[@EduarCastillo06, @cesaralo]</td>\n",
       "      <td>[]</td>\n",
       "    </tr>\n",
       "    <tr>\n",
       "      <td>10</td>\n",
       "      <td>@EduarCastillo06 si estás viendo #conexionwin ...</td>\n",
       "      <td>2020-11-10 00:22:43</td>\n",
       "      <td>Bogota</td>\n",
       "      <td>Chinú, Colombia</td>\n",
       "      <td>1325957020755898368</td>\n",
       "      <td>https://twitter.com/i/web/status/1325957020755...</td>\n",
       "      <td>si estás viendo  dime en que parte de mí Twit...</td>\n",
       "      <td>[]</td>\n",
       "      <td>[#conexionwin]</td>\n",
       "      <td>[@EduarCastillo06]</td>\n",
       "      <td>[]</td>\n",
       "    </tr>\n",
       "    <tr>\n",
       "      <td>11</td>\n",
       "      <td>@LPEmbajadora @MillonariosEste @Millonarios_DC...</td>\n",
       "      <td>2020-11-09 19:14:18</td>\n",
       "      <td>Bogota</td>\n",
       "      <td>caqueta</td>\n",
       "      <td>1325879407127502849</td>\n",
       "      <td>https://twitter.com/i/web/status/1325879407127...</td>\n",
       "      <td>Pero Godoy la está haciendo bien de later...</td>\n",
       "      <td>[]</td>\n",
       "      <td>[]</td>\n",
       "      <td>[@LPEmbajadora, @MillonariosEste, @Millonarios...</td>\n",
       "      <td>[🤷‍♂️]</td>\n",
       "    </tr>\n",
       "    <tr>\n",
       "      <td>12</td>\n",
       "      <td>@mcamilagomezl @oaotero91 casi nos volvemos mi...</td>\n",
       "      <td>2020-11-09 01:26:25</td>\n",
       "      <td>Bogota</td>\n",
       "      <td>Sahagún, Colombia</td>\n",
       "      <td>1325610665197924352</td>\n",
       "      <td>https://twitter.com/i/web/status/1325610665197...</td>\n",
       "      <td>casi nos volvemos millonarios</td>\n",
       "      <td>[]</td>\n",
       "      <td>[]</td>\n",
       "      <td>[@mcamilagomezl, @oaotero91]</td>\n",
       "      <td>[]</td>\n",
       "    </tr>\n",
       "    <tr>\n",
       "      <td>13</td>\n",
       "      <td>En una liga seria, ahora mismo, ni Junior, ni ...</td>\n",
       "      <td>2020-11-08 04:38:05</td>\n",
       "      <td>Bogota</td>\n",
       "      <td>Sincelejo, Sucre</td>\n",
       "      <td>1325296508498026498</td>\n",
       "      <td>https://twitter.com/i/web/status/1325296508498...</td>\n",
       "      <td>En una liga seria, ahora mismo, ni Junior, ni ...</td>\n",
       "      <td>[]</td>\n",
       "      <td>[]</td>\n",
       "      <td>[]</td>\n",
       "      <td>[]</td>\n",
       "    </tr>\n",
       "    <tr>\n",
       "      <td>14</td>\n",
       "      <td>@AmericadeCali Ajajajjajaja que vergüenza revi...</td>\n",
       "      <td>2020-11-08 03:29:21</td>\n",
       "      <td>Bogota</td>\n",
       "      <td>Montería, Colombia</td>\n",
       "      <td>1325279212962516992</td>\n",
       "      <td>https://twitter.com/i/web/status/1325279212962...</td>\n",
       "      <td>Ajajajjajaja que vergüenza revivieron a millo...</td>\n",
       "      <td>[]</td>\n",
       "      <td>[]</td>\n",
       "      <td>[@AmericadeCali]</td>\n",
       "      <td>[]</td>\n",
       "    </tr>\n",
       "    <tr>\n",
       "      <td>15</td>\n",
       "      <td>@DeporteTotalFM Millonarios el papa de America...</td>\n",
       "      <td>2020-11-08 02:49:27</td>\n",
       "      <td>Bogota</td>\n",
       "      <td>Montería, Colombia</td>\n",
       "      <td>1325269173187072000</td>\n",
       "      <td>https://twitter.com/i/web/status/1325269173187...</td>\n",
       "      <td>Millonarios el papa de America en el pascual</td>\n",
       "      <td>[]</td>\n",
       "      <td>[]</td>\n",
       "      <td>[@DeporteTotalFM]</td>\n",
       "      <td>[]</td>\n",
       "    </tr>\n",
       "    <tr>\n",
       "      <td>16</td>\n",
       "      <td>@LPEmbajadora @Millonarios_DC @MillonariosEste...</td>\n",
       "      <td>2020-11-08 02:38:30</td>\n",
       "      <td>Bogota</td>\n",
       "      <td>caqueta</td>\n",
       "      <td>1325266416682082305</td>\n",
       "      <td>https://twitter.com/i/web/status/1325266416682...</td>\n",
       "      <td>Como se va comer eso</td>\n",
       "      <td>[]</td>\n",
       "      <td>[]</td>\n",
       "      <td>[@LPEmbajadora, @Millonarios_DC, @MillonariosE...</td>\n",
       "      <td>[]</td>\n",
       "    </tr>\n",
       "    <tr>\n",
       "      <td>17</td>\n",
       "      <td>Que decepción el año del Caballo Márquez. Entr...</td>\n",
       "      <td>2020-11-07 23:50:18</td>\n",
       "      <td>Bogota</td>\n",
       "      <td>Sincelejo, Sucre</td>\n",
       "      <td>1325224088923762689</td>\n",
       "      <td>https://twitter.com/i/web/status/1325224088923...</td>\n",
       "      <td>Que decepción el año del Caballo Márquez. Entr...</td>\n",
       "      <td>[]</td>\n",
       "      <td>[]</td>\n",
       "      <td>[]</td>\n",
       "      <td>[]</td>\n",
       "    </tr>\n",
       "    <tr>\n",
       "      <td>18</td>\n",
       "      <td>@SaqueLargoWin #saquelargowin millonarios vino...</td>\n",
       "      <td>2020-11-06 21:25:53</td>\n",
       "      <td>Bogota</td>\n",
       "      <td>Montería, Colombia</td>\n",
       "      <td>1324825354901610499</td>\n",
       "      <td>https://twitter.com/i/web/status/1324825354901...</td>\n",
       "      <td>millonarios vino a despertar ya muy tarde</td>\n",
       "      <td>[]</td>\n",
       "      <td>[#saquelargowin]</td>\n",
       "      <td>[@SaqueLargoWin]</td>\n",
       "      <td>[]</td>\n",
       "    </tr>\n",
       "    <tr>\n",
       "      <td>19</td>\n",
       "      <td>Así fue la declaración del jugador de #Millona...</td>\n",
       "      <td>2020-11-06 13:44:51</td>\n",
       "      <td>Bogota</td>\n",
       "      <td>Córdoba, Colombia</td>\n",
       "      <td>1324709334375452672</td>\n",
       "      <td>https://twitter.com/i/web/status/1324709334375...</td>\n",
       "      <td>Así fue la declaración del jugador de  por el ...</td>\n",
       "      <td>[https://t.co/vTpky3V2vA]</td>\n",
       "      <td>[#Millonarios, #DeportivoCali, #Sudamericana]</td>\n",
       "      <td>[]</td>\n",
       "      <td>[]</td>\n",
       "    </tr>\n",
       "    <tr>\n",
       "      <td>20</td>\n",
       "      <td>@UzzielVzquez1 @Mhhhm_OK Iván Duque es de Ultr...</td>\n",
       "      <td>2020-11-06 13:06:01</td>\n",
       "      <td>Bogota</td>\n",
       "      <td>Montería, Colombia</td>\n",
       "      <td>1324699558358765568</td>\n",
       "      <td>https://twitter.com/i/web/status/1324699558358...</td>\n",
       "      <td>Iván Duque es de Ultraderecha, el capitalism...</td>\n",
       "      <td>[]</td>\n",
       "      <td>[]</td>\n",
       "      <td>[@UzzielVzquez1, @Mhhhm_OK]</td>\n",
       "      <td>[]</td>\n",
       "    </tr>\n",
       "    <tr>\n",
       "      <td>21</td>\n",
       "      <td>@AABenedetti En este hp país en el que usted, ...</td>\n",
       "      <td>2020-11-06 12:12:34</td>\n",
       "      <td>Bogota</td>\n",
       "      <td>Monteria</td>\n",
       "      <td>1324686110002421761</td>\n",
       "      <td>https://twitter.com/i/web/status/1324686110002...</td>\n",
       "      <td>En este hp país en el que usted, su familia y...</td>\n",
       "      <td>[]</td>\n",
       "      <td>[]</td>\n",
       "      <td>[@AABenedetti]</td>\n",
       "      <td>[]</td>\n",
       "    </tr>\n",
       "    <tr>\n",
       "      <td>22</td>\n",
       "      <td>Biden - 264\\nTrump - 214\\nReal Madrid - 8\\nMil...</td>\n",
       "      <td>2020-11-06 00:34:21</td>\n",
       "      <td>Bogota</td>\n",
       "      <td>Montería, Colombia</td>\n",
       "      <td>1324510395265175559</td>\n",
       "      <td>https://twitter.com/i/web/status/1324510395265...</td>\n",
       "      <td>Biden - 264\\nTrump - 214\\nReal Madrid - 8\\nMil...</td>\n",
       "      <td>[]</td>\n",
       "      <td>[]</td>\n",
       "      <td>[]</td>\n",
       "      <td>[]</td>\n",
       "    </tr>\n",
       "    <tr>\n",
       "      <td>23</td>\n",
       "      <td>Fuera millonarios y nacional de la suramerican...</td>\n",
       "      <td>2020-11-05 14:21:07</td>\n",
       "      <td>Bogota</td>\n",
       "      <td>Sincelejo,sucre</td>\n",
       "      <td>1324356072279298048</td>\n",
       "      <td>https://twitter.com/i/web/status/1324356072279...</td>\n",
       "      <td>Fuera millonarios y nacional de la suramerican...</td>\n",
       "      <td>[]</td>\n",
       "      <td>[]</td>\n",
       "      <td>[]</td>\n",
       "      <td>[]</td>\n",
       "    </tr>\n",
       "    <tr>\n",
       "      <td>24</td>\n",
       "      <td>Cali derrotó en penales a Millonarios y avanzó...</td>\n",
       "      <td>2020-11-05 13:20:41</td>\n",
       "      <td>Bogota</td>\n",
       "      <td>Montería - Colombia</td>\n",
       "      <td>1324340865096179713</td>\n",
       "      <td>https://twitter.com/i/web/status/1324340865096...</td>\n",
       "      <td>Cali derrotó en penales a Millonarios y avanzó...</td>\n",
       "      <td>[https://t.co/GJECI4LDCo]</td>\n",
       "      <td>[]</td>\n",
       "      <td>[@LaRazonCo]</td>\n",
       "      <td>[]</td>\n",
       "    </tr>\n",
       "    <tr>\n",
       "      <td>25</td>\n",
       "      <td>#Deportes | Cali derrotó en penales a Millonar...</td>\n",
       "      <td>2020-11-05 13:13:04</td>\n",
       "      <td>Bogota</td>\n",
       "      <td>Montería - Colombia</td>\n",
       "      <td>1324338947166797825</td>\n",
       "      <td>https://twitter.com/i/web/status/1324338947166...</td>\n",
       "      <td>| Cali derrotó en penales a Millonarios y ava...</td>\n",
       "      <td>[https://t.co/qvYCfW9YGh]</td>\n",
       "      <td>[#Deportes]</td>\n",
       "      <td>[@LaRazonCo]</td>\n",
       "      <td>[]</td>\n",
       "    </tr>\n",
       "    <tr>\n",
       "      <td>26</td>\n",
       "      <td>juanito moreno\\nte llegó en bandeja\\nconsagrat...</td>\n",
       "      <td>2020-11-05 02:25:39</td>\n",
       "      <td>Bogota</td>\n",
       "      <td>Tolú</td>\n",
       "      <td>1324176019805360134</td>\n",
       "      <td>https://twitter.com/i/web/status/1324176019805...</td>\n",
       "      <td>juanito moreno\\nte llegó en bandeja\\nconsagrat...</td>\n",
       "      <td>[https://t.co/BsT91aCH4G]</td>\n",
       "      <td>[#AmorAzul, #Millonarios]</td>\n",
       "      <td>[@MillosFCoficial]</td>\n",
       "      <td>[]</td>\n",
       "    </tr>\n",
       "    <tr>\n",
       "      <td>27</td>\n",
       "      <td>@nacionaloficial segundo equipo colombiano eli...</td>\n",
       "      <td>2020-11-05 00:12:46</td>\n",
       "      <td>Bogota</td>\n",
       "      <td>Montería</td>\n",
       "      <td>1324142575394148354</td>\n",
       "      <td>https://twitter.com/i/web/status/1324142575394...</td>\n",
       "      <td>segundo equipo colombiano eliminado en la pri...</td>\n",
       "      <td>[]</td>\n",
       "      <td>[]</td>\n",
       "      <td>[@nacionaloficial, @Dimayor, @fpcwin]</td>\n",
       "      <td>[🆚]</td>\n",
       "    </tr>\n",
       "    <tr>\n",
       "      <td>28</td>\n",
       "      <td>Deportivo Cali-Millonarios: duelo final por la...</td>\n",
       "      <td>2020-11-04 23:10:00</td>\n",
       "      <td>Bogota</td>\n",
       "      <td>Montería, Colombia</td>\n",
       "      <td>1324126780517617664</td>\n",
       "      <td>https://twitter.com/i/web/status/1324126780517...</td>\n",
       "      <td>Deportivo Cali-Millonarios: duelo final por la...</td>\n",
       "      <td>[https://t.co/THy6NKfTfE]</td>\n",
       "      <td>[]</td>\n",
       "      <td>[@LaRazonCo]</td>\n",
       "      <td>[]</td>\n",
       "    </tr>\n",
       "    <tr>\n",
       "      <td>29</td>\n",
       "      <td>Deportivo Cali-Millonarios: duelo final por la...</td>\n",
       "      <td>2020-11-04 16:06:56</td>\n",
       "      <td>Bogota</td>\n",
       "      <td>Montería - Colombia</td>\n",
       "      <td>1324020313433251845</td>\n",
       "      <td>https://twitter.com/i/web/status/1324020313433...</td>\n",
       "      <td>Deportivo Cali-Millonarios: duelo final por la...</td>\n",
       "      <td>[https://t.co/rJ6quxMvp5]</td>\n",
       "      <td>[]</td>\n",
       "      <td>[@LaRazonCo]</td>\n",
       "      <td>[]</td>\n",
       "    </tr>\n",
       "    <tr>\n",
       "      <td>30</td>\n",
       "      <td>@JFCadavid Miremos al cali, entendió que su pa...</td>\n",
       "      <td>2020-11-04 15:06:01</td>\n",
       "      <td>Bogota</td>\n",
       "      <td>Magangué, Colombia</td>\n",
       "      <td>1324004982283272197</td>\n",
       "      <td>https://twitter.com/i/web/status/1324004982283...</td>\n",
       "      <td>Miremos al cali, entendió que su partido más ...</td>\n",
       "      <td>[]</td>\n",
       "      <td>[]</td>\n",
       "      <td>[@JFCadavid]</td>\n",
       "      <td>[]</td>\n",
       "    </tr>\n",
       "    <tr>\n",
       "      <td>31</td>\n",
       "      <td>@josasc @MaogarciaJavi @edmartinezm @omarfdi O...</td>\n",
       "      <td>2020-11-04 03:20:12</td>\n",
       "      <td>Bogota</td>\n",
       "      <td>Sincelejo, Sucre</td>\n",
       "      <td>1323827360240750597</td>\n",
       "      <td>https://twitter.com/i/web/status/1323827360240...</td>\n",
       "      <td>O al Millonarios de Pinto.</td>\n",
       "      <td>[]</td>\n",
       "      <td>[]</td>\n",
       "      <td>[@josasc, @MaogarciaJavi, @edmartinezm, @omarfdi]</td>\n",
       "      <td>[]</td>\n",
       "    </tr>\n",
       "    <tr>\n",
       "      <td>32</td>\n",
       "      <td>@3ni8ma @AlexSalamank @FuriaRojaTV Esta mal pr...</td>\n",
       "      <td>2020-11-03 19:07:04</td>\n",
       "      <td>Bogota</td>\n",
       "      <td>Montería, Colombia</td>\n",
       "      <td>1323703256376365060</td>\n",
       "      <td>https://twitter.com/i/web/status/1323703256376...</td>\n",
       "      <td>Esta mal probar a Héctor quiñonez con millo...</td>\n",
       "      <td>[]</td>\n",
       "      <td>[]</td>\n",
       "      <td>[@3ni8ma, @AlexSalamank, @FuriaRojaTV]</td>\n",
       "      <td>[]</td>\n",
       "    </tr>\n",
       "    <tr>\n",
       "      <td>33</td>\n",
       "      <td>@DiarioTiempo No nos extrañe que después salga...</td>\n",
       "      <td>2020-11-03 14:16:19</td>\n",
       "      <td>Bogota</td>\n",
       "      <td>Centro América</td>\n",
       "      <td>1323630089557450754</td>\n",
       "      <td>https://twitter.com/i/web/status/1323630089557...</td>\n",
       "      <td>No nos extrañe que después salgan millonarios</td>\n",
       "      <td>[https://t.co/eMMpDJSNDj]</td>\n",
       "      <td>[]</td>\n",
       "      <td>[@DiarioTiempo]</td>\n",
       "      <td>[]</td>\n",
       "    </tr>\n",
       "    <tr>\n",
       "      <td>34</td>\n",
       "      <td>Nos hubiera tocado en Copa contra el Cali y Mi...</td>\n",
       "      <td>2020-11-02 23:25:31</td>\n",
       "      <td>Bogota</td>\n",
       "      <td>Montería-Córdoba</td>\n",
       "      <td>1323405909440270339</td>\n",
       "      <td>https://twitter.com/i/web/status/1323405909440...</td>\n",
       "      <td>Nos hubiera tocado en Copa contra el Cali y Mi...</td>\n",
       "      <td>[]</td>\n",
       "      <td>[]</td>\n",
       "      <td>[]</td>\n",
       "      <td>[😔]</td>\n",
       "    </tr>\n",
       "  </tbody>\n",
       "</table>\n",
       "</div>"
      ],
      "text/plain": [
       "                                                tweet                date  \\\n",
       "0   Ésta gente no se ensucia con una chichigua de ... 2020-11-11 17:02:28   \n",
       "1   Millonarios y sus probabilidades de clasificar... 2020-11-11 13:11:00   \n",
       "2   Pasaron 10 largos años desde la última vez que... 2020-11-11 04:28:25   \n",
       "3   Millonarios FC: Juan Moreno, historia y crític... 2020-11-11 02:37:56   \n",
       "4   Millonarios está a nada de hacer la gran Unión... 2020-11-11 01:20:30   \n",
       "5   @EduardoLuisFut @MillosFCoficial @JFCadavid @C... 2020-11-10 20:47:52   \n",
       "6   @ealo9708 Cuando se habla de zona de descenso,... 2020-11-10 20:35:26   \n",
       "7   @mariajuanadas Mi niñez, los millonarios le po... 2020-11-10 03:21:46   \n",
       "8   @davidbarguil Los bancos son y serán para los ... 2020-11-10 03:00:49   \n",
       "9   @EduarCastillo06 @cesaralo Obvio que soy yo pe... 2020-11-10 00:23:51   \n",
       "10  @EduarCastillo06 si estás viendo #conexionwin ... 2020-11-10 00:22:43   \n",
       "11  @LPEmbajadora @MillonariosEste @Millonarios_DC... 2020-11-09 19:14:18   \n",
       "12  @mcamilagomezl @oaotero91 casi nos volvemos mi... 2020-11-09 01:26:25   \n",
       "13  En una liga seria, ahora mismo, ni Junior, ni ... 2020-11-08 04:38:05   \n",
       "14  @AmericadeCali Ajajajjajaja que vergüenza revi... 2020-11-08 03:29:21   \n",
       "15  @DeporteTotalFM Millonarios el papa de America... 2020-11-08 02:49:27   \n",
       "16  @LPEmbajadora @Millonarios_DC @MillonariosEste... 2020-11-08 02:38:30   \n",
       "17  Que decepción el año del Caballo Márquez. Entr... 2020-11-07 23:50:18   \n",
       "18  @SaqueLargoWin #saquelargowin millonarios vino... 2020-11-06 21:25:53   \n",
       "19  Así fue la declaración del jugador de #Millona... 2020-11-06 13:44:51   \n",
       "20  @UzzielVzquez1 @Mhhhm_OK Iván Duque es de Ultr... 2020-11-06 13:06:01   \n",
       "21  @AABenedetti En este hp país en el que usted, ... 2020-11-06 12:12:34   \n",
       "22  Biden - 264\\nTrump - 214\\nReal Madrid - 8\\nMil... 2020-11-06 00:34:21   \n",
       "23  Fuera millonarios y nacional de la suramerican... 2020-11-05 14:21:07   \n",
       "24  Cali derrotó en penales a Millonarios y avanzó... 2020-11-05 13:20:41   \n",
       "25  #Deportes | Cali derrotó en penales a Millonar... 2020-11-05 13:13:04   \n",
       "26  juanito moreno\\nte llegó en bandeja\\nconsagrat... 2020-11-05 02:25:39   \n",
       "27  @nacionaloficial segundo equipo colombiano eli... 2020-11-05 00:12:46   \n",
       "28  Deportivo Cali-Millonarios: duelo final por la... 2020-11-04 23:10:00   \n",
       "29  Deportivo Cali-Millonarios: duelo final por la... 2020-11-04 16:06:56   \n",
       "30  @JFCadavid Miremos al cali, entendió que su pa... 2020-11-04 15:06:01   \n",
       "31  @josasc @MaogarciaJavi @edmartinezm @omarfdi O... 2020-11-04 03:20:12   \n",
       "32  @3ni8ma @AlexSalamank @FuriaRojaTV Esta mal pr... 2020-11-03 19:07:04   \n",
       "33  @DiarioTiempo No nos extrañe que después salga... 2020-11-03 14:16:19   \n",
       "34  Nos hubiera tocado en Copa contra el Cali y Mi... 2020-11-02 23:25:31   \n",
       "\n",
       "      city                 user_location                   id  \\\n",
       "0   Bogota             Córdoba, Colombia  1326571004227936257   \n",
       "1   Bogota           Montería - Colombia  1326512753134211072   \n",
       "2   Bogota             Córdoba, Colombia  1326381239864090628   \n",
       "3   Bogota             Montería, Córdoba  1326353435462152192   \n",
       "4   Bogota              Sincelejo, Sucre  1326333948650270721   \n",
       "5   Bogota            Montería, Colombia  1326265339303309312   \n",
       "6   Bogota  Montería, Córdoba - Colombia  1326262208884580359   \n",
       "7   Bogota           Sincelejo, Colombia  1326002078314098688   \n",
       "8   Bogota            Montería, Colombia  1325996807093182464   \n",
       "9   Bogota               Chinú, Colombia  1325957307197427717   \n",
       "10  Bogota               Chinú, Colombia  1325957020755898368   \n",
       "11  Bogota                      caqueta   1325879407127502849   \n",
       "12  Bogota             Sahagún, Colombia  1325610665197924352   \n",
       "13  Bogota              Sincelejo, Sucre  1325296508498026498   \n",
       "14  Bogota            Montería, Colombia  1325279212962516992   \n",
       "15  Bogota            Montería, Colombia  1325269173187072000   \n",
       "16  Bogota                      caqueta   1325266416682082305   \n",
       "17  Bogota              Sincelejo, Sucre  1325224088923762689   \n",
       "18  Bogota            Montería, Colombia  1324825354901610499   \n",
       "19  Bogota             Córdoba, Colombia  1324709334375452672   \n",
       "20  Bogota            Montería, Colombia  1324699558358765568   \n",
       "21  Bogota                      Monteria  1324686110002421761   \n",
       "22  Bogota            Montería, Colombia  1324510395265175559   \n",
       "23  Bogota               Sincelejo,sucre  1324356072279298048   \n",
       "24  Bogota           Montería - Colombia  1324340865096179713   \n",
       "25  Bogota           Montería - Colombia  1324338947166797825   \n",
       "26  Bogota                          Tolú  1324176019805360134   \n",
       "27  Bogota                      Montería  1324142575394148354   \n",
       "28  Bogota            Montería, Colombia  1324126780517617664   \n",
       "29  Bogota           Montería - Colombia  1324020313433251845   \n",
       "30  Bogota            Magangué, Colombia  1324004982283272197   \n",
       "31  Bogota              Sincelejo, Sucre  1323827360240750597   \n",
       "32  Bogota            Montería, Colombia  1323703256376365060   \n",
       "33  Bogota                Centro América  1323630089557450754   \n",
       "34  Bogota              Montería-Córdoba  1323405909440270339   \n",
       "\n",
       "                                                 link  \\\n",
       "0   https://twitter.com/i/web/status/1326571004227...   \n",
       "1   https://twitter.com/i/web/status/1326512753134...   \n",
       "2   https://twitter.com/i/web/status/1326381239864...   \n",
       "3   https://twitter.com/i/web/status/1326353435462...   \n",
       "4   https://twitter.com/i/web/status/1326333948650...   \n",
       "5   https://twitter.com/i/web/status/1326265339303...   \n",
       "6   https://twitter.com/i/web/status/1326262208884...   \n",
       "7   https://twitter.com/i/web/status/1326002078314...   \n",
       "8   https://twitter.com/i/web/status/1325996807093...   \n",
       "9   https://twitter.com/i/web/status/1325957307197...   \n",
       "10  https://twitter.com/i/web/status/1325957020755...   \n",
       "11  https://twitter.com/i/web/status/1325879407127...   \n",
       "12  https://twitter.com/i/web/status/1325610665197...   \n",
       "13  https://twitter.com/i/web/status/1325296508498...   \n",
       "14  https://twitter.com/i/web/status/1325279212962...   \n",
       "15  https://twitter.com/i/web/status/1325269173187...   \n",
       "16  https://twitter.com/i/web/status/1325266416682...   \n",
       "17  https://twitter.com/i/web/status/1325224088923...   \n",
       "18  https://twitter.com/i/web/status/1324825354901...   \n",
       "19  https://twitter.com/i/web/status/1324709334375...   \n",
       "20  https://twitter.com/i/web/status/1324699558358...   \n",
       "21  https://twitter.com/i/web/status/1324686110002...   \n",
       "22  https://twitter.com/i/web/status/1324510395265...   \n",
       "23  https://twitter.com/i/web/status/1324356072279...   \n",
       "24  https://twitter.com/i/web/status/1324340865096...   \n",
       "25  https://twitter.com/i/web/status/1324338947166...   \n",
       "26  https://twitter.com/i/web/status/1324176019805...   \n",
       "27  https://twitter.com/i/web/status/1324142575394...   \n",
       "28  https://twitter.com/i/web/status/1324126780517...   \n",
       "29  https://twitter.com/i/web/status/1324020313433...   \n",
       "30  https://twitter.com/i/web/status/1324004982283...   \n",
       "31  https://twitter.com/i/web/status/1323827360240...   \n",
       "32  https://twitter.com/i/web/status/1323703256376...   \n",
       "33  https://twitter.com/i/web/status/1323630089557...   \n",
       "34  https://twitter.com/i/web/status/1323405909440...   \n",
       "\n",
       "                                                clean  \\\n",
       "0   Ésta gente no se ensucia con una chichigua de ...   \n",
       "1   Millonarios y sus probabilidades de clasificar...   \n",
       "2   Pasaron 10 largos años desde la última vez que...   \n",
       "3   Millonarios FC: Juan Moreno, historia y crític...   \n",
       "4   Millonarios está a nada de hacer la gran Unión...   \n",
       "5        Lloren a Millonarios, tanta fuerza y la E...   \n",
       "6    Cuando se habla de zona de descenso, es hacie...   \n",
       "7     Mi niñez, los millonarios le ponían Milo jajaja   \n",
       "8    Los bancos son y serán para los millonarios y...   \n",
       "9     Obvio que soy yo pero en ningún momento habl...   \n",
       "10   si estás viendo  dime en que parte de mí Twit...   \n",
       "11       Pero Godoy la está haciendo bien de later...   \n",
       "12                      casi nos volvemos millonarios   \n",
       "13  En una liga seria, ahora mismo, ni Junior, ni ...   \n",
       "14   Ajajajjajaja que vergüenza revivieron a millo...   \n",
       "15       Millonarios el papa de America en el pascual   \n",
       "16                               Como se va comer eso   \n",
       "17  Que decepción el año del Caballo Márquez. Entr...   \n",
       "18          millonarios vino a despertar ya muy tarde   \n",
       "19  Así fue la declaración del jugador de  por el ...   \n",
       "20    Iván Duque es de Ultraderecha, el capitalism...   \n",
       "21   En este hp país en el que usted, su familia y...   \n",
       "22  Biden - 264\\nTrump - 214\\nReal Madrid - 8\\nMil...   \n",
       "23  Fuera millonarios y nacional de la suramerican...   \n",
       "24  Cali derrotó en penales a Millonarios y avanzó...   \n",
       "25   | Cali derrotó en penales a Millonarios y ava...   \n",
       "26  juanito moreno\\nte llegó en bandeja\\nconsagrat...   \n",
       "27   segundo equipo colombiano eliminado en la pri...   \n",
       "28  Deportivo Cali-Millonarios: duelo final por la...   \n",
       "29  Deportivo Cali-Millonarios: duelo final por la...   \n",
       "30   Miremos al cali, entendió que su partido más ...   \n",
       "31                         O al Millonarios de Pinto.   \n",
       "32     Esta mal probar a Héctor quiñonez con millo...   \n",
       "33     No nos extrañe que después salgan millonarios    \n",
       "34  Nos hubiera tocado en Copa contra el Cali y Mi...   \n",
       "\n",
       "                        links                                       hashtags  \\\n",
       "0   [https://t.co/ClVLyo98ua]                                             []   \n",
       "1   [https://t.co/xDmBdm8zDa]                                             []   \n",
       "2   [https://t.co/Vlh7RWuQ3C]                                 [#MILLONARIOS]   \n",
       "3   [https://t.co/2WjB86FnrA]                                             []   \n",
       "4   [https://t.co/YyYIMxtbyT]                                             []   \n",
       "5                          []                                             []   \n",
       "6                          []                                             []   \n",
       "7                          []                                             []   \n",
       "8                          []                                             []   \n",
       "9                          []                                             []   \n",
       "10                         []                                 [#conexionwin]   \n",
       "11                         []                                             []   \n",
       "12                         []                                             []   \n",
       "13                         []                                             []   \n",
       "14                         []                                             []   \n",
       "15                         []                                             []   \n",
       "16                         []                                             []   \n",
       "17                         []                                             []   \n",
       "18                         []                               [#saquelargowin]   \n",
       "19  [https://t.co/vTpky3V2vA]  [#Millonarios, #DeportivoCali, #Sudamericana]   \n",
       "20                         []                                             []   \n",
       "21                         []                                             []   \n",
       "22                         []                                             []   \n",
       "23                         []                                             []   \n",
       "24  [https://t.co/GJECI4LDCo]                                             []   \n",
       "25  [https://t.co/qvYCfW9YGh]                                    [#Deportes]   \n",
       "26  [https://t.co/BsT91aCH4G]                      [#AmorAzul, #Millonarios]   \n",
       "27                         []                                             []   \n",
       "28  [https://t.co/THy6NKfTfE]                                             []   \n",
       "29  [https://t.co/rJ6quxMvp5]                                             []   \n",
       "30                         []                                             []   \n",
       "31                         []                                             []   \n",
       "32                         []                                             []   \n",
       "33  [https://t.co/eMMpDJSNDj]                                             []   \n",
       "34                         []                                             []   \n",
       "\n",
       "                                             mentions     emojis  \n",
       "0                                                  []        [😁]  \n",
       "1                                        [@LaRazonCo]         []  \n",
       "2                                                  []  [🔵, 🔵, 🔵]  \n",
       "3                                                  []         []  \n",
       "4                                                  []         []  \n",
       "5   [@EduardoLuisFut, @MillosFCoficial, @JFCadavid...         []  \n",
       "6                                         [@ealo9708]         []  \n",
       "7                                    [@mariajuanadas]         []  \n",
       "8                                     [@davidbarguil]         []  \n",
       "9                       [@EduarCastillo06, @cesaralo]         []  \n",
       "10                                 [@EduarCastillo06]         []  \n",
       "11  [@LPEmbajadora, @MillonariosEste, @Millonarios...     [🤷‍♂️]  \n",
       "12                       [@mcamilagomezl, @oaotero91]         []  \n",
       "13                                                 []         []  \n",
       "14                                   [@AmericadeCali]         []  \n",
       "15                                  [@DeporteTotalFM]         []  \n",
       "16  [@LPEmbajadora, @Millonarios_DC, @MillonariosE...         []  \n",
       "17                                                 []         []  \n",
       "18                                   [@SaqueLargoWin]         []  \n",
       "19                                                 []         []  \n",
       "20                        [@UzzielVzquez1, @Mhhhm_OK]         []  \n",
       "21                                     [@AABenedetti]         []  \n",
       "22                                                 []         []  \n",
       "23                                                 []         []  \n",
       "24                                       [@LaRazonCo]         []  \n",
       "25                                       [@LaRazonCo]         []  \n",
       "26                                 [@MillosFCoficial]         []  \n",
       "27              [@nacionaloficial, @Dimayor, @fpcwin]        [🆚]  \n",
       "28                                       [@LaRazonCo]         []  \n",
       "29                                       [@LaRazonCo]         []  \n",
       "30                                       [@JFCadavid]         []  \n",
       "31  [@josasc, @MaogarciaJavi, @edmartinezm, @omarfdi]         []  \n",
       "32             [@3ni8ma, @AlexSalamank, @FuriaRojaTV]         []  \n",
       "33                                    [@DiarioTiempo]         []  \n",
       "34                                                 []        [😔]  "
      ]
     },
     "execution_count": 49,
     "metadata": {},
     "output_type": "execute_result"
    }
   ],
   "source": [
    "data"
   ]
  },
  {
   "cell_type": "code",
   "execution_count": 50,
   "metadata": {},
   "outputs": [
    {
     "data": {
      "text/html": [
       "<div>\n",
       "<style scoped>\n",
       "    .dataframe tbody tr th:only-of-type {\n",
       "        vertical-align: middle;\n",
       "    }\n",
       "\n",
       "    .dataframe tbody tr th {\n",
       "        vertical-align: top;\n",
       "    }\n",
       "\n",
       "    .dataframe thead th {\n",
       "        text-align: right;\n",
       "    }\n",
       "</style>\n",
       "<table border=\"1\" class=\"dataframe\">\n",
       "  <thead>\n",
       "    <tr style=\"text-align: right;\">\n",
       "      <th></th>\n",
       "      <th>fecha</th>\n",
       "      <th>cnt</th>\n",
       "    </tr>\n",
       "  </thead>\n",
       "  <tbody>\n",
       "    <tr>\n",
       "      <td>8</td>\n",
       "      <td>2020-11-02</td>\n",
       "      <td>1</td>\n",
       "    </tr>\n",
       "    <tr>\n",
       "      <td>7</td>\n",
       "      <td>2020-11-03</td>\n",
       "      <td>2</td>\n",
       "    </tr>\n",
       "    <tr>\n",
       "      <td>5</td>\n",
       "      <td>2020-11-04</td>\n",
       "      <td>4</td>\n",
       "    </tr>\n",
       "    <tr>\n",
       "      <td>2</td>\n",
       "      <td>2020-11-05</td>\n",
       "      <td>5</td>\n",
       "    </tr>\n",
       "    <tr>\n",
       "      <td>3</td>\n",
       "      <td>2020-11-06</td>\n",
       "      <td>5</td>\n",
       "    </tr>\n",
       "    <tr>\n",
       "      <td>9</td>\n",
       "      <td>2020-11-07</td>\n",
       "      <td>1</td>\n",
       "    </tr>\n",
       "    <tr>\n",
       "      <td>4</td>\n",
       "      <td>2020-11-08</td>\n",
       "      <td>4</td>\n",
       "    </tr>\n",
       "    <tr>\n",
       "      <td>6</td>\n",
       "      <td>2020-11-09</td>\n",
       "      <td>2</td>\n",
       "    </tr>\n",
       "    <tr>\n",
       "      <td>0</td>\n",
       "      <td>2020-11-10</td>\n",
       "      <td>6</td>\n",
       "    </tr>\n",
       "    <tr>\n",
       "      <td>1</td>\n",
       "      <td>2020-11-11</td>\n",
       "      <td>5</td>\n",
       "    </tr>\n",
       "  </tbody>\n",
       "</table>\n",
       "</div>"
      ],
      "text/plain": [
       "        fecha  cnt\n",
       "8  2020-11-02    1\n",
       "7  2020-11-03    2\n",
       "5  2020-11-04    4\n",
       "2  2020-11-05    5\n",
       "3  2020-11-06    5\n",
       "9  2020-11-07    1\n",
       "4  2020-11-08    4\n",
       "6  2020-11-09    2\n",
       "0  2020-11-10    6\n",
       "1  2020-11-11    5"
      ]
     },
     "execution_count": 50,
     "metadata": {},
     "output_type": "execute_result"
    }
   ],
   "source": [
    "data['fecha']=data.date.dt.date\n",
    "temp = pd.DataFrame(data.fecha.value_counts()).reset_index()\n",
    "temp.columns = ['fecha','cnt']\n",
    "temp = temp.sort_values('fecha')\n",
    "temp"
   ]
  },
  {
   "cell_type": "code",
   "execution_count": 51,
   "metadata": {},
   "outputs": [
    {
     "data": {
      "text/html": [
       "        <script type=\"text/javascript\">\n",
       "        window.PlotlyConfig = {MathJaxConfig: 'local'};\n",
       "        if (window.MathJax) {MathJax.Hub.Config({SVG: {font: \"STIX-Web\"}});}\n",
       "        if (typeof require !== 'undefined') {\n",
       "        require.undef(\"plotly\");\n",
       "        requirejs.config({\n",
       "            paths: {\n",
       "                'plotly': ['https://cdn.plot.ly/plotly-latest.min']\n",
       "            }\n",
       "        });\n",
       "        require(['plotly'], function(Plotly) {\n",
       "            window._Plotly = Plotly;\n",
       "        });\n",
       "        }\n",
       "        </script>\n",
       "        "
      ]
     },
     "metadata": {},
     "output_type": "display_data"
    }
   ],
   "source": [
    "import plotly.io as pio\n",
    "\n",
    "import plotly.express as px\n",
    "\n",
    "import plotly.graph_objs as go\n",
    "\n",
    "from plotly.offline import download_plotlyjs, init_notebook_mode, plot, iplot\n",
    " \n",
    "import matplotlib.pyplot as plt\n",
    "\n",
    "%matplotlib inline\n",
    "\n",
    "init_notebook_mode(connected=True)"
   ]
  },
  {
   "cell_type": "code",
   "execution_count": 53,
   "metadata": {},
   "outputs": [
    {
     "data": {
      "application/vnd.plotly.v1+json": {
       "config": {
        "linkText": "Export to plot.ly",
        "plotlyServerURL": "https://plot.ly",
        "showLink": false
       },
       "data": [
        {
         "hoverinfo": "text",
         "line": {
          "color": "#1DA1F2"
         },
         "mode": "lines+markers",
         "name": "Días",
         "text": [
          "Fecha: 2020-11-02<br>Tuits: 1",
          "Fecha: 2020-11-03<br>Tuits: 2",
          "Fecha: 2020-11-04<br>Tuits: 4",
          "Fecha: 2020-11-05<br>Tuits: 5",
          "Fecha: 2020-11-06<br>Tuits: 5",
          "Fecha: 2020-11-07<br>Tuits: 1",
          "Fecha: 2020-11-08<br>Tuits: 4",
          "Fecha: 2020-11-09<br>Tuits: 2",
          "Fecha: 2020-11-10<br>Tuits: 6",
          "Fecha: 2020-11-11<br>Tuits: 5"
         ],
         "type": "scatter",
         "x": [
          "2020-11-02",
          "2020-11-03",
          "2020-11-04",
          "2020-11-05",
          "2020-11-06",
          "2020-11-07",
          "2020-11-08",
          "2020-11-09",
          "2020-11-10",
          "2020-11-11"
         ],
         "y": [
          1,
          2,
          4,
          5,
          5,
          1,
          4,
          2,
          6,
          5
         ]
        }
       ],
       "layout": {
        "template": {
         "data": {
          "bar": [
           {
            "error_x": {
             "color": "#2a3f5f"
            },
            "error_y": {
             "color": "#2a3f5f"
            },
            "marker": {
             "line": {
              "color": "#E5ECF6",
              "width": 0.5
             }
            },
            "type": "bar"
           }
          ],
          "barpolar": [
           {
            "marker": {
             "line": {
              "color": "#E5ECF6",
              "width": 0.5
             }
            },
            "type": "barpolar"
           }
          ],
          "carpet": [
           {
            "aaxis": {
             "endlinecolor": "#2a3f5f",
             "gridcolor": "white",
             "linecolor": "white",
             "minorgridcolor": "white",
             "startlinecolor": "#2a3f5f"
            },
            "baxis": {
             "endlinecolor": "#2a3f5f",
             "gridcolor": "white",
             "linecolor": "white",
             "minorgridcolor": "white",
             "startlinecolor": "#2a3f5f"
            },
            "type": "carpet"
           }
          ],
          "choropleth": [
           {
            "colorbar": {
             "outlinewidth": 0,
             "ticks": ""
            },
            "type": "choropleth"
           }
          ],
          "contour": [
           {
            "colorbar": {
             "outlinewidth": 0,
             "ticks": ""
            },
            "colorscale": [
             [
              0,
              "#0d0887"
             ],
             [
              0.1111111111111111,
              "#46039f"
             ],
             [
              0.2222222222222222,
              "#7201a8"
             ],
             [
              0.3333333333333333,
              "#9c179e"
             ],
             [
              0.4444444444444444,
              "#bd3786"
             ],
             [
              0.5555555555555556,
              "#d8576b"
             ],
             [
              0.6666666666666666,
              "#ed7953"
             ],
             [
              0.7777777777777778,
              "#fb9f3a"
             ],
             [
              0.8888888888888888,
              "#fdca26"
             ],
             [
              1,
              "#f0f921"
             ]
            ],
            "type": "contour"
           }
          ],
          "contourcarpet": [
           {
            "colorbar": {
             "outlinewidth": 0,
             "ticks": ""
            },
            "type": "contourcarpet"
           }
          ],
          "heatmap": [
           {
            "colorbar": {
             "outlinewidth": 0,
             "ticks": ""
            },
            "colorscale": [
             [
              0,
              "#0d0887"
             ],
             [
              0.1111111111111111,
              "#46039f"
             ],
             [
              0.2222222222222222,
              "#7201a8"
             ],
             [
              0.3333333333333333,
              "#9c179e"
             ],
             [
              0.4444444444444444,
              "#bd3786"
             ],
             [
              0.5555555555555556,
              "#d8576b"
             ],
             [
              0.6666666666666666,
              "#ed7953"
             ],
             [
              0.7777777777777778,
              "#fb9f3a"
             ],
             [
              0.8888888888888888,
              "#fdca26"
             ],
             [
              1,
              "#f0f921"
             ]
            ],
            "type": "heatmap"
           }
          ],
          "heatmapgl": [
           {
            "colorbar": {
             "outlinewidth": 0,
             "ticks": ""
            },
            "colorscale": [
             [
              0,
              "#0d0887"
             ],
             [
              0.1111111111111111,
              "#46039f"
             ],
             [
              0.2222222222222222,
              "#7201a8"
             ],
             [
              0.3333333333333333,
              "#9c179e"
             ],
             [
              0.4444444444444444,
              "#bd3786"
             ],
             [
              0.5555555555555556,
              "#d8576b"
             ],
             [
              0.6666666666666666,
              "#ed7953"
             ],
             [
              0.7777777777777778,
              "#fb9f3a"
             ],
             [
              0.8888888888888888,
              "#fdca26"
             ],
             [
              1,
              "#f0f921"
             ]
            ],
            "type": "heatmapgl"
           }
          ],
          "histogram": [
           {
            "marker": {
             "colorbar": {
              "outlinewidth": 0,
              "ticks": ""
             }
            },
            "type": "histogram"
           }
          ],
          "histogram2d": [
           {
            "colorbar": {
             "outlinewidth": 0,
             "ticks": ""
            },
            "colorscale": [
             [
              0,
              "#0d0887"
             ],
             [
              0.1111111111111111,
              "#46039f"
             ],
             [
              0.2222222222222222,
              "#7201a8"
             ],
             [
              0.3333333333333333,
              "#9c179e"
             ],
             [
              0.4444444444444444,
              "#bd3786"
             ],
             [
              0.5555555555555556,
              "#d8576b"
             ],
             [
              0.6666666666666666,
              "#ed7953"
             ],
             [
              0.7777777777777778,
              "#fb9f3a"
             ],
             [
              0.8888888888888888,
              "#fdca26"
             ],
             [
              1,
              "#f0f921"
             ]
            ],
            "type": "histogram2d"
           }
          ],
          "histogram2dcontour": [
           {
            "colorbar": {
             "outlinewidth": 0,
             "ticks": ""
            },
            "colorscale": [
             [
              0,
              "#0d0887"
             ],
             [
              0.1111111111111111,
              "#46039f"
             ],
             [
              0.2222222222222222,
              "#7201a8"
             ],
             [
              0.3333333333333333,
              "#9c179e"
             ],
             [
              0.4444444444444444,
              "#bd3786"
             ],
             [
              0.5555555555555556,
              "#d8576b"
             ],
             [
              0.6666666666666666,
              "#ed7953"
             ],
             [
              0.7777777777777778,
              "#fb9f3a"
             ],
             [
              0.8888888888888888,
              "#fdca26"
             ],
             [
              1,
              "#f0f921"
             ]
            ],
            "type": "histogram2dcontour"
           }
          ],
          "mesh3d": [
           {
            "colorbar": {
             "outlinewidth": 0,
             "ticks": ""
            },
            "type": "mesh3d"
           }
          ],
          "parcoords": [
           {
            "line": {
             "colorbar": {
              "outlinewidth": 0,
              "ticks": ""
             }
            },
            "type": "parcoords"
           }
          ],
          "pie": [
           {
            "automargin": true,
            "type": "pie"
           }
          ],
          "scatter": [
           {
            "marker": {
             "colorbar": {
              "outlinewidth": 0,
              "ticks": ""
             }
            },
            "type": "scatter"
           }
          ],
          "scatter3d": [
           {
            "line": {
             "colorbar": {
              "outlinewidth": 0,
              "ticks": ""
             }
            },
            "marker": {
             "colorbar": {
              "outlinewidth": 0,
              "ticks": ""
             }
            },
            "type": "scatter3d"
           }
          ],
          "scattercarpet": [
           {
            "marker": {
             "colorbar": {
              "outlinewidth": 0,
              "ticks": ""
             }
            },
            "type": "scattercarpet"
           }
          ],
          "scattergeo": [
           {
            "marker": {
             "colorbar": {
              "outlinewidth": 0,
              "ticks": ""
             }
            },
            "type": "scattergeo"
           }
          ],
          "scattergl": [
           {
            "marker": {
             "colorbar": {
              "outlinewidth": 0,
              "ticks": ""
             }
            },
            "type": "scattergl"
           }
          ],
          "scattermapbox": [
           {
            "marker": {
             "colorbar": {
              "outlinewidth": 0,
              "ticks": ""
             }
            },
            "type": "scattermapbox"
           }
          ],
          "scatterpolar": [
           {
            "marker": {
             "colorbar": {
              "outlinewidth": 0,
              "ticks": ""
             }
            },
            "type": "scatterpolar"
           }
          ],
          "scatterpolargl": [
           {
            "marker": {
             "colorbar": {
              "outlinewidth": 0,
              "ticks": ""
             }
            },
            "type": "scatterpolargl"
           }
          ],
          "scatterternary": [
           {
            "marker": {
             "colorbar": {
              "outlinewidth": 0,
              "ticks": ""
             }
            },
            "type": "scatterternary"
           }
          ],
          "surface": [
           {
            "colorbar": {
             "outlinewidth": 0,
             "ticks": ""
            },
            "colorscale": [
             [
              0,
              "#0d0887"
             ],
             [
              0.1111111111111111,
              "#46039f"
             ],
             [
              0.2222222222222222,
              "#7201a8"
             ],
             [
              0.3333333333333333,
              "#9c179e"
             ],
             [
              0.4444444444444444,
              "#bd3786"
             ],
             [
              0.5555555555555556,
              "#d8576b"
             ],
             [
              0.6666666666666666,
              "#ed7953"
             ],
             [
              0.7777777777777778,
              "#fb9f3a"
             ],
             [
              0.8888888888888888,
              "#fdca26"
             ],
             [
              1,
              "#f0f921"
             ]
            ],
            "type": "surface"
           }
          ],
          "table": [
           {
            "cells": {
             "fill": {
              "color": "#EBF0F8"
             },
             "line": {
              "color": "white"
             }
            },
            "header": {
             "fill": {
              "color": "#C8D4E3"
             },
             "line": {
              "color": "white"
             }
            },
            "type": "table"
           }
          ]
         },
         "layout": {
          "annotationdefaults": {
           "arrowcolor": "#2a3f5f",
           "arrowhead": 0,
           "arrowwidth": 1
          },
          "coloraxis": {
           "colorbar": {
            "outlinewidth": 0,
            "ticks": ""
           }
          },
          "colorscale": {
           "diverging": [
            [
             0,
             "#8e0152"
            ],
            [
             0.1,
             "#c51b7d"
            ],
            [
             0.2,
             "#de77ae"
            ],
            [
             0.3,
             "#f1b6da"
            ],
            [
             0.4,
             "#fde0ef"
            ],
            [
             0.5,
             "#f7f7f7"
            ],
            [
             0.6,
             "#e6f5d0"
            ],
            [
             0.7,
             "#b8e186"
            ],
            [
             0.8,
             "#7fbc41"
            ],
            [
             0.9,
             "#4d9221"
            ],
            [
             1,
             "#276419"
            ]
           ],
           "sequential": [
            [
             0,
             "#0d0887"
            ],
            [
             0.1111111111111111,
             "#46039f"
            ],
            [
             0.2222222222222222,
             "#7201a8"
            ],
            [
             0.3333333333333333,
             "#9c179e"
            ],
            [
             0.4444444444444444,
             "#bd3786"
            ],
            [
             0.5555555555555556,
             "#d8576b"
            ],
            [
             0.6666666666666666,
             "#ed7953"
            ],
            [
             0.7777777777777778,
             "#fb9f3a"
            ],
            [
             0.8888888888888888,
             "#fdca26"
            ],
            [
             1,
             "#f0f921"
            ]
           ],
           "sequentialminus": [
            [
             0,
             "#0d0887"
            ],
            [
             0.1111111111111111,
             "#46039f"
            ],
            [
             0.2222222222222222,
             "#7201a8"
            ],
            [
             0.3333333333333333,
             "#9c179e"
            ],
            [
             0.4444444444444444,
             "#bd3786"
            ],
            [
             0.5555555555555556,
             "#d8576b"
            ],
            [
             0.6666666666666666,
             "#ed7953"
            ],
            [
             0.7777777777777778,
             "#fb9f3a"
            ],
            [
             0.8888888888888888,
             "#fdca26"
            ],
            [
             1,
             "#f0f921"
            ]
           ]
          },
          "colorway": [
           "#636efa",
           "#EF553B",
           "#00cc96",
           "#ab63fa",
           "#FFA15A",
           "#19d3f3",
           "#FF6692",
           "#B6E880",
           "#FF97FF",
           "#FECB52"
          ],
          "font": {
           "color": "#2a3f5f"
          },
          "geo": {
           "bgcolor": "white",
           "lakecolor": "white",
           "landcolor": "#E5ECF6",
           "showlakes": true,
           "showland": true,
           "subunitcolor": "white"
          },
          "hoverlabel": {
           "align": "left"
          },
          "hovermode": "closest",
          "mapbox": {
           "style": "light"
          },
          "paper_bgcolor": "white",
          "plot_bgcolor": "#E5ECF6",
          "polar": {
           "angularaxis": {
            "gridcolor": "white",
            "linecolor": "white",
            "ticks": ""
           },
           "bgcolor": "#E5ECF6",
           "radialaxis": {
            "gridcolor": "white",
            "linecolor": "white",
            "ticks": ""
           }
          },
          "scene": {
           "xaxis": {
            "backgroundcolor": "#E5ECF6",
            "gridcolor": "white",
            "gridwidth": 2,
            "linecolor": "white",
            "showbackground": true,
            "ticks": "",
            "zerolinecolor": "white"
           },
           "yaxis": {
            "backgroundcolor": "#E5ECF6",
            "gridcolor": "white",
            "gridwidth": 2,
            "linecolor": "white",
            "showbackground": true,
            "ticks": "",
            "zerolinecolor": "white"
           },
           "zaxis": {
            "backgroundcolor": "#E5ECF6",
            "gridcolor": "white",
            "gridwidth": 2,
            "linecolor": "white",
            "showbackground": true,
            "ticks": "",
            "zerolinecolor": "white"
           }
          },
          "shapedefaults": {
           "line": {
            "color": "#2a3f5f"
           }
          },
          "ternary": {
           "aaxis": {
            "gridcolor": "white",
            "linecolor": "white",
            "ticks": ""
           },
           "baxis": {
            "gridcolor": "white",
            "linecolor": "white",
            "ticks": ""
           },
           "bgcolor": "#E5ECF6",
           "caxis": {
            "gridcolor": "white",
            "linecolor": "white",
            "ticks": ""
           }
          },
          "title": {
           "x": 0.05
          },
          "xaxis": {
           "automargin": true,
           "gridcolor": "white",
           "linecolor": "white",
           "ticks": "",
           "title": {
            "standoff": 15
           },
           "zerolinecolor": "white",
           "zerolinewidth": 2
          },
          "yaxis": {
           "automargin": true,
           "gridcolor": "white",
           "linecolor": "white",
           "ticks": "",
           "title": {
            "standoff": 15
           },
           "zerolinecolor": "white",
           "zerolinewidth": 2
          }
         }
        },
        "title": {
         "text": "Número de tuits por día"
        }
       }
      },
      "text/html": [
       "<div>                            <div id=\"00d2658a-271a-4a78-9f46-d0e3e525c679\" class=\"plotly-graph-div\" style=\"height:525px; width:100%;\"></div>            <script type=\"text/javascript\">                require([\"plotly\"], function(Plotly) {                    window.PLOTLYENV=window.PLOTLYENV || {};                                    if (document.getElementById(\"00d2658a-271a-4a78-9f46-d0e3e525c679\")) {                    Plotly.newPlot(                        \"00d2658a-271a-4a78-9f46-d0e3e525c679\",                        [{\"hoverinfo\": \"text\", \"line\": {\"color\": \"#1DA1F2\"}, \"mode\": \"lines+markers\", \"name\": \"D\\u00edas\", \"text\": [\"Fecha: 2020-11-02<br>Tuits: 1\", \"Fecha: 2020-11-03<br>Tuits: 2\", \"Fecha: 2020-11-04<br>Tuits: 4\", \"Fecha: 2020-11-05<br>Tuits: 5\", \"Fecha: 2020-11-06<br>Tuits: 5\", \"Fecha: 2020-11-07<br>Tuits: 1\", \"Fecha: 2020-11-08<br>Tuits: 4\", \"Fecha: 2020-11-09<br>Tuits: 2\", \"Fecha: 2020-11-10<br>Tuits: 6\", \"Fecha: 2020-11-11<br>Tuits: 5\"], \"type\": \"scatter\", \"x\": [\"2020-11-02\", \"2020-11-03\", \"2020-11-04\", \"2020-11-05\", \"2020-11-06\", \"2020-11-07\", \"2020-11-08\", \"2020-11-09\", \"2020-11-10\", \"2020-11-11\"], \"y\": [1, 2, 4, 5, 5, 1, 4, 2, 6, 5]}],                        {\"template\": {\"data\": {\"bar\": [{\"error_x\": {\"color\": \"#2a3f5f\"}, \"error_y\": {\"color\": \"#2a3f5f\"}, \"marker\": {\"line\": {\"color\": \"#E5ECF6\", \"width\": 0.5}}, \"type\": \"bar\"}], \"barpolar\": [{\"marker\": {\"line\": {\"color\": \"#E5ECF6\", \"width\": 0.5}}, \"type\": \"barpolar\"}], \"carpet\": [{\"aaxis\": {\"endlinecolor\": \"#2a3f5f\", \"gridcolor\": \"white\", \"linecolor\": \"white\", \"minorgridcolor\": \"white\", \"startlinecolor\": \"#2a3f5f\"}, \"baxis\": {\"endlinecolor\": \"#2a3f5f\", \"gridcolor\": \"white\", \"linecolor\": \"white\", \"minorgridcolor\": \"white\", \"startlinecolor\": \"#2a3f5f\"}, \"type\": \"carpet\"}], \"choropleth\": [{\"colorbar\": {\"outlinewidth\": 0, \"ticks\": \"\"}, \"type\": \"choropleth\"}], \"contour\": [{\"colorbar\": {\"outlinewidth\": 0, \"ticks\": \"\"}, \"colorscale\": [[0.0, \"#0d0887\"], [0.1111111111111111, \"#46039f\"], [0.2222222222222222, \"#7201a8\"], [0.3333333333333333, \"#9c179e\"], [0.4444444444444444, \"#bd3786\"], [0.5555555555555556, \"#d8576b\"], [0.6666666666666666, \"#ed7953\"], [0.7777777777777778, \"#fb9f3a\"], [0.8888888888888888, \"#fdca26\"], [1.0, \"#f0f921\"]], \"type\": \"contour\"}], \"contourcarpet\": [{\"colorbar\": {\"outlinewidth\": 0, \"ticks\": \"\"}, \"type\": \"contourcarpet\"}], \"heatmap\": [{\"colorbar\": {\"outlinewidth\": 0, \"ticks\": \"\"}, \"colorscale\": [[0.0, \"#0d0887\"], [0.1111111111111111, \"#46039f\"], [0.2222222222222222, \"#7201a8\"], [0.3333333333333333, \"#9c179e\"], [0.4444444444444444, \"#bd3786\"], [0.5555555555555556, \"#d8576b\"], [0.6666666666666666, \"#ed7953\"], [0.7777777777777778, \"#fb9f3a\"], [0.8888888888888888, \"#fdca26\"], [1.0, \"#f0f921\"]], \"type\": \"heatmap\"}], \"heatmapgl\": [{\"colorbar\": {\"outlinewidth\": 0, \"ticks\": \"\"}, \"colorscale\": [[0.0, \"#0d0887\"], [0.1111111111111111, \"#46039f\"], [0.2222222222222222, \"#7201a8\"], [0.3333333333333333, \"#9c179e\"], [0.4444444444444444, \"#bd3786\"], [0.5555555555555556, \"#d8576b\"], [0.6666666666666666, \"#ed7953\"], [0.7777777777777778, \"#fb9f3a\"], [0.8888888888888888, \"#fdca26\"], [1.0, \"#f0f921\"]], \"type\": \"heatmapgl\"}], \"histogram\": [{\"marker\": {\"colorbar\": {\"outlinewidth\": 0, \"ticks\": \"\"}}, \"type\": \"histogram\"}], \"histogram2d\": [{\"colorbar\": {\"outlinewidth\": 0, \"ticks\": \"\"}, \"colorscale\": [[0.0, \"#0d0887\"], [0.1111111111111111, \"#46039f\"], [0.2222222222222222, \"#7201a8\"], [0.3333333333333333, \"#9c179e\"], [0.4444444444444444, \"#bd3786\"], [0.5555555555555556, \"#d8576b\"], [0.6666666666666666, \"#ed7953\"], [0.7777777777777778, \"#fb9f3a\"], [0.8888888888888888, \"#fdca26\"], [1.0, \"#f0f921\"]], \"type\": \"histogram2d\"}], \"histogram2dcontour\": [{\"colorbar\": {\"outlinewidth\": 0, \"ticks\": \"\"}, \"colorscale\": [[0.0, \"#0d0887\"], [0.1111111111111111, \"#46039f\"], [0.2222222222222222, \"#7201a8\"], [0.3333333333333333, \"#9c179e\"], [0.4444444444444444, \"#bd3786\"], [0.5555555555555556, \"#d8576b\"], [0.6666666666666666, \"#ed7953\"], [0.7777777777777778, \"#fb9f3a\"], [0.8888888888888888, \"#fdca26\"], [1.0, \"#f0f921\"]], \"type\": \"histogram2dcontour\"}], \"mesh3d\": [{\"colorbar\": {\"outlinewidth\": 0, \"ticks\": \"\"}, \"type\": \"mesh3d\"}], \"parcoords\": [{\"line\": {\"colorbar\": {\"outlinewidth\": 0, \"ticks\": \"\"}}, \"type\": \"parcoords\"}], \"pie\": [{\"automargin\": true, \"type\": \"pie\"}], \"scatter\": [{\"marker\": {\"colorbar\": {\"outlinewidth\": 0, \"ticks\": \"\"}}, \"type\": \"scatter\"}], \"scatter3d\": [{\"line\": {\"colorbar\": {\"outlinewidth\": 0, \"ticks\": \"\"}}, \"marker\": {\"colorbar\": {\"outlinewidth\": 0, \"ticks\": \"\"}}, \"type\": \"scatter3d\"}], \"scattercarpet\": [{\"marker\": {\"colorbar\": {\"outlinewidth\": 0, \"ticks\": \"\"}}, \"type\": \"scattercarpet\"}], \"scattergeo\": [{\"marker\": {\"colorbar\": {\"outlinewidth\": 0, \"ticks\": \"\"}}, \"type\": \"scattergeo\"}], \"scattergl\": [{\"marker\": {\"colorbar\": {\"outlinewidth\": 0, \"ticks\": \"\"}}, \"type\": \"scattergl\"}], \"scattermapbox\": [{\"marker\": {\"colorbar\": {\"outlinewidth\": 0, \"ticks\": \"\"}}, \"type\": \"scattermapbox\"}], \"scatterpolar\": [{\"marker\": {\"colorbar\": {\"outlinewidth\": 0, \"ticks\": \"\"}}, \"type\": \"scatterpolar\"}], \"scatterpolargl\": [{\"marker\": {\"colorbar\": {\"outlinewidth\": 0, \"ticks\": \"\"}}, \"type\": \"scatterpolargl\"}], \"scatterternary\": [{\"marker\": {\"colorbar\": {\"outlinewidth\": 0, \"ticks\": \"\"}}, \"type\": \"scatterternary\"}], \"surface\": [{\"colorbar\": {\"outlinewidth\": 0, \"ticks\": \"\"}, \"colorscale\": [[0.0, \"#0d0887\"], [0.1111111111111111, \"#46039f\"], [0.2222222222222222, \"#7201a8\"], [0.3333333333333333, \"#9c179e\"], [0.4444444444444444, \"#bd3786\"], [0.5555555555555556, \"#d8576b\"], [0.6666666666666666, \"#ed7953\"], [0.7777777777777778, \"#fb9f3a\"], [0.8888888888888888, \"#fdca26\"], [1.0, \"#f0f921\"]], \"type\": \"surface\"}], \"table\": [{\"cells\": {\"fill\": {\"color\": \"#EBF0F8\"}, \"line\": {\"color\": \"white\"}}, \"header\": {\"fill\": {\"color\": \"#C8D4E3\"}, \"line\": {\"color\": \"white\"}}, \"type\": \"table\"}]}, \"layout\": {\"annotationdefaults\": {\"arrowcolor\": \"#2a3f5f\", \"arrowhead\": 0, \"arrowwidth\": 1}, \"coloraxis\": {\"colorbar\": {\"outlinewidth\": 0, \"ticks\": \"\"}}, \"colorscale\": {\"diverging\": [[0, \"#8e0152\"], [0.1, \"#c51b7d\"], [0.2, \"#de77ae\"], [0.3, \"#f1b6da\"], [0.4, \"#fde0ef\"], [0.5, \"#f7f7f7\"], [0.6, \"#e6f5d0\"], [0.7, \"#b8e186\"], [0.8, \"#7fbc41\"], [0.9, \"#4d9221\"], [1, \"#276419\"]], \"sequential\": [[0.0, \"#0d0887\"], [0.1111111111111111, \"#46039f\"], [0.2222222222222222, \"#7201a8\"], [0.3333333333333333, \"#9c179e\"], [0.4444444444444444, \"#bd3786\"], [0.5555555555555556, \"#d8576b\"], [0.6666666666666666, \"#ed7953\"], [0.7777777777777778, \"#fb9f3a\"], [0.8888888888888888, \"#fdca26\"], [1.0, \"#f0f921\"]], \"sequentialminus\": [[0.0, \"#0d0887\"], [0.1111111111111111, \"#46039f\"], [0.2222222222222222, \"#7201a8\"], [0.3333333333333333, \"#9c179e\"], [0.4444444444444444, \"#bd3786\"], [0.5555555555555556, \"#d8576b\"], [0.6666666666666666, \"#ed7953\"], [0.7777777777777778, \"#fb9f3a\"], [0.8888888888888888, \"#fdca26\"], [1.0, \"#f0f921\"]]}, \"colorway\": [\"#636efa\", \"#EF553B\", \"#00cc96\", \"#ab63fa\", \"#FFA15A\", \"#19d3f3\", \"#FF6692\", \"#B6E880\", \"#FF97FF\", \"#FECB52\"], \"font\": {\"color\": \"#2a3f5f\"}, \"geo\": {\"bgcolor\": \"white\", \"lakecolor\": \"white\", \"landcolor\": \"#E5ECF6\", \"showlakes\": true, \"showland\": true, \"subunitcolor\": \"white\"}, \"hoverlabel\": {\"align\": \"left\"}, \"hovermode\": \"closest\", \"mapbox\": {\"style\": \"light\"}, \"paper_bgcolor\": \"white\", \"plot_bgcolor\": \"#E5ECF6\", \"polar\": {\"angularaxis\": {\"gridcolor\": \"white\", \"linecolor\": \"white\", \"ticks\": \"\"}, \"bgcolor\": \"#E5ECF6\", \"radialaxis\": {\"gridcolor\": \"white\", \"linecolor\": \"white\", \"ticks\": \"\"}}, \"scene\": {\"xaxis\": {\"backgroundcolor\": \"#E5ECF6\", \"gridcolor\": \"white\", \"gridwidth\": 2, \"linecolor\": \"white\", \"showbackground\": true, \"ticks\": \"\", \"zerolinecolor\": \"white\"}, \"yaxis\": {\"backgroundcolor\": \"#E5ECF6\", \"gridcolor\": \"white\", \"gridwidth\": 2, \"linecolor\": \"white\", \"showbackground\": true, \"ticks\": \"\", \"zerolinecolor\": \"white\"}, \"zaxis\": {\"backgroundcolor\": \"#E5ECF6\", \"gridcolor\": \"white\", \"gridwidth\": 2, \"linecolor\": \"white\", \"showbackground\": true, \"ticks\": \"\", \"zerolinecolor\": \"white\"}}, \"shapedefaults\": {\"line\": {\"color\": \"#2a3f5f\"}}, \"ternary\": {\"aaxis\": {\"gridcolor\": \"white\", \"linecolor\": \"white\", \"ticks\": \"\"}, \"baxis\": {\"gridcolor\": \"white\", \"linecolor\": \"white\", \"ticks\": \"\"}, \"bgcolor\": \"#E5ECF6\", \"caxis\": {\"gridcolor\": \"white\", \"linecolor\": \"white\", \"ticks\": \"\"}}, \"title\": {\"x\": 0.05}, \"xaxis\": {\"automargin\": true, \"gridcolor\": \"white\", \"linecolor\": \"white\", \"ticks\": \"\", \"title\": {\"standoff\": 15}, \"zerolinecolor\": \"white\", \"zerolinewidth\": 2}, \"yaxis\": {\"automargin\": true, \"gridcolor\": \"white\", \"linecolor\": \"white\", \"ticks\": \"\", \"title\": {\"standoff\": 15}, \"zerolinecolor\": \"white\", \"zerolinewidth\": 2}}}, \"title\": {\"text\": \"N\\u00famero de tuits por d\\u00eda\"}},                        {\"responsive\": true}                    ).then(function(){\n",
       "                            \n",
       "var gd = document.getElementById('00d2658a-271a-4a78-9f46-d0e3e525c679');\n",
       "var x = new MutationObserver(function (mutations, observer) {{\n",
       "        var display = window.getComputedStyle(gd).display;\n",
       "        if (!display || display === 'none') {{\n",
       "            console.log([gd, 'removed!']);\n",
       "            Plotly.purge(gd);\n",
       "            observer.disconnect();\n",
       "        }}\n",
       "}});\n",
       "\n",
       "// Listen for the removal of the full notebook cells\n",
       "var notebookContainer = gd.closest('#notebook-container');\n",
       "if (notebookContainer) {{\n",
       "    x.observe(notebookContainer, {childList: true});\n",
       "}}\n",
       "\n",
       "// Listen for the clearing of the current output cell\n",
       "var outputEl = gd.closest('.output');\n",
       "if (outputEl) {{\n",
       "    x.observe(outputEl, {childList: true});\n",
       "}}\n",
       "\n",
       "                        })                };                });            </script>        </div>"
      ]
     },
     "metadata": {},
     "output_type": "display_data"
    }
   ],
   "source": [
    "## GRAFICO \n",
    "\n",
    "trace = go.Scatter(x=temp.fecha.values,\n",
    "\n",
    "                    y=temp.cnt.values,\n",
    "\n",
    "                    text=[f\"Fecha: {f}<br>Tuits: {c}\" for f,c in zip(temp.fecha.values,temp.cnt.values)],\n",
    "\n",
    "                    hoverinfo='text',\n",
    "\n",
    "                    mode='lines+markers',\n",
    "\n",
    "                    name='Días',\n",
    "\n",
    "                    line={'color':'#1DA1F2'})\n",
    "layout = go.Layout(title='Número de tuits por día')\n",
    " \n",
    "fig = go.Figure(data=[trace], layout=layout)\n",
    "\n",
    "iplot(fig)"
   ]
  }
 ],
 "metadata": {
  "kernelspec": {
   "display_name": "Python 3",
   "language": "python",
   "name": "python3"
  },
  "language_info": {
   "codemirror_mode": {
    "name": "ipython",
    "version": 3
   },
   "file_extension": ".py",
   "mimetype": "text/x-python",
   "name": "python",
   "nbconvert_exporter": "python",
   "pygments_lexer": "ipython3",
   "version": "3.7.4"
  }
 },
 "nbformat": 4,
 "nbformat_minor": 2
}
